{
 "cells": [
  {
   "cell_type": "code",
   "execution_count": 1,
   "metadata": {},
   "outputs": [],
   "source": [
    "from selenium import webdriver\n",
    "import time"
   ]
  },
  {
   "cell_type": "code",
   "execution_count": null,
   "metadata": {},
   "outputs": [],
   "source": [
    "link = 'https://www.amazon.com/RUNMUS-Surround-Canceling-Compatible-Controller/dp/B07GRM747Y/ref=cm_cr_arp_d_product_top?ie=UTF8'\n",
    "driver = webdriver.Firefox()\n",
    "driver.get(link)"
   ]
  },
  {
   "cell_type": "code",
   "execution_count": null,
   "metadata": {},
   "outputs": [],
   "source": []
  },
  {
   "cell_type": "code",
   "execution_count": null,
   "metadata": {},
   "outputs": [],
   "source": []
  },
  {
   "cell_type": "code",
   "execution_count": null,
   "metadata": {},
   "outputs": [],
   "source": []
  },
  {
   "cell_type": "code",
   "execution_count": 12,
   "metadata": {},
   "outputs": [],
   "source": [
    "def amzon_comment_extracion(link):\n",
    "    \n",
    "    reviews_texts = []\n",
    "    reveiws_date = []\n",
    "    likes = []\n",
    "    author = []\n",
    "    titles = []\n",
    "    \n",
    "    driver = webdriver.Firefox()\n",
    "    driver.get(link)\n",
    "    time.sleep(1.5)\n",
    "    reviews_btn = driver.find_element_by_xpath('//*[@id=\"reviews-medley-footer\"]/div[2]/a')\n",
    "    reviews_btn.click()\n",
    "    time.sleep(1.5)\n",
    "    comments = driver.find_element_by_xpath('//*[@id=\"cm_cr-review_list\"]').find_elements_by_class_name('review')\n",
    "    for comment in comments:\n",
    "        titles.append(comment.find_element_by_class_name('review-title').text)\n",
    "        author.append(comment.find_element_by_class_name(\"a-profile-name\").text)\n",
    "        reviews_texts.append(comment.find_element_by_class_name(\"review-text-content\").text)\n",
    "        reveiws_date.append(comment.find_element_by_class_name(\"review-date\").text)\n",
    "        likes.append(comment.find_element_by_class_name(\"cr-vote-text\").text)\n",
    "        \n",
    "    result = {'Titles':titles,\n",
    "              \"Authors\":author,\n",
    "              'Date':reveiws_date,\n",
    "              'Helpfulness':likes,\n",
    "              \"Reviews' Texts\": reviews_texts}\n",
    "    driver.close()\n",
    "    return result\n",
    "        "
   ]
  },
  {
   "cell_type": "code",
   "execution_count": 13,
   "metadata": {},
   "outputs": [
    {
     "data": {
      "text/plain": [
       "{'Titles': ['The mic is perfect',\n",
       "  'Excellent headset, are made to last.',\n",
       "  \"It's a better product than you'd expect for the price\",\n",
       "  'Solid purchase for xbox one use,',\n",
       "  'Impressive Headset for Gaming',\n",
       "  \"It's great for a budget headset.\",\n",
       "  'Awesome for kids',\n",
       "  'Great price, high quality',\n",
       "  \"I love the speaker size , I'm happy with my purchase.\",\n",
       "  'Comfortable and Great sound!'],\n",
       " 'Authors': ['Lady Lotus',\n",
       "  'Leonardo R.',\n",
       "  'Matthew Sawhill',\n",
       "  'VLT',\n",
       "  'Anthony S',\n",
       "  'Brandon L.',\n",
       "  'J. Hubbard',\n",
       "  'Chhun Hong',\n",
       "  'Marie Daphney Jones',\n",
       "  'Joshua'],\n",
       " 'Date': ['Reviewed in the United States on October 5, 2019',\n",
       "  'Reviewed in the United States on October 1, 2019',\n",
       "  'Reviewed in the United States on July 25, 2019',\n",
       "  'Reviewed in the United States on October 1, 2019',\n",
       "  'Reviewed in the United States on October 2, 2019',\n",
       "  'Reviewed in the United States on October 24, 2019',\n",
       "  'Reviewed in the United States on July 25, 2019',\n",
       "  'Reviewed in the United States on July 28, 2019',\n",
       "  'Reviewed in the United States on July 28, 2019',\n",
       "  'Reviewed in the United States on July 11, 2019'],\n",
       " 'Helpfulness': ['661 people found this helpful',\n",
       "  '448 people found this helpful',\n",
       "  '422 people found this helpful',\n",
       "  '352 people found this helpful',\n",
       "  '351 people found this helpful',\n",
       "  '296 people found this helpful',\n",
       "  '304 people found this helpful',\n",
       "  '303 people found this helpful',\n",
       "  '290 people found this helpful',\n",
       "  '282 people found this helpful'],\n",
       " \"Reviews' Texts\": ['These are the single best pair of headphones I have ever used in my life. They are bulky, strong, soft on the ears, beautiful, top quality for the dollar.\\n\\nThe sound: It does not oversell the surround sound, you will hear everything from every direction as if you were in the battlefield of the badlands. The quality of sound is beautiful as well, not muffling or diluting despite size, crisp and fresh. Noise cancellation? You\\'ll be able to hear enough outside to make sure no one is going to play a game of SAW with you but give you peace of mind. Want more control of volume? No sweat, it comes with a small volume wheel.\\n\\nThe mic: Wonderful work of art. Ignores outside sounds (except mechanical keyboard clicks of a certain type, those are loud.) You will be heard clearly, you will be clearly understandable and able to communicate with the most effect compared to other headsets, and is good at making sure only you are heard. Need to insta-mute that mic? It comes with a button that turns it off before anyone can hear what\\'s going on.\\n\\nHow does it feel? It surrounds and cups the ear, instead of pressing tightly against the tips and giving those horrible headaches. It gives your ears breathing room and the protein foam for the top of your skull is so pleasant that you can easily forget it\\'s even there. The mic is comfortable to move around without getting in my way. Out of mind, the only thing you\\'ll focus on is the sound blessing your ears. Want to wear it for three days in a row in your chair without visiting the bathroom and having a system of snacks and drinks at your desk for that ultimate WoW session? Go right ahead, it won\\'t feel any different than when you put it on to begin with.\\n\\nWill they break easily? NO. These things are built like tanks for your skull, if you drop it, it will brush it off and laugh at the poor attempt to even crack it. This thing might even be a good tool for self defense with how strong it is, these aren\\'t poor quality materials.\\n\\nHow does it look? It looks like you\\'re about to perform an impossible feat on your new favorite game. It\\'s beautifully designed, has a red glare that will bring fear into your fellow gaming buddies when you hear their every breath in the game. They are equipped for any situation, they are scary to be against, and highly fashionable to show off and brag to your fellow gamers on Twitch and Steam. They are thick, but that makes this beast seem even bigger and more dominating than those sad little Skullcandy mobile headphones.\\n\\nWhat can I use it on? If it has either a USB port or can take those little round plugs, congratulations, this works on it. PC is what I use it on, but if I wanted to I could use it on any other single device a gamer could ever imagine using. Even old systems take this beast and let them in, it is perfect.\\n\\nPrice vs Quality: Anything that claims to be better will either be a liar or something extraordinarily developed and thus be very costly. This competes with other more costly \"top rated\" headphones. This packs the features, the looks, the comfort, and the durability all for a considerable price that anyone would be right to simply choose this on first sight. I almost was a foolish mortal and thought about others, but no, I made the right choice to take this set and buy it. If it ever breaks I will be surprised and heartbroken. It has improved everything in my games, I cannot possibly appreciate any headphones more than this.\\n\\nYou will regret not knowing what beauty is here before you by buying some lame headset for more of a price, because I feel very comfortable that this one will certainly out compete it without a SINGLE QUESTION. Buy it sooner than later, TREAT YOURSELF. I will be getting another for my brother without a doubt.',\n",
       "  'The product complies with everything the manufacturer promises and the following aspects can be highlighted:\\n\\n1. The headset is quite comfortable, the material of the pads is very soft, which allows them to be used for a long time while the game is going on.\\n\\n2. The headset aid is made of excellent materials, which makes it very robust.\\n\\n3. The cable is long enough, and the volume control gives the user a lot of freedom to raise or lower the volume quickly when needed, without having to pause the game or get too close to the console or PC.\\n\\n4. The maximum volume it provides seems appropriate for long gaming sessions, since the idea is to enjoy the game and not damage the ears.',\n",
       "  \"Throughout this review, keep in mind that I'm comparing this headset to my brother's $100+ headset. People usually start with the pros, so here are the cons first:\\nCONS:\\n1.) Your ears get warm playing for any length of time which I'm getting used to. In comparison to my bro's headset, the earcups around the ear don't even touch your ear, giving ventilation to the ear to keep it cool.\\n2.) It's wired, which isn't a bad thing necessarily, but the wire is just over 6 feet in length and can get caught on things when you're moving it. Maybe the long wire would be good for the XboxOne (IDK), but for the Playstation 4 all you need to do is plug it directly into the controller, and it automatically connects to the system, so you'd only maybe need half the length that they give you. My bro's headset is wireless.\\n\\nThat's it for the cons, as for the pros:\\nPROS:\\n1.) Comfortable. It's heavily padded around the ears and the top of the headset where it rests on your head. I've worn this for 5 or 6 hours straight, and it still felt extremely comfortable. My bro's headset is similarly comfortable, maybe slightly better, but not by much.\\n2.) The sound is great. My brother's headset claims 3D sound with amazing clarity, but in comparison, I've found that there isn't a great difference (if any!) with this headset and his own.\\n3.) The microphone works crisp, even though I only sometimes hear echos of myself through other people's TV's, I've told they're clear by other players.\\n4.) I've only owned this headset for two weeks, but feels well made, and you can definitely tell they built it smart, even though there's a lot of hard plastic covering the expensive materials, it's sturdy. However, if I were to compare it with my bro's headset, there would be a measurable difference between the two in weight and materials used (on the outside). Like I said, the inside seems like the best part (which is the part that matters, I believe).\\n\\nSo, if you're looking for a $28 dollar headset, then get this one. If you're wanting to spend $100+ dollars on a headset, you can find some marginally better in almost every way. Just depends if you want to spend another $80 dollars, or if you want to get a good quality product from a seemingly smart respectable company.\",\n",
       "  'to keep it short and simple, I play on the Xbox one, I have had zero issues with this headset, no issues or interference conveying my voice or hearing others in a chat, the 50MM magnets work well and I can turn the volume plenty high, and I trust this cable to last, this has been an outstanding value for the $25, I do not see a reason to choose a more expensive headset unless you are more concerned with picking out your style.',\n",
       "  \"Purchased these because my other headset wasn't working and after reading the reviews on these, I said what the heck. I received them Sunday night and so far they are excellent. The sound quality is really good and the noise cancellation is awesome. They are pretty comfortable as well although they do feel a tad bit heavy but I'm sure I will get used to them. I like the Red Lights on them but I won't be using that at all. Overall, I am very satisfied with my purchase. You can't go wrong with the price of these for playing video games.\",\n",
       "  'The sound is great, the microphone works, what more could you need from a headset? By default it has one 3.5mm headphone jack but comes with an adapter so you can plug individually into headphone and microphone ports on your PC. The headset also has a USB port that just lights up the device. I ran into some minor issues when using this and contacted their customer support. Their customer support got back to me very quickly and we were able to resolve the issue.',\n",
       "  \"I bought this for my 8 year old son to talk to his cousin while playing Fortnite. He's not allowed to talk to strangers online, so I love that you can mute the microphone right from the cord instead of having to go into the game settings to mute it. It's very flexible, which is a huge plus, since my son tends to drop and break everything. Both he and I have worn the headset to play Fortnite and the sound quality is fantastic for less than $30. Also, the headset is surprisingly comfortable. Even my 4 year old likes wearing it. The lights are cool, but I need to buy a USB extension to use them. It is a little awkward having a cord plugged into the controller and another cord plugged into the back of the tv (our nearest USB input), but my son doesn't seem to mind. Overall, we're very pleased with our purchase!\",\n",
       "  \"I bought this headset for my nephew, who enjoys gaming a lot. Here is his opinion on it.\\n\\nI have been using this product for several months now and it does not disappoint. The mic quality is crystal clear, and my gaming friends noticed its high quality immediately. The ear cuffs are somewhat large, however, they are by no means uncomfortable. The volume adjustments on the cable are very convenient and so is the ability to mute the microphone whenever, with a single flip of the switch. This headset requires a USB connection for the LED lights to appear, and they look flashy and cool. The sound quality is amazing and much better than my previous headset, which cost nearly $100. The headset's noise cancellation works well and my gaming friends are unable to hear annoying background noises when I am using it. Overall, great buy for its price and would definitely recommend.\",\n",
       "  \"Adobe Flash Player is required to watch this video.\\nInstall Flash Player\\n Thank you so much, I love everything about my professional gaming headset, happy happy,I'm ready to make noise playing 2k19\",\n",
       "  'Out of the box it\\'s simple to set up, just plug in and your\\'e ready to go. If using the usb the lights on the headset light up and look great! The first thing I noticed was the size and comfort. They are thick and made well and the ear pads are very soft and don\\'t feel like they are pressing hard either.\\nI was using them on the PS4 and only needed to plug in the 3mm cable into the controller for full audio and microphone for voice chat. When I used the USB in the system the set lit up and the audio was perfect, however the microphone didn\\'t work.\\nI highly recommend these. The comfort and sound are far past the price point. These are more comfortable than the \"Playstation Gold Headset\" they replaced that were also over 3x\\'s the cost.']}"
      ]
     },
     "execution_count": 13,
     "metadata": {},
     "output_type": "execute_result"
    }
   ],
   "source": [
    "link = 'https://www.amazon.com/RUNMUS-Surround-Canceling-Compatible-Controller/dp/B07GRM747Y/ref=cm_cr_arp_d_product_top?ie=UTF8'\n",
    "result = amzon_comment_extracion(link)\n",
    "result"
   ]
  },
  {
   "cell_type": "code",
   "execution_count": 14,
   "metadata": {},
   "outputs": [
    {
     "data": {
      "text/plain": [
       "10"
      ]
     },
     "execution_count": 14,
     "metadata": {},
     "output_type": "execute_result"
    }
   ],
   "source": [
    "len(result['Titles'])"
   ]
  },
  {
   "cell_type": "code",
   "execution_count": null,
   "metadata": {},
   "outputs": [],
   "source": []
  }
 ],
 "metadata": {
  "kernelspec": {
   "display_name": "Python 3",
   "language": "python",
   "name": "python3"
  },
  "language_info": {
   "codemirror_mode": {
    "name": "ipython",
    "version": 3
   },
   "file_extension": ".py",
   "mimetype": "text/x-python",
   "name": "python",
   "nbconvert_exporter": "python",
   "pygments_lexer": "ipython3",
   "version": "3.6.9"
  }
 },
 "nbformat": 4,
 "nbformat_minor": 4
}
