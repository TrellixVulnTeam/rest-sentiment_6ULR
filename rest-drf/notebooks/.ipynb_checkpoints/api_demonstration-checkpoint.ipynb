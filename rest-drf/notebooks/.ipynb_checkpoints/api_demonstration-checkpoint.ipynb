{
 "cells": [
  {
   "cell_type": "code",
   "execution_count": 2,
   "metadata": {},
   "outputs": [],
   "source": [
    "import requests\n",
    "from urllib.parse import urlparse"
   ]
  },
  {
   "cell_type": "markdown",
   "metadata": {},
   "source": [
    "## rest_sentiment API Request"
   ]
  },
  {
   "cell_type": "markdown",
   "metadata": {},
   "source": [
    "To call this API, we would post a dictionary object with the following formation, conveying the text we want to apply a Sentiment Analysis on and we would recieve a dictionary with four float numbers identical to values corresponding to the following sentiment types:\n",
    "\n",
    "'neg' for Negative\n",
    "'neu' for Neutral\n",
    "'pos' for Positive\n",
    "'compound' for Compund (Special scoring attribute, developed by the Vader library)"
   ]
  },
  {
   "cell_type": "code",
   "execution_count": 2,
   "metadata": {},
   "outputs": [
    {
     "data": {
      "text/plain": [
       "<Response [200]>"
      ]
     },
     "execution_count": 2,
     "metadata": {},
     "output_type": "execute_result"
    }
   ],
   "source": [
    "postRequest = requests.post('http://127.0.0.1:8000/sentiment/',data = {'sen': \"VADER is smart, handsome, and funny.\"})\n",
    "postRequest"
   ]
  },
  {
   "cell_type": "code",
   "execution_count": 3,
   "metadata": {},
   "outputs": [
    {
     "data": {
      "text/plain": [
       "{'neg': 0.0, 'neu': 0.254, 'pos': 0.746, 'compound': 0.8316}"
      ]
     },
     "execution_count": 3,
     "metadata": {},
     "output_type": "execute_result"
    }
   ],
   "source": [
    "postRequest.json()"
   ]
  },
  {
   "cell_type": "markdown",
   "metadata": {},
   "source": [
    "## amazon_sentiment API Request"
   ]
  },
  {
   "cell_type": "code",
   "execution_count": 4,
   "metadata": {},
   "outputs": [
    {
     "data": {
      "text/plain": [
       "<Response [200]>"
      ]
     },
     "execution_count": 4,
     "metadata": {},
     "output_type": "execute_result"
    }
   ],
   "source": [
    "postRequest = requests.post('http://127.0.0.1:8000/amazon/',data = {'link': \"https://www.amazon.com/RUNMUS-Surround-Canceling-Compatible-Controller/dp/B07GRM747Y/ref=cm_cr_arp_d_product_top?ie=UTF8\"})\n",
    "postRequest"
   ]
  },
  {
   "cell_type": "code",
   "execution_count": 5,
   "metadata": {},
   "outputs": [
    {
     "data": {
      "text/plain": [
       "{'Titles': ['The mic is perfect',\n",
       "  'Excellent headset, are made to last.',\n",
       "  \"It's a better product than you'd expect for the price\",\n",
       "  'Solid purchase for xbox one use,',\n",
       "  'Impressive Headset for Gaming',\n",
       "  \"It's great for a budget headset.\",\n",
       "  'Great price, high quality',\n",
       "  'Awesome for kids',\n",
       "  'Awesome Headset for the price',\n",
       "  'One of my best \"Cheaper\" purchases.'],\n",
       " 'Authors': ['Lady Lotus',\n",
       "  'Leonardo R.',\n",
       "  'Matthew Sawhill',\n",
       "  'VLT',\n",
       "  'Anthony S',\n",
       "  'Brandon L.',\n",
       "  'Chhun Hong',\n",
       "  'J. Hubbard',\n",
       "  'Josh K',\n",
       "  'David'],\n",
       " 'Date': ['Reviewed in the United States on October 5, 2019',\n",
       "  'Reviewed in the United States on October 1, 2019',\n",
       "  'Reviewed in the United States on July 25, 2019',\n",
       "  'Reviewed in the United States on October 1, 2019',\n",
       "  'Reviewed in the United States on October 2, 2019',\n",
       "  'Reviewed in the United States on October 24, 2019',\n",
       "  'Reviewed in the United States on July 28, 2019',\n",
       "  'Reviewed in the United States on July 25, 2019',\n",
       "  'Reviewed in the United States on July 21, 2019',\n",
       "  'Reviewed in the United States on July 12, 2019'],\n",
       " 'Helpfulness': ['731 people found this helpful',\n",
       "  '454 people found this helpful',\n",
       "  '439 people found this helpful',\n",
       "  '356 people found this helpful',\n",
       "  '347 people found this helpful',\n",
       "  '293 people found this helpful',\n",
       "  '308 people found this helpful',\n",
       "  '306 people found this helpful',\n",
       "  '266 people found this helpful',\n",
       "  '262 people found this helpful'],\n",
       " \"Reviews' Texts\": ['These are the single best pair of headphones I have ever used in my life. They are bulky, strong, soft on the ears, beautiful, top quality for the dollar.\\n\\nThe sound: It does not oversell the surround sound, you will hear everything from every direction as if you were in the battlefield of the badlands. The quality of sound is beautiful as well, not muffling or diluting despite size, crisp and fresh. Noise cancellation? You\\'ll be able to hear enough outside to make sure no one is going to play a game of SAW with you but give you peace of mind. Want more control of volume? No sweat, it comes with a small volume wheel.\\n\\nThe mic: Wonderful work of art. Ignores outside sounds (except mechanical keyboard clicks of a certain type, those are loud.) You will be heard clearly, you will be clearly understandable and able to communicate with the most effect compared to other headsets, and is good at making sure only you are heard. Need to insta-mute that mic? It comes with a button that turns it off before anyone can hear what\\'s going on.\\n\\nHow does it feel? It surrounds and cups the ear, instead of pressing tightly against the tips and giving those horrible headaches. It gives your ears breathing room and the protein foam for the top of your skull is so pleasant that you can easily forget it\\'s even there. The mic is comfortable to move around without getting in my way. Out of mind, the only thing you\\'ll focus on is the sound blessing your ears. Want to wear it for three days in a row in your chair without visiting the bathroom and having a system of snacks and drinks at your desk for that ultimate WoW session? Go right ahead, it won\\'t feel any different than when you put it on to begin with.\\n\\nWill they break easily? NO. These things are built like tanks for your skull, if you drop it, it will brush it off and laugh at the poor attempt to even crack it. This thing might even be a good tool for self defense with how strong it is, these aren\\'t poor quality materials.\\n\\nHow does it look? It looks like you\\'re about to perform an impossible feat on your new favorite game. It\\'s beautifully designed, has a red glare that will bring fear into your fellow gaming buddies when you hear their every breath in the game. They are equipped for any situation, they are scary to be against, and highly fashionable to show off and brag to your fellow gamers on Twitch and Steam. They are thick, but that makes this beast seem even bigger and more dominating than those sad little Skullcandy mobile headphones.\\n\\nWhat can I use it on? If it has either a USB port or can take those little round plugs, congratulations, this works on it. PC is what I use it on, but if I wanted to I could use it on any other single device a gamer could ever imagine using. Even old systems take this beast and let them in, it is perfect.\\n\\nPrice vs Quality: Anything that claims to be better will either be a liar or something extraordinarily developed and thus be very costly. This competes with other more costly \"top rated\" headphones. This packs the features, the looks, the comfort, and the durability all for a considerable price that anyone would be right to simply choose this on first sight. I almost was a foolish mortal and thought about others, but no, I made the right choice to take this set and buy it. If it ever breaks I will be surprised and heartbroken. It has improved everything in my games, I cannot possibly appreciate any headphones more than this.\\n\\nYou will regret not knowing what beauty is here before you by buying some lame headset for more of a price, because I feel very comfortable that this one will certainly out compete it without a SINGLE QUESTION. Buy it sooner than later, TREAT YOURSELF. I will be getting another for my brother without a doubt.',\n",
       "  'The product complies with everything the manufacturer promises and the following aspects can be highlighted:\\n\\n1. The headset is quite comfortable, the material of the pads is very soft, which allows them to be used for a long time while the game is going on.\\n\\n2. The headset aid is made of excellent materials, which makes it very robust.\\n\\n3. The cable is long enough, and the volume control gives the user a lot of freedom to raise or lower the volume quickly when needed, without having to pause the game or get too close to the console or PC.\\n\\n4. The maximum volume it provides seems appropriate for long gaming sessions, since the idea is to enjoy the game and not damage the ears.',\n",
       "  \"Throughout this review, keep in mind that I'm comparing this headset to my brother's $100+ headset. People usually start with the pros, so here are the cons first:\\nCONS:\\n1.) Your ears get warm playing for any length of time which I'm getting used to. In comparison to my bro's headset, the earcups around the ear don't even touch your ear, giving ventilation to the ear to keep it cool.\\n2.) It's wired, which isn't a bad thing necessarily, but the wire is just over 6 feet in length and can get caught on things when you're moving it. Maybe the long wire would be good for the XboxOne (IDK), but for the Playstation 4 all you need to do is plug it directly into the controller, and it automatically connects to the system, so you'd only maybe need half the length that they give you. My bro's headset is wireless.\\n\\nThat's it for the cons, as for the pros:\\nPROS:\\n1.) Comfortable. It's heavily padded around the ears and the top of the headset where it rests on your head. I've worn this for 5 or 6 hours straight, and it still felt extremely comfortable. My bro's headset is similarly comfortable, maybe slightly better, but not by much.\\n2.) The sound is great. My brother's headset claims 3D sound with amazing clarity, but in comparison, I've found that there isn't a great difference (if any!) with this headset and his own.\\n3.) The microphone works crisp, even though I only sometimes hear echos of myself through other people's TV's, I've told they're clear by other players.\\n4.) I've only owned this headset for two weeks, but feels well made, and you can definitely tell they built it smart, even though there's a lot of hard plastic covering the expensive materials, it's sturdy. However, if I were to compare it with my bro's headset, there would be a measurable difference between the two in weight and materials used (on the outside). Like I said, the inside seems like the best part (which is the part that matters, I believe).\\n\\nSo, if you're looking for a $28 dollar headset, then get this one. If you're wanting to spend $100+ dollars on a headset, you can find some marginally better in almost every way. Just depends if you want to spend another $80 dollars, or if you want to get a good quality product from a seemingly smart respectable company.\",\n",
       "  'to keep it short and simple, I play on the Xbox one, I have had zero issues with this headset, no issues or interference conveying my voice or hearing others in a chat, the 50MM magnets work well and I can turn the volume plenty high, and I trust this cable to last, this has been an outstanding value for the $25, I do not see a reason to choose a more expensive headset unless you are more concerned with picking out your style.',\n",
       "  \"Purchased these because my other headset wasn't working and after reading the reviews on these, I said what the heck. I received them Sunday night and so far they are excellent. The sound quality is really good and the noise cancellation is awesome. They are pretty comfortable as well although they do feel a tad bit heavy but I'm sure I will get used to them. I like the Red Lights on them but I won't be using that at all. Overall, I am very satisfied with my purchase. You can't go wrong with the price of these for playing video games.\",\n",
       "  'The sound is great, the microphone works, what more could you need from a headset? By default it has one 3.5mm headphone jack but comes with an adapter so you can plug individually into headphone and microphone ports on your PC. The headset also has a USB port that just lights up the device. I ran into some minor issues when using this and contacted their customer support. Their customer support got back to me very quickly and we were able to resolve the issue.',\n",
       "  \"I bought this headset for my nephew, who enjoys gaming a lot. Here is his opinion on it.\\n\\nI have been using this product for several months now and it does not disappoint. The mic quality is crystal clear, and my gaming friends noticed its high quality immediately. The ear cuffs are somewhat large, however, they are by no means uncomfortable. The volume adjustments on the cable are very convenient and so is the ability to mute the microphone whenever, with a single flip of the switch. This headset requires a USB connection for the LED lights to appear, and they look flashy and cool. The sound quality is amazing and much better than my previous headset, which cost nearly $100. The headset's noise cancellation works well and my gaming friends are unable to hear annoying background noises when I am using it. Overall, great buy for its price and would definitely recommend.\",\n",
       "  \"I bought this for my 8 year old son to talk to his cousin while playing Fortnite. He's not allowed to talk to strangers online, so I love that you can mute the microphone right from the cord instead of having to go into the game settings to mute it. It's very flexible, which is a huge plus, since my son tends to drop and break everything. Both he and I have worn the headset to play Fortnite and the sound quality is fantastic for less than $30. Also, the headset is surprisingly comfortable. Even my 4 year old likes wearing it. The lights are cool, but I need to buy a USB extension to use them. It is a little awkward having a cord plugged into the controller and another cord plugged into the back of the tv (our nearest USB input), but my son doesn't seem to mind. Overall, we're very pleased with our purchase!\",\n",
       "  \"This is a really nice headset for the price. The band across the top feels a little cheap (read: weak), but it has lasted for a couple of months of heavy usage. The bass response is great, and it has long term comfortability. The leds (if you're into that) work great, but if you don't want to use them, just don't plug in the USB cord, as the audio is via a 3.5mm jack, not USB.\",\n",
       "  'SO I used to use a simple single wire $20 gaming headset made by Hades. They were a cursed brand for me, I always broke the jack. I went through three, lol. I bought these due to the fact I was getting tied of just using skull candy earbuds for my Xbox. I found this nice headset that can be used for my PC and Xbox, at a lower cost too, so I figured, why not?\\n\\n- Sound Quality\\nThe quality I am very satisfied with, including its 7.1 surround sound capabilities. It helps me in FPS shooters like Siege trying to listen for enemies. The bass in it sounds pretty good, but when I \"Good\" its noticeable but I like me a hearty bass from deep within my heart... Otherwise the sounds are really nice and no complaints from there.\\n\\n- Comfort?\\nThe pads on the Ears and across the scalp are actually quite comfy. If you no life some games for like 8+ hours, its understandable when your ears are tired of being pushed back a little, so mine are small enough to tuck a bit into the speaker areal. That\\'s where as a personal request if there could be a foam padding between the speaker and the mesh that covers it, for those who have small ears. I don\\'t have much say, as the producer are the engineers...\\n\\n- Summary\\nGood for when you\\'re trying for a starter gaming headset... The sound does work without the USB plugged in, you just wont get ya fancy lights. This does work with just the jack in the Xbox One S, as it is a newer controller and not needing the adapter. (Your choice if you still wish to buy the adapter if it makes you more comfortable.)'],\n",
       " \"Reviews' Texts Sentiment\": [{'neg': 0.082,\n",
       "   'neu': 0.735,\n",
       "   'pos': 0.183,\n",
       "   'compound': 0.9979},\n",
       "  {'neg': 0.016, 'neu': 0.825, 'pos': 0.159, 'compound': 0.9657},\n",
       "  {'neg': 0.024, 'neu': 0.783, 'pos': 0.193, 'compound': 0.9976},\n",
       "  {'neg': 0.023, 'neu': 0.826, 'pos': 0.15, 'compound': 0.9001},\n",
       "  {'neg': 0.0, 'neu': 0.76, 'pos': 0.24, 'compound': 0.9768},\n",
       "  {'neg': 0.0, 'neu': 0.861, 'pos': 0.139, 'compound': 0.9194},\n",
       "  {'neg': 0.027, 'neu': 0.755, 'pos': 0.218, 'compound': 0.9856},\n",
       "  {'neg': 0.027, 'neu': 0.837, 'pos': 0.136, 'compound': 0.9399},\n",
       "  {'neg': 0.036, 'neu': 0.796, 'pos': 0.168, 'compound': 0.9273},\n",
       "  {'neg': 0.036, 'neu': 0.806, 'pos': 0.159, 'compound': 0.9911}],\n",
       " \"Reviews Titles' Sentiment\": [{'neg': 0.0,\n",
       "   'neu': 0.448,\n",
       "   'pos': 0.552,\n",
       "   'compound': 0.5719},\n",
       "  {'neg': 0.0, 'neu': 0.575, 'pos': 0.425, 'compound': 0.5719},\n",
       "  {'neg': 0.0, 'neu': 0.756, 'pos': 0.244, 'compound': 0.4404},\n",
       "  {'neg': 0.0, 'neu': 0.758, 'pos': 0.242, 'compound': 0.1531},\n",
       "  {'neg': 0.0, 'neu': 0.476, 'pos': 0.524, 'compound': 0.5106},\n",
       "  {'neg': 0.0, 'neu': 0.549, 'pos': 0.451, 'compound': 0.6249},\n",
       "  {'neg': 0.0, 'neu': 0.423, 'pos': 0.577, 'compound': 0.6249},\n",
       "  {'neg': 0.0, 'neu': 0.328, 'pos': 0.672, 'compound': 0.6249},\n",
       "  {'neg': 0.0, 'neu': 0.494, 'pos': 0.506, 'compound': 0.6249},\n",
       "  {'neg': 0.0, 'neu': 0.543, 'pos': 0.457, 'compound': 0.6369}]}"
      ]
     },
     "execution_count": 5,
     "metadata": {},
     "output_type": "execute_result"
    }
   ],
   "source": [
    "postRequest.json()"
   ]
  },
  {
   "cell_type": "markdown",
   "metadata": {},
   "source": [
    "# instagram_sentiment API Request"
   ]
  },
  {
   "cell_type": "code",
   "execution_count": 5,
   "metadata": {},
   "outputs": [
    {
     "data": {
      "text/plain": [
       "<Response [200]>"
      ]
     },
     "execution_count": 5,
     "metadata": {},
     "output_type": "execute_result"
    }
   ],
   "source": [
    "postRequest = requests.post('http://127.0.0.1:8000/instagram/',data = {'link': \"https://www.instagram.com/p/BvNyVKtlfwN/\"})\n",
    "postRequest"
   ]
  },
  {
   "cell_type": "code",
   "execution_count": 6,
   "metadata": {
    "scrolled": true
   },
   "outputs": [
    {
     "data": {
      "text/plain": [
       "{'link': 'https://www.instagram.com/p/BvNyVKtlfwN/',\n",
       " 'user': 'themelissarauch',\n",
       " 'verification': 'Verified',\n",
       " 'desc': 'Mirror, Mirror on the @bigbangtheory_cbs makeup room wall, who is shamelessly taking selfies in you during tape night?',\n",
       " 'score': {'neg': 0.124, 'neu': 0.876, 'pos': 0.0, 'compound': -0.34},\n",
       " 'comments': [{'user': 'sanz_dl',\n",
       "   'text': '😍😍❤️❤️',\n",
       "   'stats': '68wReply',\n",
       "   'scores': {'neg': 0.0, 'neu': 0.625, 'pos': 0.375, 'compound': 0.7184}},\n",
       "  {'user': 'forgereaper',\n",
       "   'text': 'Perfection🙌',\n",
       "   'stats': '68wReply',\n",
       "   'scores': {'neg': 0.0, 'neu': 0.351, 'pos': 0.649, 'compound': 0.5719}},\n",
       "  {'user': 'francisco_marin_1979',\n",
       "   'text': 'TE AMO ❤️❤️❤️❤️❤️',\n",
       "   'stats': '68wReply',\n",
       "   'scores': {'neg': 0.0, 'neu': 1.0, 'pos': 0.0, 'compound': 0.0}},\n",
       "  {'user': 'raul_sg90',\n",
       "   'text': '❤️❤️❤️❤️❤️',\n",
       "   'stats': '68wReply',\n",
       "   'scores': {'neg': 0.0, 'neu': 1.0, 'pos': 0.0, 'compound': 0.0}},\n",
       "  {'user': 'starfucker57',\n",
       "   'text': 'You are so beautiful !',\n",
       "   'stats': '68wReply',\n",
       "   'scores': {'neg': 0.0, 'neu': 0.431, 'pos': 0.569, 'compound': 0.7417}},\n",
       "  {'user': 'thebobbrooks',\n",
       "   'text': 'Very cute photo Melissa. I enjoyed visiting with you after the taping a few weeks ago. Best wishes as you are completing the final few tapings. Hang in there. Bob.',\n",
       "   'stats': '68w1 likeReply',\n",
       "   'scores': {'neg': 0.0, 'neu': 0.677, 'pos': 0.323, 'compound': 0.908}},\n",
       "  {'user': 'huibei1',\n",
       "   'text': 'beautiful',\n",
       "   'stats': '68wReply',\n",
       "   'scores': {'neg': 0.0, 'neu': 0.0, 'pos': 1.0, 'compound': 0.5994}},\n",
       "  {'user': 'richardwilhelmhohenzollern',\n",
       "   'text': 'Awesome Mrs. Rauch',\n",
       "   'stats': '68wReply',\n",
       "   'scores': {'neg': 0.0, 'neu': 0.328, 'pos': 0.672, 'compound': 0.6249}},\n",
       "  {'user': 'shivanshprakashpal97',\n",
       "   'text': 'Some 1 is beautiful so 😗😗',\n",
       "   'stats': '68wReply',\n",
       "   'scores': {'neg': 0.0, 'neu': 0.322, 'pos': 0.678, 'compound': 0.9274}},\n",
       "  {'user': 'ibbilidstone',\n",
       "   'text': 'Beautiful girl 🌹💜',\n",
       "   'stats': '67wReply',\n",
       "   'scores': {'neg': 0.0, 'neu': 0.27, 'pos': 0.73, 'compound': 0.8442}},\n",
       "  {'user': 'walden1968',\n",
       "   'text': 'You are so beautiful🔥🔥',\n",
       "   'stats': '66wReply',\n",
       "   'scores': {'neg': 0.401, 'neu': 0.225, 'pos': 0.374, 'compound': 0.1653}},\n",
       "  {'user': 'kirstis_not_so_secret_diary',\n",
       "   'text': 'The cutie that I’m looking at❤️',\n",
       "   'stats': '15wReply',\n",
       "   'scores': {'neg': 0.0, 'neu': 0.737, 'pos': 0.263, 'compound': 0.3612}}]}"
      ]
     },
     "execution_count": 6,
     "metadata": {},
     "output_type": "execute_result"
    }
   ],
   "source": [
    "postRequest.json()"
   ]
  },
  {
   "cell_type": "markdown",
   "metadata": {},
   "source": [
    "# imdb_sentiment API Request"
   ]
  },
  {
   "cell_type": "code",
   "execution_count": 7,
   "metadata": {},
   "outputs": [
    {
     "data": {
      "text/plain": [
       "<Response [200]>"
      ]
     },
     "execution_count": 7,
     "metadata": {},
     "output_type": "execute_result"
    }
   ],
   "source": [
    "postRequest = requests.post('http://127.0.0.1:8000/imdb/',data = {'link': \"https://www.imdb.com/title/tt0276919/?ref_=nv_sr_srsg_0\"})\n",
    "postRequest"
   ]
  },
  {
   "cell_type": "code",
   "execution_count": 8,
   "metadata": {},
   "outputs": [
    {
     "data": {
      "text/plain": [
       "{'movie': 'Dogville ',\n",
       " 'year': '                 (2003)',\n",
       " 'users': ['Viz79',\n",
       "  'Benedict_Cumberbatch',\n",
       "  'ffc_home',\n",
       "  'RayRoko',\n",
       "  'Ricky_Roma__',\n",
       "  'so4',\n",
       "  'honorhorror',\n",
       "  'pisanond',\n",
       "  'claudio_carvalho',\n",
       "  'miriamgaynor',\n",
       "  'ale82pineapple',\n",
       "  'bob the moo',\n",
       "  'gouge_away',\n",
       "  'joeh-7',\n",
       "  'obscure105',\n",
       "  'peter-ramshaw-1',\n",
       "  'Satine_25',\n",
       "  'tafroydis',\n",
       "  'beerme',\n",
       "  'ernestosan',\n",
       "  'Lady_Targaryen',\n",
       "  'kernwilson',\n",
       "  'diand_',\n",
       "  'lkarnis-354-211893',\n",
       "  'mwmfornow'],\n",
       " 'reviews_date': ['3 November 2004',\n",
       "  '3 March 2006',\n",
       "  '28 August 2005',\n",
       "  '23 December 2003',\n",
       "  '18 June 2005',\n",
       "  '3 September 2004',\n",
       "  '30 November 2009',\n",
       "  '26 December 2004',\n",
       "  '7 July 2004',\n",
       "  '5 September 2008',\n",
       "  '11 November 2004',\n",
       "  '25 February 2004',\n",
       "  '29 November 2004',\n",
       "  '24 October 2004',\n",
       "  '8 January 2005',\n",
       "  '1 February 2007',\n",
       "  '2 August 2007',\n",
       "  '2 September 2003',\n",
       "  '29 March 2004',\n",
       "  '29 December 2003',\n",
       "  '5 March 2006',\n",
       "  '23 October 2014',\n",
       "  '17 August 2005',\n",
       "  '25 April 2012',\n",
       "  '3 April 2005'],\n",
       " 'titles': [' One of the bravest observations on the truth of humanity\\n',\n",
       "  ' A Disturbing Sense of Illustration\\n',\n",
       "  ' Hard to digest, but great.\\n',\n",
       "  ' Exploration of the darkness of the human soul\\n',\n",
       "  ' People as animals (spoilers throughout)\\n',\n",
       "  ' Incredible!!!\\n',\n",
       "  ' Are you shivering after seeing Dogville? I am.\\n',\n",
       "  ' A brilliant film\\n',\n",
       "  ' Unforgettable Bitter Play About a Town, Which Did Not Deserve To Be On the Map, and Its Disgusting Dwellers\\n',\n",
       "  ' A film which is stunning in its simplicity.\\n',\n",
       "  ' A lyric movie about society\\n',\n",
       "  ' Morally challenging but still a gripping, well written and well acted film\\n',\n",
       "  ' Reference to Edison a criticism of contemporary films?\\n',\n",
       "  ' Not as anti-American as you might think.\\n',\n",
       "  ' What I got myself into...an unbelievable film.\\n',\n",
       "  ' Dumb people still watch movies\\n',\n",
       "  ' A Different But Entirely Wonderful Film\\n',\n",
       "  ' This movie is SO overrated! (SOME SPOILERS!!)\\n',\n",
       "  ' Pretentious\\n',\n",
       "  \" It is God's Will In Dogville...\\n\",\n",
       "  ' A quiet little town not far from here....\\n',\n",
       "  ' Introducing: Live-action books on tape\\n',\n",
       "  ' A tale of morality\\n',\n",
       "  ' 3 hours of tedium\\n',\n",
       "  ' Lars Von Trier Should Seek Medical Attention Immediately\\n'],\n",
       " 'titles_sentiment': [{'neg': 0.0,\n",
       "   'neu': 0.588,\n",
       "   'pos': 0.412,\n",
       "   'compound': 0.6808},\n",
       "  {'neg': 0.452, 'neu': 0.548, 'pos': 0.0, 'compound': -0.5106},\n",
       "  {'neg': 0.122, 'neu': 0.305, 'pos': 0.574, 'compound': 0.7543},\n",
       "  {'neg': 0.202, 'neu': 0.606, 'pos': 0.192, 'compound': -0.0258},\n",
       "  {'neg': 0.0, 'neu': 1.0, 'pos': 0.0, 'compound': 0.0},\n",
       "  {'neg': 0.0, 'neu': 1.0, 'pos': 0.0, 'compound': 0.0},\n",
       "  {'neg': 0.0, 'neu': 1.0, 'pos': 0.0, 'compound': 0.0},\n",
       "  {'neg': 0.0, 'neu': 0.345, 'pos': 0.655, 'compound': 0.5859},\n",
       "  {'neg': 0.301, 'neu': 0.602, 'pos': 0.096, 'compound': -0.6249},\n",
       "  {'neg': 0.0, 'neu': 0.729, 'pos': 0.271, 'compound': 0.3818},\n",
       "  {'neg': 0.0, 'neu': 1.0, 'pos': 0.0, 'compound': 0.0},\n",
       "  {'neg': 0.0, 'neu': 0.577, 'pos': 0.423, 'compound': 0.6808},\n",
       "  {'neg': 0.293, 'neu': 0.707, 'pos': 0.0, 'compound': -0.4404},\n",
       "  {'neg': 0.0, 'neu': 1.0, 'pos': 0.0, 'compound': 0.0},\n",
       "  {'neg': 0.0, 'neu': 0.769, 'pos': 0.231, 'compound': 0.2023},\n",
       "  {'neg': 0.452, 'neu': 0.548, 'pos': 0.0, 'compound': -0.5106},\n",
       "  {'neg': 0.0, 'neu': 0.477, 'pos': 0.523, 'compound': 0.7572},\n",
       "  {'neg': 0.0, 'neu': 1.0, 'pos': 0.0, 'compound': 0.0},\n",
       "  {'neg': 0.0, 'neu': 1.0, 'pos': 0.0, 'compound': 0.0},\n",
       "  {'neg': 0.0, 'neu': 1.0, 'pos': 0.0, 'compound': 0.0},\n",
       "  {'neg': 0.0, 'neu': 1.0, 'pos': 0.0, 'compound': 0.0},\n",
       "  {'neg': 0.0, 'neu': 1.0, 'pos': 0.0, 'compound': 0.0},\n",
       "  {'neg': 0.0, 'neu': 1.0, 'pos': 0.0, 'compound': 0.0},\n",
       "  {'neg': 0.0, 'neu': 1.0, 'pos': 0.0, 'compound': 0.0},\n",
       "  {'neg': 0.0, 'neu': 1.0, 'pos': 0.0, 'compound': 0.0}],\n",
       " 'reveiws_text': [\"I started watching Dogsville and felt like turning it off.. after all, what kind of movie could occur with no scenery? No doors.. it seemed like some sort of play/movie hybrid but after a shortwhile all those things faded away until I realized how much I would have missed if I had turned it off - it is now one of my favourite movies of all time.Why? It is so brave to criticse humanity like this and admit just how 'dark' a race we truly are - not matter how much each of us profess to being 'good', we all know that most of us are anything but. Through this movie you see a woman who learns the cold harsh truth in a place where she expected to find the goodness that her faith told her existed. And then on not finding it, discovered that even within her lay a wrath that echoed the darkness that she herself wished did not feature so dominant in our race. And the biggest test of this is to observe your own emotions throughout this movie until what you feel at the end as perfect evidence...I honestly believe those people that don't believe what this movie is expressing needs to take a cold hard look around them. And if they still don't believe, they are just like the people in this movie - unwilling to see the truth and coming up with excuses and reasons when nothing justifies the horrible world we live in.A true masterpiece - one of the few pure pieces of art in cinema with amazing acting from Nicole Kidman especially, and the lack of a set causes you to be immersed in the characters like no other movie. And its 'them' and human nature that is the focus. Will leave you thinking and astounded (unless you don't like to think and can't watch a movie that isn't afraid to do something unique, in which case there a countless movies for 'you').\",\n",
       "  '\"Dogville\" is, along with Peter Jackson\\'s \"Heavenly Creatures\", one of the most disturbing film experiences I\\'ve ever had. Love it or hate it, it\\'s impossible to be indifferent about this overwhelming film written and directed by Lars von Trier.This is the first part of a trilogy ironically entitled \"USA: Land of Opportunities\" (\"Manderlay\" is the second, \"Wasington\" will be the third). \"Dogville\" begins with a prologue and extends to nine chapters in almost three hours of daring, exquisite film-making.Nicole Kidman gives the performance of her career, in my opinion. Forget her (great) portrayal of Virginia Woolf in \"The Hours\", and the ambitious Suzanne Stone (\"To Die For\"): Kidman\\'s most accomplished composition to date is Grace. She\\'s a beautiful young American who, apparently on the run from gangsters, hides herself in a small Colorado town called Dogville, helped by Tom (Paul Bettany) and the other residents. Things go fine for some time until Dogville\\'s folks begin to exploit the lovely Grace and, literally, chain her up like a dog.You\\'ll better appreciate the film if you don\\'t know too many details (and even if you do, Von Trier reserved us lots of bitter surprises). We could say briefly that this is a film about those people you lend a hand and want to take your arm, but \"Dogville\" is too sharp and intelligent to be summed up this way. Many people accused Lars von Trier of criticizing the American arrogance violently. That\\'s true, but the fact is that \"Dogville\" is a universal story: it could happen anywhere. Human beings are really this bad?, we wonder by the end. \"Dogville\" wasn\\'t made to make you feel good, but it\\'s a compulsory film for everybody.\"Dogville\" is a much better work than \"Dancer in the Dark\", Von Trier\\'s previous film which gave him the Golden Palm at Cannes, and proves definitely he\\'s one of the greatest filmmakers nowadays. He led his ensemble cast wonderfully, and all of them are superb (that\\'s no surprise, however, regarding Kidman, Ben Gazzara, Lauren Bacall, James Caan, Chloë Sevigny, Paul Bettany, Stellan Skarsgård, Jeremy Davies, Patricia Clarkson, Harriet Andersson, Udo Kier, Zeljko Ivanek and Philip Baker Hall, among others \\x96 honourable mention to John Hurt\\'s excellent, ironic narration). 10/10.P.S.: You\\'ll never forget David Bowie singing \"Young Americans\" after seeing this film.',\n",
       "  \"Tough. Once again Lars von Trier tortures the audience (as he did previously on Dancer in the Dark) by upraising the darkest side of the human being. From the beginning you know that things can only get worse, but I doubt that one can figure out neither what's to come nor the powerful conclusion. Nicole Kidman's interpretation is perfect - intense, poignant, passionate, you name it. She is fantastic and so is the small cast locked inside Dogville's scenario (a wonderful creation - I wonder how something so simple can bring such a strong effect). Again, the entire cast is fantastic and for that goes an extra credit for Lars von Trier. His capability of pushing actors to the limit and extracting painful emotions from them creates a heavy atmosphere, full of tension and, at the same time, so familiar. It is not that Dogville represents the essence of our communities, but it exposes some aspects of our lives that we prefer to hide under the carpet.\",\n",
       "  \"If one is looking for a starter to this heart-tearing masterpiece, I suggest My Dinner With Andre from 1981. Another movie from which you get a feeling of having read a good book. Very few films render that feeling, but these two do.Where to start describing the bouquet of feelings this masterpiece has caused in me? A good point is admiration for Nicole Kidman's mix of wit, grace, innocence scented with beauty that, as the film evolves, turns into a thick film, a pellicle of suffering and enduring, glued together with forgiveness. I do not wish to believe that those qualities can be displayed credibly without the actress actually possessing them ( :) ? ) From the point Chuck takes advantage of Grace the first time, I couldn't stop occasional shivers the just-observed caused me, so much it touched. The conclusion can be drawn after watching the film: one cannot know his/her true nature unless given a real ungoverned power over another living being. They all seem nice in the beginning. The power and a sense of opportunity of free use only amplify themselves in Dogvillians. The evil seed in Chuck spreads among all the dogs, or were they all evil a priori?Artificial settings? One stage? Please! They are forgotten in 10 minutes. As all true works of art, this thing glows from the inside, it doesn't need a vivid facade. Long movie? I would have liked to see maybe an even longer one, but it would have probably put me into even sadder mood watching the ugliness killing the grace.Indeed, Tom, a great illustration of the fact that humans haven't changed from the medieval or perhaps even more primitive times - still dismissing the truth about themselves as lies, the truth that only very few of them are unselfish, decent in terms of morale and even 1 cm away from the animal desires for flesh.Grace concludes that she wouldn't have been much better had she been born in Dogville. I disagree - one can be no matter how poor but still cultured, at list on a microlevel of one person, on a macroscale culture of course doesn't develop without having material funds at its foundation. Then a human raises his head from a plug and looks up in the sky, and connects with Love, and then the decency is born in him/her as a little fire that can't be put out by any amount of torture inflicted upon her/him. The decency can also be transferred from a parent to a child.Dogville got what it deserved, in the end, justice comes in and flushes the inner hollowness created by co-suffering with Grace, heals the pain.\\nThank you, Lars, and thank you, Nicole, this work is engraved into my mind for a lifetime.\",\n",
       "  'I find it quite amusing that so many Americans were outraged that Lars von Trier had the temerity to criticise their country without having visited it. After all, we do it all the time, don\\'t we? Millions of us are quite content to sit on our sofas and criticise China, North Korea, Zimbabwe, Israel and countless other countries without having visited their shores. And we\\'re perfectly justified in doing so. So why should Von Trier be vilified for criticising America from a few thousand miles away? Well, of course, I don\\'t think he should. He\\'s perfectly entitled to his opinion, and those that cry and moan are symptomatic of America\\'s biggest problem \\x96 its inability to take criticism without getting its pants in a twist. Surely every great country should thrive on criticism. It should help it grow and develop. But instead America seems to resemble a child sometimes, spouting unhelpful phrases like, \"America: love it or leave it\" or, \"You\\'re either with us or against us.\" Therefore a film like Dogville, one that refuses to revel in the hollow American Dream, is vital, and it\\'s a film that should be embraced, not shunned.But anyway, what the detractors seem to overlook is the fact that Dogville could really be a small town anywhere. It may be the first part in an American trilogy, but the small town values with their prejudices and hypocrisy are universal. Everyone can relate...The film begins and ends with a God\\'s eye view of the proceedings and it isn\\'t hard to imagine that Von Trier is looking down on the characters, judging them. In fact, as Tom himself says, everything is a game, a test, and Von Trier is the one pulling the strings.The game begins when Grace enters the town. The townsfolk are frightened, but Tom thinks it\\'s a gift. He wants to see if Dogville has a problem with acceptance. Well, at the beginning, the citizens are understandably cautious, but they\\'re eventually placated when Grace proves that she can help them out. And so at the beginning she develops a good relationship with the town and its citizens. But even at the beginning the relationship is far from equal. She may like everyone, but she\\'s essential a slave. Yet the townsfolk like her best like this, when she\\'s happily subservient.As the film progresses, the town is tested further. The police post wanted posters and accuse Grace of crimes that she couldn\\'t have committed (as she was in the town at the time). But rather than this bringing everyone around to her cause, the town gets cold feet. It wants to help, but only as long as it doesn\\'t put them at risk. Therefore they decide to doubly enslave Grace to make themselves feel better. It\\'s an extraordinary move, but one that is anything but far-fetched. Individuals are brave, but people have worrying habit of proving themselves to be spineless.And seeing as Grace affects the status quo, the townsfolk decide to take their frustrations out on her. The men rape her physically and the women rape her psychologically. In fact, the most upsetting scene isn\\'t one of the numerous rape scenes \\x96 although Chuck\\'s rape scene does prove the brilliance of the set, what with it showing everyone going about their daily business and turning a blind eye to what is going on - it is instead the womens\\' abuse of Grace and the destruction of her figurines. It\\'s more than just a physical violation. It\\'s a violation of everything. Her dreams are being smashed right before her eyes.But why do the people of Dogville react this way? Surely their behaviour is an exaggeration. Well, it is and it isn\\'t. Of course the film paints a bleak portrait of human nature that you might not find down your street, but I think that the film proves that we all have darkness present in us. It only takes the right conditions and the right buttons to be pressed for it to emerge. In the case of Dogville, it emerges for many reasons, but I think the main reason is because Grace shows everyone what they are. Before her arrival everyone is happily stuck in a rut, but once she arrives everything changes. Everyone is faced with their mediocrity and everyone\\'s lies are exposed. In one scene McKay, after having finally admitted his blindness, indeed thanks Grace for \"showing us who you are\", but during her time in Dogville she also forces Bill to realise his stupidity (by playing checkers for him), Liz her unattractiveness (by catching Tom\\'s eye), Ben his loneliness (by providing for him), Chuck and Vera their unhappy marriage (by catching Chuck\\'s eye) and Tom his cowardice (through his refusal to kiss her even though she\\'s admitted her love for him). Needless to say, not everyone likes being exposed. It\\'s hard to face yourself when you don\\'t like what you see. And therefore the person that you\\'re going to punish is the one that made you look at your reflection\\x85 The ending is certainly bleak, but I think it forces us to take a hard look at ourselves. How often have we taken advantage of other people when we should have helped? How often have our intentions been selfish? And Grace\\'s final actions suggest one thing to me: if you treat someone like an animal, you shouldn\\'t be surprised when they treat you like one too.',\n",
       "  \"When I started the movie and realized that it isn't really a movie, that it is more like a play and that there is really a lack of props and scenery I thought to myself, My God, what the heck did I buy???? I'm a huge fan of Nicole Kidman and she is the reason I bought it in the first place. The movie (or play), whatever u might wanna call it, drew me in and I couldn't stop watching. The end is so powerful, I was speechless. That's one of the best movies I have seen in a long, long, long, long time. I don't agree with the Anti-American comments I read here in some of the comments. Human emotions are all the same all over the world and this movie could have played in any country. Anyway, go watch this movie it's soooo worth it.\",\n",
       "  'This is probably the most shocking movie experience I\\'ve ever had, not only because of the emotional impact, but because this is truly a moral-horror movie that slapped me in the face.The film is probably one of the best moral tales ever told, in which Nicole Kidman and all the supporting cast shined. Why did the makers try to make it look incomplete? Why haven\\'t they used more sophisticated production set rather than some made-believe structures directly exposing the film studio\\'s interior environment to you? I didn\\'t get it at first, thinking this might just be another pretending piece of crap that tried to be \"artistic\".However as the story proceeded, the whole thing started to make senses. Featuring some of the best character study I\\'ve ever seen, the story involved you into the adventure of Grace, the main protagonist who\\'s supposed to be despised by us logically and naturally. Then, the audiences were forced into a game that the filmmakers keep you guessing what would happen the next, until the very end.The ending, in my opinion, is the most shocking and frightening ending ever seen in a film. Dogville is by no means marketed as a horror movie, but if one believes himself/herself to have the moral high ground, he or she should stand the test the movie has given us. For me, I chose to live with all the miseries happened to Grace and play along just like every other character in the story, \"sh!t happens\" as they say. This, has not only put me in shame but also freaked me out at the end. Considering the potential spoilers I would caused, I\\'d suggest you go see it for yourself.With superb acting, very well plotted story and a shocking message for senseless societies, Dogville is easily a masterpiece.',\n",
       "  \"I watched this film after much of the controversy about it at Cannes had passed. The buzz in the U.S. press was that the film was slanted and reflected Lars Von Trier's ignorance of American society. Such arguments are specious on their face--there are examples of great literature and film making where the creator never set foot in the setting, as any reader of Shakespeare well knows. So discounting the self-appointed guardians of America, what exactly is this film about, what are the film's merits and why does it evoke such strong feelings from its audience, especially American ones? What Von Trier has done is take several American icons: the gangster, the small town, the woman in distress, the ideal of the common person, the local sage and the wise elder gentleman doctor, and has turned them on their head to create a timeless play about human motivation, greed and the corrupting influence of power. The people of Dogville are on the surface simple and decent people. Grace's arrival and her helplessness is the catalyst that, step by step, tempts the people of Dogville to inflict upon her greater and greater humiliations to feed their now unrestrained desires. So complete is her humiliation that the twist at the end leaves the viewer very little sympathy for the fate of Dogville's citizens. It is a powerful message and the judgment of the characters is one that takes no prisoners. That there are more than a few examples of this behavior in contemporary American society (and in the American past) and that it confronts these issues directly is the reason for the controversy surrounding it and--apart from the brilliant acting, especially by Ms. Kidman and Paul Bettany--what makes it great art. Von Trier has made a movie that is part of the quintessential American proletarian artistic tradition and its setting in 1930s America is part of the film's genius. That he is not an American and that this movie did not originate in Hollywood should give us all pause. There is a scene in which Grace confronts the people of Dogville with a critique of their bad behavior. Their response is to either deny the truth of what she has said or to blame Grace herself for tempting them. This movie, without being preachy or dogmatic, attempts to provide its own critique and received much the same reaction as the movie's protagonist. I would not be surprised if this was Von Trier's original intent. Dogville is a disturbing and powerful film.\",\n",
       "  \"On the Great Depression, the fragile and beautiful Grace (Nicole Kidman) arrives in Dogville, a small town in Colorado, escaping from the mob. Tom Henson (Paul Bettany), a young local man, welcomes and introduces her to the distrustful community. They decide to vote whether she could stay with them or not. After a brief meeting, they decide to lodge her for fourteen days, when they could judge her behavior and come up to a final decision. Meanwhile, she should perform some small jobs for them in a sort of retribution, receiving a symbolic payment. Later, the police come to the town with some pictures of her, informing she was a missing person. The vulnerable Grace becomes a slave of the community, being used by the locals in the most sordid and cravenly way. The conclusion of the story is spectacular. Two days ago, I started seeing this long unusual movie, indeed a filmed play. It surprised me in the first moment, but a friend of mine told me that this movie was a sort of 'love it' or 'hate it' film. Yesterday, I finished watching the DVD and actually it is one of the best stories about human exploitation and pay back I have ever seen. In some moments, the unfair misery of Grace recalled me Victor Hugo's Jean Valjean. It is amazing the tendency of the human race, when having some kind of power, to exploit those who need. The lack of scenarios or special effects highlights the stunning performance of the cast in a very original screenplay. This film is a great homage to the theatrical world and for great actors and actresses. My vote is ten.Title (Brazil): 'Dogville' ('Dogville')\",\n",
       "  \"Initially I found the 'play' set-up gimmicky and disconcerting, however I soon forgot all about the framing and became fixated on the picture itself. There are no special effects nor camera tricks and make-up is kept to a bare minimum, which allows us to focus purely on the story and the quality of the acting; both of which are exemplary. Nicole Kidman is amazing as usual bringing a wonderful vulnerability and frailty to her character which conceals an underlying ruthlessness and brutality. Ample support comes from co-stars Betthany and Chloe Sevigny and in truth the whole cast is frighteningly convincing.The story is simple, a young woman who it appears is on the run from the mob seeks refuge in a small town known as Dogville. The residents who are initially wary of her soon warm to her and welcome her into their midst. This however, comes with a price she must do small favours in return for refuge. Inevitably greed, desire and mistrust take over the residents which corrupts them and has devastating consequences for all involved. The dramatic shift in the mentality of the townspeople is so well handled and expertly crafted by Von Trier, that it makes the emotional payoff which one receives at the end of this film even greater. It is utterly compelling and has universal themes. Ultimately, this is a film which may serve as a cautionary tale for all self-proclaimed 'civilised' societies and as a treatise upon karmic retribution.\",\n",
       "  'This movie is not the best I\\'ve ever seen, and probably not as good as \"Breaking the Waves\". But I left the theatre astonished, shocked, sad, confused, and a bit angry with the director, for being so cruel (and true?) in portraying human behaviour with vulnerable people, for using no props, for forcing me to watch the characters in their eyes and facial expressions \\'cause there was nothing to draw my attention away. But this movie deserves to be seen, because that\\'s what an artist is supposed to do, to share a bit of his thoughts and views, without giving answers, but arousing emotions and questions: and it has probably more right to be than other blockbuster movies sold by studios with nothing but what people like to see in it.',\n",
       "  \"Dogville is a small mountain village outside of George Town; it is a tight community of good people who look after each other.  However Tom, the town's writer and moral heart feels that the people are not caring deep down.  He has the opportunity to test this theory when a woman, Grace, stumbles into the village to escape gangsters.  He challenges them to hide Grace and take her in - and is pleasantly surprised as they gradually do.  In return she agrees to do work for the villagers - however the relationship begins decreasingly pure and increasingly exploitative.I have a natural dislike for films that come across as pretentious or arty for art's sake, so you can imagine I approached this film with slight trepidation despite not having seen any clips of it.  However, I did really like the film and was surprised just how quickly the three hours flew by. In terms of the plot, it is more than up to the task of the three-hour running time - in fact I (and most of the audience) stayed in my seat until the very last credit had run over great photographs and the great Bowie's `Young Americans'.  The plot is good enough to be accepted but you do need to see past the script and look at what it is saying to appreciate it - although having said that it would still grip me even if it hadn't made me think.Leaving the cinema I felt that I hadn't really bought the film's moral that nobody is really `good' because I felt that most people are not bad, and certainly not to this extent; but I think my mind was stuck on the specifics of the film rather than the meaning.  In the film everyone is socially polite and restrained, but once the chance to take advantage comes, it is increasingly taken (albeit to extremes). I felt the film was particularly harsh to Tom, who was actually a `good' person - however I think time has allowed me to understand it better.  We are not good people.  We do take advantage of others, whether it be individuals (while trying to keep up our good public image as much as we want) or groups.  Even those who turn a blind eye are `bad' simply because they could have acted for good and they didn't.I saw this film two weeks after illegal immigrants drowned in the UK while picking cockles for very, very low wages - they were caught in mudflats by the rising tide.  While the obvious `bad' people are those who made them work like this, many others knew of the work and ignored it.  More pertinently to the film is the fact that a vulnerable and needy group were exploited by society - just as Grace was here.  I didn't get the photographs over the end credit (I was into the music!) but they were all of the poor or minorities etc on the fringe of society - I found this challenging.  When many of us see people in need we will do enough to look `good' and keep our social niceties (ie put a £ in the cup) just like those in Dogville did. We all feel good after this, but this film challenges that idea of `good' as wholly inadequate and that just being polite and moving on is still `bad' even if it is on a sliding scale.  This is not to say that the film's plot and themes are perfect, but even flawed they are clear and will keep you thinking of the film long after it ends.Of course it is unrelentingly bleak for the entire second half, but this is the film and I had to accept it for what it was.  In terms of being arty, I found the bleak stage to work very well.  The only downside of it was cuts from very black scenes to white scenes hurt my eyes in the cinema.  This is not just theatre being filmed, the film uses the lack of scenery well. Sure it focuses the attention on the actors, but it also highlights how the people turn a blind eye.  In my favourite shot, a rape occurs in one `house' and the camera shoots it through all the others, they are unable to hide from it even if they don't look - it is a very simple way of showing the audience that everyone knows but is socially polite.  The film still uses makeup and props except for, inexplicably, Nicole Kidman herself.  She starts the film looking good but ends it looking as good - when really she would have looked tired or bedraggled and destroyed.In fairness Kidman manages to do that without makeup and her performance is very good throughout the film - it is easy to dismiss hers and the other stars' roles as some sort of justification of themselves as `real artists' but it was still a brave move for a business that is more about dollars than art.  The rest of the cast more than match her and I was surprised to see so many big names.  Bettany is very good as are Bacall, Hall, Ivanek, Sevigny and Skarsgård.  Even the child actor is very self-assured and Hurt's homely narration is colourful and funny.  Ironically the two black characters have little to do - the script says they are there as a token indication of Edison Sr's open-mindedness, but it is almost like they were token at times - sadly Shims' whole contribution is going `shhhh' twice!  Despite that there are no weak links, the acting is superb and it certainly appears as if von Trier's aim of stripping the film away to focus on performances has paid off in a big way.  Acting awards may not come but I have not seen more daring performances from a Hollywood cast for quite a while.Overall this is a bleak and challenging film - not only to watch but to think about and apply to myself too.  I left the cinema enjoying it but disagreeing with it's moral point of view, however I allowed myself to look and I now agree with it, as sad as that sounds.  As a story and a film it is wonderful; the fact that it has come to the multiplexes' forcing thought and emotion is even better.  The saddest thing is that so many teenagers at the screening I was in walked out - they saw something they were not used to and they rejected it within 30 minutes; I find that horribly depressing.\",\n",
       "  '***Spoilers***Let me start my review by saying that this film accomplishes what most filmmakers hope for when they begin the mountainous task of creating one: it provokes and engages the viewer\\'s mind. I will not review the film\\'s plot because prior posts have amply covered the many questions that are presented and only partly answered. This was an unforgettable film for me even though I do not accept its ideological foundations.One of the subtextual layers of the film involves what I see as a severe criticism of the film industry as a whole. I\\'m sure that most readers are aware of Lars von Trier\\'s grievances. In many ways, the things he has said about modern cinema ring true. How many times have we viewers left the movie hall, after watching the latest blockbuster, shaking our heads? The special effects may have astounded us, but the characters seemed petty and one-dimensional, or even worse, a GLORIFICATION of all that is bad about our culture. I emphasized the word \"glorification\" in the previous sentence because I do not believe that a film should ignore the bad - just that it shouldn\\'t make the antagonist the hero.The moving picture was invented by Thomas Edison. Because of him, we have the gift of film. Dogville begins with a father/son duo named after this famous inventor and it is here that I detect a critique of contemporary films. The younger Tom struggles to come up with a story; he wants to create something of value but he can only manage a meager three words. He walks around Dogville wanting to help its citizens, but he cannot relate to their situations. He, unlike them, does not have any financial worries because he lives with his father, Thomas Edison Sr., who brings in a comfortable pension.Tom the younger is living off of his father\\'s success. (Edison Sr. represents old Hollywood and is presented in a kinder light than the other town residents - i.e., he does not molest Grace.) Ineffectual in influencing his culture, young Tom is the first to recognize that Grace, played by Kidman, is a gift. He introduces her to the townspeople.Grace is accepted by the townspeople and for a while all are content to share in her sunshine. But then, the benefactors begin to long for a greater exploitation of Grace. Through Tom the younger\\'s mediation, they seek more \"balance\" from their relationship with Grace. No longer interested in her goodness and humanity, they want physical gratification at her expense (and ultimately Tom\\'s). Tom eventually goes along with them and is corrupted himself. (Tom, representing modern cinema, panders to them by wooing Grace even as he furthers her captivity. He gives them the equivalent of the gratuitous sex scene, car chase, or mass explosion with resulting body count.)Grace leaves Dogville and, in the spirit of the Dogme manifesto, decides that the world would be better off if the current societal malaise were eradicated, along with all of the money and capital of the modern film industry. Hence, Grace provides the coup de grace to young Tom.',\n",
       "  \"Dogville is long, and if you don't have the patience for a slow ramp-up of tension, it'll turn you right off. There are a couple story devices Von Trier uses that really bugged me, and I almost shut it off once. I'm glad I stuck with him, though, because he really took it somewhere and I came away really enjoying the experience..Critics who hated Dogville talk about it's hamhanded anti-American slant (Lars von Trier refuses ever to set foot in that country). I knew nothing about this film or Von Trier before seeing it and I have to say I entirely missed the anti-America thing until the backcredits. Don't get me wrong, there are several scenes that make commentary about rampant nationalism, prejudice towards immigrants and small town xenophobia, but those comments could be made about the zealous in ANY region of ANY nation at ANY time.If we are to criticize 21-st Century America, and there are plenty of reasons to criticize it, we must also criticize other peoples and governments who are screwing up royally. I think if Dogville has a point to make to America, its not that it is uniquely problematic, but that it is as problematic as any other nation. Where on this planet can you NOT find a group of people who think:THE WORLD WOULD BE A BETTER PLACE IF EVERYONE WAS JUST LIKE US.That statement is the kernel of failure for every major conqueror and every major religion in history and it portends the long, inevitable swirl down the toilet and the people who want you toppled have only to sit back and watch you do it to yourself.America is a great nation, with a lot of culture, history and art to be proud of, and maybe that's why modern artists feel the need to make pieces like Dogville. To remind America that, as great as it is, it's still a nation of crying, barfing, excreting, whining, greedy, worried, scared mouths to feed, just like the rest of us -- no better or worse.That's all I think Dogville does as an anti-American piece. If Von Trier meant to just poo on America, he missed his mark and ended up making a point about all of us. Regardless, he among many others wants America to change it's mind about itself, and it doesn't matter if he hates it or loves it. Much more interesting to me is the blatantly obvious point Dogville makes -- to what point do you forgive the transgressions upon you by others who may be less fortunate but are nonetheless doing wrong? It sure made me take a look at my own pacifism.Nicole Kidman was brilliant, as was Paul Bettany and the simpler townsfolk who will play so skillfully with your emotions. It seems I've been flooded with Kidman movies regularly for a couple weeks now and this is my favourite of her performances.Good film, Dogville.\",\n",
       "  'When I went into the movie theater to see this film I didn\\'t really know what I was getting myself into. All I knew was that \"Dogville\" had Nicole Kidman in it- an actress I have always liked- and Lars von Trier, a director I have always respected. I was quickly surprised by what the film was. Set entirely on a stage/sound stage I couldn\\'t believe my eyes. As a theatre actor it was exciting to see how this all was going to work out. Dogville did not disappoint. Lars von Trier clearly creates a town that may seen ordinary and odd into masterful. Nicole Kidman was excellent and the supporting cast was flawless. It was great to see Lauren Bacall and I enjoyed her performance. When I first saw Paul Beattany in the film all I could think of was the awful film \"A Knight\\'s Tale\" that he is also in. However he proved me wrong in his well developed character. Patricia Clarkson was great in her role as Vera, she is a stunning actress. If she keeps getting these great roles an Oscar is sure to be in her future. The film on the whole is wonderful. My only complaint was the length. Around the 2 hour mark I was getting kind of antsy, but the film brought me back to finish the roller coaster ride that the film gave. Truly an original. Go see it.',\n",
       "  'When a check-out operator (let\\'s call her Jane) at the local video store says: \"Do you really want to rent that, it\\'s the worst video we have in the shop?\" you can understand she\\'s trying to save you a dollar. Good on her.Trouble is, when she says it about a movie like this (Dogville) you just realise how dumb she is. Dogville is tremendous. Powerful, clever and brutal. No doubt my check-out chick had never seen a play or heard of Albee, Pinter etc. Short story is that this is one of the best movies I\\'ve ever seen. Sure, it\\'s slow, has no set to speak of and has far too much voice-over narrative (no doubt in a vain effort to entertain the poor Jane\\'s of the world). It makes up for that in the raw emotion it shows.Don\\'t be swayed. This is a story about one thing and one thing only. It\\'s about how naive immigrants/visitors to a new country inevitably get screwed by their new community. It\\'s a beautiful cometary on how new arrivals try hard only to get rammed by the society they arrive in. This ISN\\'T just anti American as many (too many) commentators have said. It\\'s the same in Australia (where I live) and Britain, Spain, France - anywhere where refugees go.The point is, human nature is the same everywhere. Osama Bin Laden are you listening? Creed, religion, upbringing mean little when put up against the basic human urges. Have a look at this movie and you\\'ll understand that what\\'s inside people is all the terrorism we can stand.I\\'m not a great fan of Nicole Kidman\\'s acting, well until now. She is superb. I don\\'t know when I\\'ve seen a film that has \\'wierded\\' me out as much as this one. It\\'s absolutely tremendous. The only criticism I have is that the ending is a bit contrived and quick but I guess after you\\'ve tortured and audience for 120 minutes, the end should be swift.',\n",
       "  \"I'm going to begin this review by pointing out that this movie has some very, very, very slow points in it. So slow that I would occasionally flip through a book I was reading at the time until something of interest caught my attention and I was watching again. But the parts that got my attention were well worth the dragging moments in-between. This may contain spoilers, so you are warned again. Nicole Kidman's character, Grace, is running from the mafia (for currently unknown reasons) and seeks shelter in a small little town out in the middle of nowhere. The town actually reminds me of what the original American colonies might have looked like or an Amish town, but with technology. The townspeople reluctantly agree to hide her but they ask that in return she work for them just like everyone else in the town. Of course, the grateful Grace agrees willingly and eagerly sets to work to help the community that had accepted her despite the obvious dangers. But gradually, Grace's jobs become more demanding the play less and less. One of the happy things in the town though is that she finds love in a man named Tom (who is a soft spoken gentle man who likes to ponder things). Unfortunately, the other men also take notice of Grace's outstanding beauty and begin to threaten her with her safety if she refuses to sleep with them. In turn, the women blame this fact on Grace herself and punish her by breaking some of her most prized possessions. Grace finds she cannot escape from the demented town and is forced to put up with their cruelties, despite whatever small help she gets from her lover Tom. Again, one thing that I LOVED is the filming and set design of this film. It's almost as if you're watching a play. Everything is labeled in chalk (the streets, the graveled path, the bushes, snow, etc.), the houses are represented by tall wooden flat pieces of... wood, there's an actual truck though and tables and other such things. I loved this concept... it's like seeing a play but paying the price for a movie. Now to talk about the things that horrified me the most. And this is where the SPOILERS come in. * When Grace tries to escape in the truck only to be returned to the town (why they were so hellbent on keeping her I have no idea... it seemed rather silly but it made them all seem the more crazy) and forced to wear a chain around her neck that was attached to a large metal wheel that she was forced to drag around. This was complete with a metal collar with a bell attached to it so that they all knew where she was. * When Vera forced Grace to watch her shatter the beautiful ceramic figures that she and Tom had been saving for months to buy when she found out that Grace had slept with her husband (though this was more of a rape as Grace tried to tell the upset Vera who would not listen). This made me sob, to put it mildly. * Tom's betrayal. It broke my heart that he should defend Grace this entire time only to realize that he had never really truly loved her and had only been afraid and had been using her. He then calls up the mafia to come and get Grace, hoping that it would be the end of it. Which brings us to the ending (MAJOR SPOILERS!!). I LOVED the ending more than words can say. I was hardly surprised when it turned out that the mafia man who had been hunting her had really been her father the entire time and that he really had no intent of killing her but instead to make her a partner (something she wanted nothing of). He also offers to take her away from the town, for somehow he knew all the cruelties she had been put through here, and that his men would kill them all if she so wished. She replies that she would rather live with them than with him and that none of them were cruel at heart. Her father then asks her to step outside and take a walk to think it over, which she gladly does. I love what happens next. She sits on a bench, looking down at the town, and thinks about how the townspeople were really just scared. She thinks about how she would have done the same if she were them and that she never really thought them wicked at all. And then, the light changes and in classic literary style she sees the townspeople's true natures in this new light. She then calmly gets back into her father's car, says that she wishes them dead, and tells him about a mother with children. When the killing is done and all of Dogvilleis dead, Grace sees Tom whom she asks the men not to shoot. She then takes a gun herself, listens to his pleas for forgiveness, and kills him herself. Like I said, I love this ending more than words can describe. At first I was really REALLY upset that she would just forgive them. I was outraged that she might let them live. Then I breathed a sigh of relief. It was truly a very moving, beautiful moment. One of the most moving that I've seen in a movie in a long time and in a way it was almost poetic. This movie could not have ended any other way. Bravo!\",\n",
       "  'I really did not like this movie. I have followed Lars von Triers career for a long time, and have seen all his movies, and the only one i really enjoyed was RIKET (The Kingdom) and Breaking the Waves. What annoyed me about Dogville was a lot of things: The main thing is that it never really gets to me, i don`t feel anything while I see it. And Von Trier himself once said: \"Film er følelser\" or \"Films are feelings.\" Dogville is surprisingly cold and it leaves a great distance between me and the characters. Another thing is the experiment in form. For those who havent seen it: It all takes place in the studio. The actors are in costume, but instead of streets, houses and trees and bushes there are markings on the floor that the actors were forced to relate to. The move through invisible doors, and you hear an invisible dog barking. Far away form his DOGME film THE IDIOT. It`s all very neat, but it all becomes very artificial. Which off course is why he did it. It all looks like a theatrical play that is being filmed, which is a thing i really hate. The story is ok, I was never really bored during this 3-hour movie, and the main reason for that is the wonderful actors. But if you come from Scandinavia you will find the story no more advanced than a Finnish tv-drama, filled with really evil people pretending to be nice, and the problems in small towns. Finnish tv-drama is an expression in these countries, and a genre Von Triers knows a lot about. But this kind of story demands an intimacy with the characters that you don`t get in Dogville. The theatrical appearance of the film creates a huge distance to the whole story, and the film falls between two chairs. It never moves or inspires. It just tells a long, long story, that frankly is not very believable, specially the ending, when we find out who Nicole Kidmans characters is, and she orders the whole village to be executed. A scene that never would have worked if Von Trier had uses film effects in stead of theatrical effects. It would have been to violent, and the N. Kidman character would have been even more difficult to swallow. The last thing that annoyed me during the entire film is John Hurts voice-over. He has a fantastic voice and presence in the film, but I hate it when a voice-over is telling me what I`m looking at. \"Now you`re seeing this, and now you`re seeing that!\" It is overstated the whole way through and it creates even more distance. All in all, a HUGE disappointment. Lars Von Triers experiment with the form of cinema fails big time. And I really feel a lot of people like this film just because it is weird and strange, and experimental. And I really feel sorry for the actors, see DOGVILLE CONFESSIONS and find out why. That doesn`t really matter, Hitchcock was terrible to his actors too. But go see it if you get the chance, find out what you think, I would love to discuss it, and as I said; the actors really save this movie from total failure.',\n",
       "  'I saw this film when in opened in Copenhagen last June.  After seeing it I was convinced that someone would have some sense and not release it in North America.  Nicole Kidman was riding high on her Oscar win for The Hours (another waste of two hours of my life) and I expected something interesting with Lars Von Trier directing.  What did I get for my $18 (Cdn)?  Answer: the most pretentious movie I have ever seen in my life.  I would expect something like this to come from a 1st year film student at a  small community college with all his/her friends \"acting\".  This film is not clever, the dialogue is downright boring and when it is not boring you to death it is downright laughable.  There is a scene with James Caan and Nicole Kidman where the conversation comes across as written by a high school student.  Avoid this movie at all costs.  1/10',\n",
       "  \"Yesterday I saw Dogville after almost one year of waiting its release in Mexico. I didn't know anything about the movie besides the basic plotline: a fugitive from justice seeks refugee in a small town that takes advantage of her. I knew that it was shot in a stage and that it was being criticized for being anti american. To my surprise and being a big admirer of both, Von Trier and Kidman, Dogville exceeded all my expectations. The movie is about major issues and throughout its exciting imagery, raw performances and sharp script, Dogville digs deeper than what its detractors are saying about it. It is not, in no way, an anti american film. ***WARNING. POSSIBLE SPOILERS AHEAD*** My interpretation is that it is metaphor on Jesus, as a female character, an arrogant rebel that denies her own father (because she doesn't understand his and thus, her power) and doesn't want to be her daughter.She's kind, noble, and teaches everyone how to be a better person and how to be useful, but in the end they turn against her, condemning her and -metaphorically speaking- crucifying her. Then, in a surprise ending that is literally taken from the Bible, she decides to do God's will in Dogville. It is a really brave decision from Nicole Kidman to do this character that may cause some heavy conflict in some viewers, and its is a triumph for Von Trier to choose such an exciting way to shoot the film, after all, if God is everywhere and see us from the top, he should see trough walls and ceilings. This is one of the greatest films I've ever seen.\",\n",
       "  \"First of all, I am surprised that 'Dogville' is not on IMDb'S top 250: it is one of my favorites and one of the most original movies I already have watched in my life.Many people doesn't like the lack of scenarios,special effects and soundtrack, but all of these things are secondary in Dogville: the high point to pay attention here, is the story and the message it is trying to show you: That power can corrupt and even people who seems to be nice, can exploit and use other people for their own selfish uses. Full of metaphors,I already heard some people saying that Dogville can be a metaphor of God/Christ and Human race, and many of the parallels can really fit in the story. (Look here: http://www.imdb.com/title/tt0276919/board/flat/23839682)Dogville looks a peaceful city with nice habitants, but in reality is like everywhere else and humans,sadly, are the same in everywhere.\",\n",
       "  \"This is a movie that takes place on a theater stage with almost no props. Painted outlines on the floor delineate the buildings and other props. To that weirdness, add the fact that it is a pretty scummy and unrealistic story. Finally, make it a loooong story. Artistic? Maybe. Cutting edge? Maybe. Bad? Well\\x85 Many have said Dogville has a subtle plot that takes a while to develop. I can't argue. Watching it does feel like a lot longer than 3 hours. With no visuals, it is really just a dialog movie. Basically, it's a book on tape. If you want to watch a book on tape (rather than listen to it) here is your chance. In the realm of books on tape, this one is a milestone. But I for one want to watch a movie to enjoy the power that a movie can bring to a story, i.e. recreating the images I picture in my mind when I read it. If that is not done for me, what is the point of sitting down to the movie? I give film-makers a little leeway to get creative, but that ultimate task is paramount to my enjoyment. This movie did not work for me.\",\n",
       "  \"Is this a tale about the loss of humanity as an individual suffers from the power of group behavior? Is it a about an idealist / philosopher unable to handle events and see the tragedy around him? Is this a scathing attack on the social conditions in the US? Or is it about the New World reversing power roles with the Old World? Is it a biblical allegory? Or an autobiographical description of Von Trier's life?Dogville, made as a staged play and inspired by the song Pirate Jenny by Bertolt Brecht, is all, making not the structure of the tale set in a Colorado mining town complex, but its interpretation. Like in Breaking the Waves, Von Trier uses the literature reference, dividing the movie in chapters to tell his tale of an individual becoming victim of group behavior, this time combined with the idealist / intellectual standing by and having no solutions on offer. It all watches like a Greek tragedy, the Greek names of the children of Vera and Chuck only confirming this.The biblical parts are thrown in with the dog Moses, as guardian of the Ten Commandments which are severely transgressed by the citizens of Dogville. The dog can only be seen at the end and is spared. We have the name of the main character Grace and her treatment comparable to that of Jesus; the blindness and the window; the seven figurines broken by Vera stand both for her seven children and the seven sins. Also the Old and New Testament (father and daughter in the car having different interpretations of morality) are touched upon, and Tom representing the betrayal of Judas.The concept of power plays an important part throughout the movie. The line of power starts with Tom, convincing the citizens of Dogville to give Grace a place to hide. As the philosopher, writer and spiritual leader of Dogville he is unable to cope with the basic problem of keeping mankind under control, he is shown as a theoretic, not someone who has practical solutions and fails as an authority (the practical engineer only adds to the misery here as he only makes instruments of oppression). Later the power is taken on by the group to commit the atrocities shown. Dogville is therefore also a warning about letting ignorant and simple minded people take on authority and decisions as there can be horrific consequences. At the end Grace's father comes in and Grace assumes the power from him. All misuse and are unable to handle the concept of power to proper use, the power of Grace and her father is mafia power after all (there is a hint the movie uses that the power of the US has grown out of criminal power, a common historical misunderstanding). The US State is unable to prevent anything of it happening here, it can only be heard in the distance or seen shortly when the police arrives (a prison and police force is the only thing the state offers in the movie). Dogville starts with a speech to be heard on the radio made by the President of the US; the radio is turned off before he starts talking. The end credits with the pictures give way to interpretations of the lack of a proper welfare state in the US, at least at the time of the Depression.Another moral issue arises in the most important dialog in the movie between Grace and her father. At first Grace is incapable to condemn the villagers. Her father calls that arrogance, because she should judge others by the same moral standards as she judges herself. She changes mind after thinking about this concept of morality, judgment and punishment. The whole view on mankind in Dogville is extremely dark: As you make yourself dependent of other people, they will always misuse that opportunity and take advantage of your weaknesses. Later Grace forgets all notions of forgiveness.Another interesting addition and layer comes when Tom suddenly takes on the role of Von Trier himself (the point where he talks about the trilogy). So in reality Von Trier sees himself in the role of Tom. And he makes a deliberate parody of himself, because the harsh and demanding way he treats actresses is in a way comparable to the treatment of Grace.Technically the movie is well shot with the camera-work of Anthony Dod Mantle. When Grace is raped for the first time, the camera retracts and it diminishes on purpose the impact of that scene. By showing inhuman acts without barriers like walls and doors they show how ignorant people usually are about them. But the best shot technically is from Grace under a blanket in the truck, it has surreal qualities.Two side notes: The beautiful music is by Vivaldi ('Cum dederit dilectus suis somnum' (IV) from 'Nisi dominus' RV 608). On the mine shaft we can read Dictum ad Factum, meaning Said and Done.\",\n",
       "  \"Excellent acting, excellent narration, unusual sets, etc. Might have worked if the story wasn't so weak and the characters so shallow. I suppose that such 'bold' film making might appeal to fringe art types who will no doubt gush about the various nuances that I am too unsophisticated to pick up. It is also possible that there are some aspects of the weak, manipulative characters in the film that might appeal to those who find their 'entertainment' in causing the needless suffer of others. It simply didn't work for me.I consider this a 3hr waste of time. Watched the whole thing to see if would ever redeem itself - and it didn't. Threw the DVD in the garbage.\",\n",
       "  'Seriously, I\\'m worried about that dude. Something must have happened to him. Maybe he burst a blood vessel in his brain. Maybe he has developed a hormonal imbalance. But after proving his abilities with the remarkable and heart-rending \"Dancer in the Dark\", it\\'s hard to take \"Dogville\" as anything less than a cry for help. This movie is flat out awful. The plot could kindly be called \"allegorical\" by people who don\\'t want to say \"implausible\" or, more honestly, \"shitty\". The characters might be called one-dimensional, if they even had reliable, static traits, which they don\\'t. The story is a sensationalistic, over-the-top account of rape, slavery and murder, and yet it manages to be crushingly, ploddingly, maddeningly SLOW (nearly 3 hours). The cameras were in focus, and Nicole Kidman was attractive, but other than that it is hard to think of a single thing that went right. Now, I understand that a lot of people love this movie because they think it exposes the seedy underbelly of human nature in general, and of the American national character in specific. (I certainly won\\'t question Von Trier\\'s credentials as a commentator on American culture, having lived all his life in Copenhagen, a city with several American fast food restaurants.) And I imagine you really could make a great movie about a woman who is initially welcomed and eventually enslaved and violated by a small American town. However, this ain\\'t that movie. In order to understand the depths of awfulness that this film achieves, maybe it would be helpful to enumerate some of the things that would be different in this highly theoretical \\'good\\' version of \\'Dogville\\' relative to the all-too-actual \\'Mongolian clusterfuck\\' version I review here.1) It would have very little voice-over. Voiceovers are to movies what bandages are to people: both indicate that that something has gone wrong. Voiceovers usually mean that a director made a major change to the movie after principle photography, generally because he (Von Trier being a he) has realized in editing that the movie he shot sucks dick. Our theoretical \\'good\\' Dogville would have no need of repeated voice-over, because the story would actually tell itself.2) Grace (Kidman) would be a rational human being. She would do things that would help her avoid suffering, like resisting at least one of her many rapists, or telling someone that Tom had stolen the $10, or pressuring Tom to get her out of town early on, or saving up her money for a damn bicycle instead of those cheap figurines, or trying to make friends with someone in the town in order to solidify her precarious position. Something like that. She definitely wouldn\\'t spend the first 2.5 hours suffering silently like some martyred saint, and then last 20 minutes burning the place down like Attila the Hun. 3) Tom would be a rational human being. He would be bookish, but not completely insane. He would fall in love with Grace, and then show some actual concern for her safety, instead of wandering around for two hours spouting nonsense. And most importantly, when he found out about the rape it would have some kind of emotional effect on him (any normal person would FLIP OUT). He certainly wouldn\\'t go to this woman that he apparently loves and gently bitch to her about how unfair it is that he is the only person who doesn\\'t get to rape her. And even if he DID do that, Grace would respond with something a little more salty than a lecture from a graduate level philosophy seminar on the nature of love in a slave society. 4) The other townspeople would be rational human beings. There would be less of them, say 9 instead of 15, which would allow each one to appear on screen more than once every 30 minutes. There would be a good reason why, say, the church organist who befriends Grace doesn\\'t protest when Grace is literally placed in shackles, a reason better than, \"Boy it would be inconvenient if I had to start sweeping the stairs again.\" Even if there was a reason, some of the townsfolk would at least be SOMEWHAT conflicted about the whole idea. Oh, and there would be a good reason why the first person to take a disliking to Grace wouldn\\'t immediately drop a dime in order to get the $5000 reward.5) The movie would be about 75 minutes shorter. The extra time would come from all the time the characters spend milling about, doing chores, talking about nothing. Grace would show up in the first five minutes, she would be raped within the first 60 minutes, and the town would be burning by the 100 minute mark. Tom wouldn\\'t get more than a minute to yammer on about moral rearmament, nor would anyone get to spend 10 minutes shouting the word \"arrogant\" repeatedly. These are just some of the things that would happen in a good version of \"Dogville\". Two thing you wouldn\\'t need to change is the excellent ensemble cast and a director who, when properly medicated, is quite talented. But then, as flawed as \"Dogville\" is, this amounts to no more than installing expensive toilets on the Titanic. IN CONCLUSION: Do not see Dogville. It isn\\'t worth your time, even in a so-bad-it\\'s-good sort of way. If you like America-bashing, rent a Michael Moore film. Moore is at least funny and concise. \"Dogville\" is a muddled, frustrating, ridiculous mess. None of the characters ring true, and as a result, the horror and shock that should accompany this story never materialize. If you just have to know what you are missing, go see \"Dancer in the Dark\" and try to imagine a horribly botched sequel. But again, do not see \"Dogville\" under any circumstances.'],\n",
       " 'text_sentiment': [{'neg': 0.059,\n",
       "   'neu': 0.751,\n",
       "   'pos': 0.19,\n",
       "   'compound': 0.9956},\n",
       "  {'neg': 0.088, 'neu': 0.727, 'pos': 0.185, 'compound': 0.9912},\n",
       "  {'neg': 0.116, 'neu': 0.698, 'pos': 0.186, 'compound': 0.9666},\n",
       "  {'neg': 0.11, 'neu': 0.701, 'pos': 0.189, 'compound': 0.9926},\n",
       "  {'neg': 0.133, 'neu': 0.708, 'pos': 0.159, 'compound': 0.9861},\n",
       "  {'neg': 0.028, 'neu': 0.797, 'pos': 0.176, 'compound': 0.9714},\n",
       "  {'neg': 0.125, 'neu': 0.71, 'pos': 0.164, 'compound': 0.9493},\n",
       "  {'neg': 0.08, 'neu': 0.797, 'pos': 0.123, 'compound': 0.9634},\n",
       "  {'neg': 0.081, 'neu': 0.741, 'pos': 0.178, 'compound': 0.9883},\n",
       "  {'neg': 0.065, 'neu': 0.807, 'pos': 0.128, 'compound': 0.9253},\n",
       "  {'neg': 0.196, 'neu': 0.691, 'pos': 0.113, 'compound': -0.9185},\n",
       "  {'neg': 0.102, 'neu': 0.756, 'pos': 0.142, 'compound': 0.9901},\n",
       "  {'neg': 0.071, 'neu': 0.736, 'pos': 0.193, 'compound': 0.9973},\n",
       "  {'neg': 0.111, 'neu': 0.772, 'pos': 0.116, 'compound': 0.8425},\n",
       "  {'neg': 0.028, 'neu': 0.81, 'pos': 0.162, 'compound': 0.9811},\n",
       "  {'neg': 0.096, 'neu': 0.824, 'pos': 0.08, 'compound': -0.773},\n",
       "  {'neg': 0.134, 'neu': 0.678, 'pos': 0.188, 'compound': 0.9966},\n",
       "  {'neg': 0.125, 'neu': 0.774, 'pos': 0.101, 'compound': -0.9633},\n",
       "  {'neg': 0.078, 'neu': 0.82, 'pos': 0.102, 'compound': 0.5076},\n",
       "  {'neg': 0.063, 'neu': 0.795, 'pos': 0.142, 'compound': 0.9774},\n",
       "  {'neg': 0.06, 'neu': 0.792, 'pos': 0.148, 'compound': 0.9439},\n",
       "  {'neg': 0.036, 'neu': 0.851, 'pos': 0.113, 'compound': 0.9518},\n",
       "  {'neg': 0.118, 'neu': 0.781, 'pos': 0.101, 'compound': -0.9753},\n",
       "  {'neg': 0.083, 'neu': 0.786, 'pos': 0.131, 'compound': 0.7607},\n",
       "  {'neg': 0.14, 'neu': 0.713, 'pos': 0.147, 'compound': 0.8734}]}"
      ]
     },
     "execution_count": 8,
     "metadata": {},
     "output_type": "execute_result"
    }
   ],
   "source": [
    "postRequest.json()"
   ]
  },
  {
   "cell_type": "markdown",
   "metadata": {},
   "source": [
    "# smart_sentiment API Request"
   ]
  },
  {
   "cell_type": "code",
   "execution_count": 9,
   "metadata": {},
   "outputs": [
    {
     "data": {
      "text/plain": [
       "<Response [200]>"
      ]
     },
     "execution_count": 9,
     "metadata": {},
     "output_type": "execute_result"
    }
   ],
   "source": [
    "postRequest = requests.post('http://127.0.0.1:8000/smart/',data = {'link': \"https://www.imdb.com/title/tt0276919/?ref_=nv_sr_srsg_0\"})\n",
    "postRequest"
   ]
  },
  {
   "cell_type": "code",
   "execution_count": 10,
   "metadata": {},
   "outputs": [
    {
     "data": {
      "text/plain": [
       "{'movie': 'Dogville ',\n",
       " 'year': '                 (2003)',\n",
       " 'users': ['Viz79',\n",
       "  'Benedict_Cumberbatch',\n",
       "  'ffc_home',\n",
       "  'RayRoko',\n",
       "  'Ricky_Roma__',\n",
       "  'so4',\n",
       "  'honorhorror',\n",
       "  'pisanond',\n",
       "  'claudio_carvalho',\n",
       "  'miriamgaynor',\n",
       "  'ale82pineapple',\n",
       "  'bob the moo',\n",
       "  'gouge_away',\n",
       "  'joeh-7',\n",
       "  'obscure105',\n",
       "  'peter-ramshaw-1',\n",
       "  'Satine_25',\n",
       "  'tafroydis',\n",
       "  'beerme',\n",
       "  'ernestosan',\n",
       "  'Lady_Targaryen',\n",
       "  'kernwilson',\n",
       "  'diand_',\n",
       "  'lkarnis-354-211893',\n",
       "  'mwmfornow'],\n",
       " 'reviews_date': ['3 November 2004',\n",
       "  '3 March 2006',\n",
       "  '28 August 2005',\n",
       "  '23 December 2003',\n",
       "  '18 June 2005',\n",
       "  '3 September 2004',\n",
       "  '30 November 2009',\n",
       "  '26 December 2004',\n",
       "  '7 July 2004',\n",
       "  '5 September 2008',\n",
       "  '11 November 2004',\n",
       "  '25 February 2004',\n",
       "  '29 November 2004',\n",
       "  '24 October 2004',\n",
       "  '8 January 2005',\n",
       "  '1 February 2007',\n",
       "  '2 August 2007',\n",
       "  '2 September 2003',\n",
       "  '29 March 2004',\n",
       "  '29 December 2003',\n",
       "  '5 March 2006',\n",
       "  '23 October 2014',\n",
       "  '17 August 2005',\n",
       "  '25 April 2012',\n",
       "  '3 April 2005'],\n",
       " 'titles': [' One of the bravest observations on the truth of humanity\\n',\n",
       "  ' A Disturbing Sense of Illustration\\n',\n",
       "  ' Hard to digest, but great.\\n',\n",
       "  ' Exploration of the darkness of the human soul\\n',\n",
       "  ' People as animals (spoilers throughout)\\n',\n",
       "  ' Incredible!!!\\n',\n",
       "  ' Are you shivering after seeing Dogville? I am.\\n',\n",
       "  ' A brilliant film\\n',\n",
       "  ' Unforgettable Bitter Play About a Town, Which Did Not Deserve To Be On the Map, and Its Disgusting Dwellers\\n',\n",
       "  ' A film which is stunning in its simplicity.\\n',\n",
       "  ' A lyric movie about society\\n',\n",
       "  ' Morally challenging but still a gripping, well written and well acted film\\n',\n",
       "  ' Reference to Edison a criticism of contemporary films?\\n',\n",
       "  ' Not as anti-American as you might think.\\n',\n",
       "  ' What I got myself into...an unbelievable film.\\n',\n",
       "  ' Dumb people still watch movies\\n',\n",
       "  ' A Different But Entirely Wonderful Film\\n',\n",
       "  ' This movie is SO overrated! (SOME SPOILERS!!)\\n',\n",
       "  ' Pretentious\\n',\n",
       "  \" It is God's Will In Dogville...\\n\",\n",
       "  ' A quiet little town not far from here....\\n',\n",
       "  ' Introducing: Live-action books on tape\\n',\n",
       "  ' A tale of morality\\n',\n",
       "  ' 3 hours of tedium\\n',\n",
       "  ' Lars Von Trier Should Seek Medical Attention Immediately\\n'],\n",
       " 'titles_sentiment': [{'neg': 0.0,\n",
       "   'neu': 0.588,\n",
       "   'pos': 0.412,\n",
       "   'compound': 0.6808},\n",
       "  {'neg': 0.452, 'neu': 0.548, 'pos': 0.0, 'compound': -0.5106},\n",
       "  {'neg': 0.122, 'neu': 0.305, 'pos': 0.574, 'compound': 0.7543},\n",
       "  {'neg': 0.202, 'neu': 0.606, 'pos': 0.192, 'compound': -0.0258},\n",
       "  {'neg': 0.0, 'neu': 1.0, 'pos': 0.0, 'compound': 0.0},\n",
       "  {'neg': 0.0, 'neu': 1.0, 'pos': 0.0, 'compound': 0.0},\n",
       "  {'neg': 0.0, 'neu': 1.0, 'pos': 0.0, 'compound': 0.0},\n",
       "  {'neg': 0.0, 'neu': 0.345, 'pos': 0.655, 'compound': 0.5859},\n",
       "  {'neg': 0.301, 'neu': 0.602, 'pos': 0.096, 'compound': -0.6249},\n",
       "  {'neg': 0.0, 'neu': 0.729, 'pos': 0.271, 'compound': 0.3818},\n",
       "  {'neg': 0.0, 'neu': 1.0, 'pos': 0.0, 'compound': 0.0},\n",
       "  {'neg': 0.0, 'neu': 0.577, 'pos': 0.423, 'compound': 0.6808},\n",
       "  {'neg': 0.293, 'neu': 0.707, 'pos': 0.0, 'compound': -0.4404},\n",
       "  {'neg': 0.0, 'neu': 1.0, 'pos': 0.0, 'compound': 0.0},\n",
       "  {'neg': 0.0, 'neu': 0.769, 'pos': 0.231, 'compound': 0.2023},\n",
       "  {'neg': 0.452, 'neu': 0.548, 'pos': 0.0, 'compound': -0.5106},\n",
       "  {'neg': 0.0, 'neu': 0.477, 'pos': 0.523, 'compound': 0.7572},\n",
       "  {'neg': 0.0, 'neu': 1.0, 'pos': 0.0, 'compound': 0.0},\n",
       "  {'neg': 0.0, 'neu': 1.0, 'pos': 0.0, 'compound': 0.0},\n",
       "  {'neg': 0.0, 'neu': 1.0, 'pos': 0.0, 'compound': 0.0},\n",
       "  {'neg': 0.0, 'neu': 1.0, 'pos': 0.0, 'compound': 0.0},\n",
       "  {'neg': 0.0, 'neu': 1.0, 'pos': 0.0, 'compound': 0.0},\n",
       "  {'neg': 0.0, 'neu': 1.0, 'pos': 0.0, 'compound': 0.0},\n",
       "  {'neg': 0.0, 'neu': 1.0, 'pos': 0.0, 'compound': 0.0},\n",
       "  {'neg': 0.0, 'neu': 1.0, 'pos': 0.0, 'compound': 0.0}],\n",
       " 'reveiws_text': [\"I started watching Dogsville and felt like turning it off.. after all, what kind of movie could occur with no scenery? No doors.. it seemed like some sort of play/movie hybrid but after a shortwhile all those things faded away until I realized how much I would have missed if I had turned it off - it is now one of my favourite movies of all time.Why? It is so brave to criticse humanity like this and admit just how 'dark' a race we truly are - not matter how much each of us profess to being 'good', we all know that most of us are anything but. Through this movie you see a woman who learns the cold harsh truth in a place where she expected to find the goodness that her faith told her existed. And then on not finding it, discovered that even within her lay a wrath that echoed the darkness that she herself wished did not feature so dominant in our race. And the biggest test of this is to observe your own emotions throughout this movie until what you feel at the end as perfect evidence...I honestly believe those people that don't believe what this movie is expressing needs to take a cold hard look around them. And if they still don't believe, they are just like the people in this movie - unwilling to see the truth and coming up with excuses and reasons when nothing justifies the horrible world we live in.A true masterpiece - one of the few pure pieces of art in cinema with amazing acting from Nicole Kidman especially, and the lack of a set causes you to be immersed in the characters like no other movie. And its 'them' and human nature that is the focus. Will leave you thinking and astounded (unless you don't like to think and can't watch a movie that isn't afraid to do something unique, in which case there a countless movies for 'you').\",\n",
       "  '\"Dogville\" is, along with Peter Jackson\\'s \"Heavenly Creatures\", one of the most disturbing film experiences I\\'ve ever had. Love it or hate it, it\\'s impossible to be indifferent about this overwhelming film written and directed by Lars von Trier.This is the first part of a trilogy ironically entitled \"USA: Land of Opportunities\" (\"Manderlay\" is the second, \"Wasington\" will be the third). \"Dogville\" begins with a prologue and extends to nine chapters in almost three hours of daring, exquisite film-making.Nicole Kidman gives the performance of her career, in my opinion. Forget her (great) portrayal of Virginia Woolf in \"The Hours\", and the ambitious Suzanne Stone (\"To Die For\"): Kidman\\'s most accomplished composition to date is Grace. She\\'s a beautiful young American who, apparently on the run from gangsters, hides herself in a small Colorado town called Dogville, helped by Tom (Paul Bettany) and the other residents. Things go fine for some time until Dogville\\'s folks begin to exploit the lovely Grace and, literally, chain her up like a dog.You\\'ll better appreciate the film if you don\\'t know too many details (and even if you do, Von Trier reserved us lots of bitter surprises). We could say briefly that this is a film about those people you lend a hand and want to take your arm, but \"Dogville\" is too sharp and intelligent to be summed up this way. Many people accused Lars von Trier of criticizing the American arrogance violently. That\\'s true, but the fact is that \"Dogville\" is a universal story: it could happen anywhere. Human beings are really this bad?, we wonder by the end. \"Dogville\" wasn\\'t made to make you feel good, but it\\'s a compulsory film for everybody.\"Dogville\" is a much better work than \"Dancer in the Dark\", Von Trier\\'s previous film which gave him the Golden Palm at Cannes, and proves definitely he\\'s one of the greatest filmmakers nowadays. He led his ensemble cast wonderfully, and all of them are superb (that\\'s no surprise, however, regarding Kidman, Ben Gazzara, Lauren Bacall, James Caan, Chloë Sevigny, Paul Bettany, Stellan Skarsgård, Jeremy Davies, Patricia Clarkson, Harriet Andersson, Udo Kier, Zeljko Ivanek and Philip Baker Hall, among others \\x96 honourable mention to John Hurt\\'s excellent, ironic narration). 10/10.P.S.: You\\'ll never forget David Bowie singing \"Young Americans\" after seeing this film.',\n",
       "  \"Tough. Once again Lars von Trier tortures the audience (as he did previously on Dancer in the Dark) by upraising the darkest side of the human being. From the beginning you know that things can only get worse, but I doubt that one can figure out neither what's to come nor the powerful conclusion. Nicole Kidman's interpretation is perfect - intense, poignant, passionate, you name it. She is fantastic and so is the small cast locked inside Dogville's scenario (a wonderful creation - I wonder how something so simple can bring such a strong effect). Again, the entire cast is fantastic and for that goes an extra credit for Lars von Trier. His capability of pushing actors to the limit and extracting painful emotions from them creates a heavy atmosphere, full of tension and, at the same time, so familiar. It is not that Dogville represents the essence of our communities, but it exposes some aspects of our lives that we prefer to hide under the carpet.\",\n",
       "  \"If one is looking for a starter to this heart-tearing masterpiece, I suggest My Dinner With Andre from 1981. Another movie from which you get a feeling of having read a good book. Very few films render that feeling, but these two do.Where to start describing the bouquet of feelings this masterpiece has caused in me? A good point is admiration for Nicole Kidman's mix of wit, grace, innocence scented with beauty that, as the film evolves, turns into a thick film, a pellicle of suffering and enduring, glued together with forgiveness. I do not wish to believe that those qualities can be displayed credibly without the actress actually possessing them ( :) ? ) From the point Chuck takes advantage of Grace the first time, I couldn't stop occasional shivers the just-observed caused me, so much it touched. The conclusion can be drawn after watching the film: one cannot know his/her true nature unless given a real ungoverned power over another living being. They all seem nice in the beginning. The power and a sense of opportunity of free use only amplify themselves in Dogvillians. The evil seed in Chuck spreads among all the dogs, or were they all evil a priori?Artificial settings? One stage? Please! They are forgotten in 10 minutes. As all true works of art, this thing glows from the inside, it doesn't need a vivid facade. Long movie? I would have liked to see maybe an even longer one, but it would have probably put me into even sadder mood watching the ugliness killing the grace.Indeed, Tom, a great illustration of the fact that humans haven't changed from the medieval or perhaps even more primitive times - still dismissing the truth about themselves as lies, the truth that only very few of them are unselfish, decent in terms of morale and even 1 cm away from the animal desires for flesh.Grace concludes that she wouldn't have been much better had she been born in Dogville. I disagree - one can be no matter how poor but still cultured, at list on a microlevel of one person, on a macroscale culture of course doesn't develop without having material funds at its foundation. Then a human raises his head from a plug and looks up in the sky, and connects with Love, and then the decency is born in him/her as a little fire that can't be put out by any amount of torture inflicted upon her/him. The decency can also be transferred from a parent to a child.Dogville got what it deserved, in the end, justice comes in and flushes the inner hollowness created by co-suffering with Grace, heals the pain.\\nThank you, Lars, and thank you, Nicole, this work is engraved into my mind for a lifetime.\",\n",
       "  'I find it quite amusing that so many Americans were outraged that Lars von Trier had the temerity to criticise their country without having visited it. After all, we do it all the time, don\\'t we? Millions of us are quite content to sit on our sofas and criticise China, North Korea, Zimbabwe, Israel and countless other countries without having visited their shores. And we\\'re perfectly justified in doing so. So why should Von Trier be vilified for criticising America from a few thousand miles away? Well, of course, I don\\'t think he should. He\\'s perfectly entitled to his opinion, and those that cry and moan are symptomatic of America\\'s biggest problem \\x96 its inability to take criticism without getting its pants in a twist. Surely every great country should thrive on criticism. It should help it grow and develop. But instead America seems to resemble a child sometimes, spouting unhelpful phrases like, \"America: love it or leave it\" or, \"You\\'re either with us or against us.\" Therefore a film like Dogville, one that refuses to revel in the hollow American Dream, is vital, and it\\'s a film that should be embraced, not shunned.But anyway, what the detractors seem to overlook is the fact that Dogville could really be a small town anywhere. It may be the first part in an American trilogy, but the small town values with their prejudices and hypocrisy are universal. Everyone can relate...The film begins and ends with a God\\'s eye view of the proceedings and it isn\\'t hard to imagine that Von Trier is looking down on the characters, judging them. In fact, as Tom himself says, everything is a game, a test, and Von Trier is the one pulling the strings.The game begins when Grace enters the town. The townsfolk are frightened, but Tom thinks it\\'s a gift. He wants to see if Dogville has a problem with acceptance. Well, at the beginning, the citizens are understandably cautious, but they\\'re eventually placated when Grace proves that she can help them out. And so at the beginning she develops a good relationship with the town and its citizens. But even at the beginning the relationship is far from equal. She may like everyone, but she\\'s essential a slave. Yet the townsfolk like her best like this, when she\\'s happily subservient.As the film progresses, the town is tested further. The police post wanted posters and accuse Grace of crimes that she couldn\\'t have committed (as she was in the town at the time). But rather than this bringing everyone around to her cause, the town gets cold feet. It wants to help, but only as long as it doesn\\'t put them at risk. Therefore they decide to doubly enslave Grace to make themselves feel better. It\\'s an extraordinary move, but one that is anything but far-fetched. Individuals are brave, but people have worrying habit of proving themselves to be spineless.And seeing as Grace affects the status quo, the townsfolk decide to take their frustrations out on her. The men rape her physically and the women rape her psychologically. In fact, the most upsetting scene isn\\'t one of the numerous rape scenes \\x96 although Chuck\\'s rape scene does prove the brilliance of the set, what with it showing everyone going about their daily business and turning a blind eye to what is going on - it is instead the womens\\' abuse of Grace and the destruction of her figurines. It\\'s more than just a physical violation. It\\'s a violation of everything. Her dreams are being smashed right before her eyes.But why do the people of Dogville react this way? Surely their behaviour is an exaggeration. Well, it is and it isn\\'t. Of course the film paints a bleak portrait of human nature that you might not find down your street, but I think that the film proves that we all have darkness present in us. It only takes the right conditions and the right buttons to be pressed for it to emerge. In the case of Dogville, it emerges for many reasons, but I think the main reason is because Grace shows everyone what they are. Before her arrival everyone is happily stuck in a rut, but once she arrives everything changes. Everyone is faced with their mediocrity and everyone\\'s lies are exposed. In one scene McKay, after having finally admitted his blindness, indeed thanks Grace for \"showing us who you are\", but during her time in Dogville she also forces Bill to realise his stupidity (by playing checkers for him), Liz her unattractiveness (by catching Tom\\'s eye), Ben his loneliness (by providing for him), Chuck and Vera their unhappy marriage (by catching Chuck\\'s eye) and Tom his cowardice (through his refusal to kiss her even though she\\'s admitted her love for him). Needless to say, not everyone likes being exposed. It\\'s hard to face yourself when you don\\'t like what you see. And therefore the person that you\\'re going to punish is the one that made you look at your reflection\\x85 The ending is certainly bleak, but I think it forces us to take a hard look at ourselves. How often have we taken advantage of other people when we should have helped? How often have our intentions been selfish? And Grace\\'s final actions suggest one thing to me: if you treat someone like an animal, you shouldn\\'t be surprised when they treat you like one too.',\n",
       "  \"When I started the movie and realized that it isn't really a movie, that it is more like a play and that there is really a lack of props and scenery I thought to myself, My God, what the heck did I buy???? I'm a huge fan of Nicole Kidman and she is the reason I bought it in the first place. The movie (or play), whatever u might wanna call it, drew me in and I couldn't stop watching. The end is so powerful, I was speechless. That's one of the best movies I have seen in a long, long, long, long time. I don't agree with the Anti-American comments I read here in some of the comments. Human emotions are all the same all over the world and this movie could have played in any country. Anyway, go watch this movie it's soooo worth it.\",\n",
       "  'This is probably the most shocking movie experience I\\'ve ever had, not only because of the emotional impact, but because this is truly a moral-horror movie that slapped me in the face.The film is probably one of the best moral tales ever told, in which Nicole Kidman and all the supporting cast shined. Why did the makers try to make it look incomplete? Why haven\\'t they used more sophisticated production set rather than some made-believe structures directly exposing the film studio\\'s interior environment to you? I didn\\'t get it at first, thinking this might just be another pretending piece of crap that tried to be \"artistic\".However as the story proceeded, the whole thing started to make senses. Featuring some of the best character study I\\'ve ever seen, the story involved you into the adventure of Grace, the main protagonist who\\'s supposed to be despised by us logically and naturally. Then, the audiences were forced into a game that the filmmakers keep you guessing what would happen the next, until the very end.The ending, in my opinion, is the most shocking and frightening ending ever seen in a film. Dogville is by no means marketed as a horror movie, but if one believes himself/herself to have the moral high ground, he or she should stand the test the movie has given us. For me, I chose to live with all the miseries happened to Grace and play along just like every other character in the story, \"sh!t happens\" as they say. This, has not only put me in shame but also freaked me out at the end. Considering the potential spoilers I would caused, I\\'d suggest you go see it for yourself.With superb acting, very well plotted story and a shocking message for senseless societies, Dogville is easily a masterpiece.',\n",
       "  \"I watched this film after much of the controversy about it at Cannes had passed. The buzz in the U.S. press was that the film was slanted and reflected Lars Von Trier's ignorance of American society. Such arguments are specious on their face--there are examples of great literature and film making where the creator never set foot in the setting, as any reader of Shakespeare well knows. So discounting the self-appointed guardians of America, what exactly is this film about, what are the film's merits and why does it evoke such strong feelings from its audience, especially American ones? What Von Trier has done is take several American icons: the gangster, the small town, the woman in distress, the ideal of the common person, the local sage and the wise elder gentleman doctor, and has turned them on their head to create a timeless play about human motivation, greed and the corrupting influence of power. The people of Dogville are on the surface simple and decent people. Grace's arrival and her helplessness is the catalyst that, step by step, tempts the people of Dogville to inflict upon her greater and greater humiliations to feed their now unrestrained desires. So complete is her humiliation that the twist at the end leaves the viewer very little sympathy for the fate of Dogville's citizens. It is a powerful message and the judgment of the characters is one that takes no prisoners. That there are more than a few examples of this behavior in contemporary American society (and in the American past) and that it confronts these issues directly is the reason for the controversy surrounding it and--apart from the brilliant acting, especially by Ms. Kidman and Paul Bettany--what makes it great art. Von Trier has made a movie that is part of the quintessential American proletarian artistic tradition and its setting in 1930s America is part of the film's genius. That he is not an American and that this movie did not originate in Hollywood should give us all pause. There is a scene in which Grace confronts the people of Dogville with a critique of their bad behavior. Their response is to either deny the truth of what she has said or to blame Grace herself for tempting them. This movie, without being preachy or dogmatic, attempts to provide its own critique and received much the same reaction as the movie's protagonist. I would not be surprised if this was Von Trier's original intent. Dogville is a disturbing and powerful film.\",\n",
       "  \"On the Great Depression, the fragile and beautiful Grace (Nicole Kidman) arrives in Dogville, a small town in Colorado, escaping from the mob. Tom Henson (Paul Bettany), a young local man, welcomes and introduces her to the distrustful community. They decide to vote whether she could stay with them or not. After a brief meeting, they decide to lodge her for fourteen days, when they could judge her behavior and come up to a final decision. Meanwhile, she should perform some small jobs for them in a sort of retribution, receiving a symbolic payment. Later, the police come to the town with some pictures of her, informing she was a missing person. The vulnerable Grace becomes a slave of the community, being used by the locals in the most sordid and cravenly way. The conclusion of the story is spectacular. Two days ago, I started seeing this long unusual movie, indeed a filmed play. It surprised me in the first moment, but a friend of mine told me that this movie was a sort of 'love it' or 'hate it' film. Yesterday, I finished watching the DVD and actually it is one of the best stories about human exploitation and pay back I have ever seen. In some moments, the unfair misery of Grace recalled me Victor Hugo's Jean Valjean. It is amazing the tendency of the human race, when having some kind of power, to exploit those who need. The lack of scenarios or special effects highlights the stunning performance of the cast in a very original screenplay. This film is a great homage to the theatrical world and for great actors and actresses. My vote is ten.Title (Brazil): 'Dogville' ('Dogville')\",\n",
       "  \"Initially I found the 'play' set-up gimmicky and disconcerting, however I soon forgot all about the framing and became fixated on the picture itself. There are no special effects nor camera tricks and make-up is kept to a bare minimum, which allows us to focus purely on the story and the quality of the acting; both of which are exemplary. Nicole Kidman is amazing as usual bringing a wonderful vulnerability and frailty to her character which conceals an underlying ruthlessness and brutality. Ample support comes from co-stars Betthany and Chloe Sevigny and in truth the whole cast is frighteningly convincing.The story is simple, a young woman who it appears is on the run from the mob seeks refuge in a small town known as Dogville. The residents who are initially wary of her soon warm to her and welcome her into their midst. This however, comes with a price she must do small favours in return for refuge. Inevitably greed, desire and mistrust take over the residents which corrupts them and has devastating consequences for all involved. The dramatic shift in the mentality of the townspeople is so well handled and expertly crafted by Von Trier, that it makes the emotional payoff which one receives at the end of this film even greater. It is utterly compelling and has universal themes. Ultimately, this is a film which may serve as a cautionary tale for all self-proclaimed 'civilised' societies and as a treatise upon karmic retribution.\",\n",
       "  'This movie is not the best I\\'ve ever seen, and probably not as good as \"Breaking the Waves\". But I left the theatre astonished, shocked, sad, confused, and a bit angry with the director, for being so cruel (and true?) in portraying human behaviour with vulnerable people, for using no props, for forcing me to watch the characters in their eyes and facial expressions \\'cause there was nothing to draw my attention away. But this movie deserves to be seen, because that\\'s what an artist is supposed to do, to share a bit of his thoughts and views, without giving answers, but arousing emotions and questions: and it has probably more right to be than other blockbuster movies sold by studios with nothing but what people like to see in it.',\n",
       "  \"Dogville is a small mountain village outside of George Town; it is a tight community of good people who look after each other.  However Tom, the town's writer and moral heart feels that the people are not caring deep down.  He has the opportunity to test this theory when a woman, Grace, stumbles into the village to escape gangsters.  He challenges them to hide Grace and take her in - and is pleasantly surprised as they gradually do.  In return she agrees to do work for the villagers - however the relationship begins decreasingly pure and increasingly exploitative.I have a natural dislike for films that come across as pretentious or arty for art's sake, so you can imagine I approached this film with slight trepidation despite not having seen any clips of it.  However, I did really like the film and was surprised just how quickly the three hours flew by. In terms of the plot, it is more than up to the task of the three-hour running time - in fact I (and most of the audience) stayed in my seat until the very last credit had run over great photographs and the great Bowie's `Young Americans'.  The plot is good enough to be accepted but you do need to see past the script and look at what it is saying to appreciate it - although having said that it would still grip me even if it hadn't made me think.Leaving the cinema I felt that I hadn't really bought the film's moral that nobody is really `good' because I felt that most people are not bad, and certainly not to this extent; but I think my mind was stuck on the specifics of the film rather than the meaning.  In the film everyone is socially polite and restrained, but once the chance to take advantage comes, it is increasingly taken (albeit to extremes). I felt the film was particularly harsh to Tom, who was actually a `good' person - however I think time has allowed me to understand it better.  We are not good people.  We do take advantage of others, whether it be individuals (while trying to keep up our good public image as much as we want) or groups.  Even those who turn a blind eye are `bad' simply because they could have acted for good and they didn't.I saw this film two weeks after illegal immigrants drowned in the UK while picking cockles for very, very low wages - they were caught in mudflats by the rising tide.  While the obvious `bad' people are those who made them work like this, many others knew of the work and ignored it.  More pertinently to the film is the fact that a vulnerable and needy group were exploited by society - just as Grace was here.  I didn't get the photographs over the end credit (I was into the music!) but they were all of the poor or minorities etc on the fringe of society - I found this challenging.  When many of us see people in need we will do enough to look `good' and keep our social niceties (ie put a £ in the cup) just like those in Dogville did. We all feel good after this, but this film challenges that idea of `good' as wholly inadequate and that just being polite and moving on is still `bad' even if it is on a sliding scale.  This is not to say that the film's plot and themes are perfect, but even flawed they are clear and will keep you thinking of the film long after it ends.Of course it is unrelentingly bleak for the entire second half, but this is the film and I had to accept it for what it was.  In terms of being arty, I found the bleak stage to work very well.  The only downside of it was cuts from very black scenes to white scenes hurt my eyes in the cinema.  This is not just theatre being filmed, the film uses the lack of scenery well. Sure it focuses the attention on the actors, but it also highlights how the people turn a blind eye.  In my favourite shot, a rape occurs in one `house' and the camera shoots it through all the others, they are unable to hide from it even if they don't look - it is a very simple way of showing the audience that everyone knows but is socially polite.  The film still uses makeup and props except for, inexplicably, Nicole Kidman herself.  She starts the film looking good but ends it looking as good - when really she would have looked tired or bedraggled and destroyed.In fairness Kidman manages to do that without makeup and her performance is very good throughout the film - it is easy to dismiss hers and the other stars' roles as some sort of justification of themselves as `real artists' but it was still a brave move for a business that is more about dollars than art.  The rest of the cast more than match her and I was surprised to see so many big names.  Bettany is very good as are Bacall, Hall, Ivanek, Sevigny and Skarsgård.  Even the child actor is very self-assured and Hurt's homely narration is colourful and funny.  Ironically the two black characters have little to do - the script says they are there as a token indication of Edison Sr's open-mindedness, but it is almost like they were token at times - sadly Shims' whole contribution is going `shhhh' twice!  Despite that there are no weak links, the acting is superb and it certainly appears as if von Trier's aim of stripping the film away to focus on performances has paid off in a big way.  Acting awards may not come but I have not seen more daring performances from a Hollywood cast for quite a while.Overall this is a bleak and challenging film - not only to watch but to think about and apply to myself too.  I left the cinema enjoying it but disagreeing with it's moral point of view, however I allowed myself to look and I now agree with it, as sad as that sounds.  As a story and a film it is wonderful; the fact that it has come to the multiplexes' forcing thought and emotion is even better.  The saddest thing is that so many teenagers at the screening I was in walked out - they saw something they were not used to and they rejected it within 30 minutes; I find that horribly depressing.\",\n",
       "  '***Spoilers***Let me start my review by saying that this film accomplishes what most filmmakers hope for when they begin the mountainous task of creating one: it provokes and engages the viewer\\'s mind. I will not review the film\\'s plot because prior posts have amply covered the many questions that are presented and only partly answered. This was an unforgettable film for me even though I do not accept its ideological foundations.One of the subtextual layers of the film involves what I see as a severe criticism of the film industry as a whole. I\\'m sure that most readers are aware of Lars von Trier\\'s grievances. In many ways, the things he has said about modern cinema ring true. How many times have we viewers left the movie hall, after watching the latest blockbuster, shaking our heads? The special effects may have astounded us, but the characters seemed petty and one-dimensional, or even worse, a GLORIFICATION of all that is bad about our culture. I emphasized the word \"glorification\" in the previous sentence because I do not believe that a film should ignore the bad - just that it shouldn\\'t make the antagonist the hero.The moving picture was invented by Thomas Edison. Because of him, we have the gift of film. Dogville begins with a father/son duo named after this famous inventor and it is here that I detect a critique of contemporary films. The younger Tom struggles to come up with a story; he wants to create something of value but he can only manage a meager three words. He walks around Dogville wanting to help its citizens, but he cannot relate to their situations. He, unlike them, does not have any financial worries because he lives with his father, Thomas Edison Sr., who brings in a comfortable pension.Tom the younger is living off of his father\\'s success. (Edison Sr. represents old Hollywood and is presented in a kinder light than the other town residents - i.e., he does not molest Grace.) Ineffectual in influencing his culture, young Tom is the first to recognize that Grace, played by Kidman, is a gift. He introduces her to the townspeople.Grace is accepted by the townspeople and for a while all are content to share in her sunshine. But then, the benefactors begin to long for a greater exploitation of Grace. Through Tom the younger\\'s mediation, they seek more \"balance\" from their relationship with Grace. No longer interested in her goodness and humanity, they want physical gratification at her expense (and ultimately Tom\\'s). Tom eventually goes along with them and is corrupted himself. (Tom, representing modern cinema, panders to them by wooing Grace even as he furthers her captivity. He gives them the equivalent of the gratuitous sex scene, car chase, or mass explosion with resulting body count.)Grace leaves Dogville and, in the spirit of the Dogme manifesto, decides that the world would be better off if the current societal malaise were eradicated, along with all of the money and capital of the modern film industry. Hence, Grace provides the coup de grace to young Tom.',\n",
       "  \"Dogville is long, and if you don't have the patience for a slow ramp-up of tension, it'll turn you right off. There are a couple story devices Von Trier uses that really bugged me, and I almost shut it off once. I'm glad I stuck with him, though, because he really took it somewhere and I came away really enjoying the experience..Critics who hated Dogville talk about it's hamhanded anti-American slant (Lars von Trier refuses ever to set foot in that country). I knew nothing about this film or Von Trier before seeing it and I have to say I entirely missed the anti-America thing until the backcredits. Don't get me wrong, there are several scenes that make commentary about rampant nationalism, prejudice towards immigrants and small town xenophobia, but those comments could be made about the zealous in ANY region of ANY nation at ANY time.If we are to criticize 21-st Century America, and there are plenty of reasons to criticize it, we must also criticize other peoples and governments who are screwing up royally. I think if Dogville has a point to make to America, its not that it is uniquely problematic, but that it is as problematic as any other nation. Where on this planet can you NOT find a group of people who think:THE WORLD WOULD BE A BETTER PLACE IF EVERYONE WAS JUST LIKE US.That statement is the kernel of failure for every major conqueror and every major religion in history and it portends the long, inevitable swirl down the toilet and the people who want you toppled have only to sit back and watch you do it to yourself.America is a great nation, with a lot of culture, history and art to be proud of, and maybe that's why modern artists feel the need to make pieces like Dogville. To remind America that, as great as it is, it's still a nation of crying, barfing, excreting, whining, greedy, worried, scared mouths to feed, just like the rest of us -- no better or worse.That's all I think Dogville does as an anti-American piece. If Von Trier meant to just poo on America, he missed his mark and ended up making a point about all of us. Regardless, he among many others wants America to change it's mind about itself, and it doesn't matter if he hates it or loves it. Much more interesting to me is the blatantly obvious point Dogville makes -- to what point do you forgive the transgressions upon you by others who may be less fortunate but are nonetheless doing wrong? It sure made me take a look at my own pacifism.Nicole Kidman was brilliant, as was Paul Bettany and the simpler townsfolk who will play so skillfully with your emotions. It seems I've been flooded with Kidman movies regularly for a couple weeks now and this is my favourite of her performances.Good film, Dogville.\",\n",
       "  'When I went into the movie theater to see this film I didn\\'t really know what I was getting myself into. All I knew was that \"Dogville\" had Nicole Kidman in it- an actress I have always liked- and Lars von Trier, a director I have always respected. I was quickly surprised by what the film was. Set entirely on a stage/sound stage I couldn\\'t believe my eyes. As a theatre actor it was exciting to see how this all was going to work out. Dogville did not disappoint. Lars von Trier clearly creates a town that may seen ordinary and odd into masterful. Nicole Kidman was excellent and the supporting cast was flawless. It was great to see Lauren Bacall and I enjoyed her performance. When I first saw Paul Beattany in the film all I could think of was the awful film \"A Knight\\'s Tale\" that he is also in. However he proved me wrong in his well developed character. Patricia Clarkson was great in her role as Vera, she is a stunning actress. If she keeps getting these great roles an Oscar is sure to be in her future. The film on the whole is wonderful. My only complaint was the length. Around the 2 hour mark I was getting kind of antsy, but the film brought me back to finish the roller coaster ride that the film gave. Truly an original. Go see it.',\n",
       "  'When a check-out operator (let\\'s call her Jane) at the local video store says: \"Do you really want to rent that, it\\'s the worst video we have in the shop?\" you can understand she\\'s trying to save you a dollar. Good on her.Trouble is, when she says it about a movie like this (Dogville) you just realise how dumb she is. Dogville is tremendous. Powerful, clever and brutal. No doubt my check-out chick had never seen a play or heard of Albee, Pinter etc. Short story is that this is one of the best movies I\\'ve ever seen. Sure, it\\'s slow, has no set to speak of and has far too much voice-over narrative (no doubt in a vain effort to entertain the poor Jane\\'s of the world). It makes up for that in the raw emotion it shows.Don\\'t be swayed. This is a story about one thing and one thing only. It\\'s about how naive immigrants/visitors to a new country inevitably get screwed by their new community. It\\'s a beautiful cometary on how new arrivals try hard only to get rammed by the society they arrive in. This ISN\\'T just anti American as many (too many) commentators have said. It\\'s the same in Australia (where I live) and Britain, Spain, France - anywhere where refugees go.The point is, human nature is the same everywhere. Osama Bin Laden are you listening? Creed, religion, upbringing mean little when put up against the basic human urges. Have a look at this movie and you\\'ll understand that what\\'s inside people is all the terrorism we can stand.I\\'m not a great fan of Nicole Kidman\\'s acting, well until now. She is superb. I don\\'t know when I\\'ve seen a film that has \\'wierded\\' me out as much as this one. It\\'s absolutely tremendous. The only criticism I have is that the ending is a bit contrived and quick but I guess after you\\'ve tortured and audience for 120 minutes, the end should be swift.',\n",
       "  \"I'm going to begin this review by pointing out that this movie has some very, very, very slow points in it. So slow that I would occasionally flip through a book I was reading at the time until something of interest caught my attention and I was watching again. But the parts that got my attention were well worth the dragging moments in-between. This may contain spoilers, so you are warned again. Nicole Kidman's character, Grace, is running from the mafia (for currently unknown reasons) and seeks shelter in a small little town out in the middle of nowhere. The town actually reminds me of what the original American colonies might have looked like or an Amish town, but with technology. The townspeople reluctantly agree to hide her but they ask that in return she work for them just like everyone else in the town. Of course, the grateful Grace agrees willingly and eagerly sets to work to help the community that had accepted her despite the obvious dangers. But gradually, Grace's jobs become more demanding the play less and less. One of the happy things in the town though is that she finds love in a man named Tom (who is a soft spoken gentle man who likes to ponder things). Unfortunately, the other men also take notice of Grace's outstanding beauty and begin to threaten her with her safety if she refuses to sleep with them. In turn, the women blame this fact on Grace herself and punish her by breaking some of her most prized possessions. Grace finds she cannot escape from the demented town and is forced to put up with their cruelties, despite whatever small help she gets from her lover Tom. Again, one thing that I LOVED is the filming and set design of this film. It's almost as if you're watching a play. Everything is labeled in chalk (the streets, the graveled path, the bushes, snow, etc.), the houses are represented by tall wooden flat pieces of... wood, there's an actual truck though and tables and other such things. I loved this concept... it's like seeing a play but paying the price for a movie. Now to talk about the things that horrified me the most. And this is where the SPOILERS come in. * When Grace tries to escape in the truck only to be returned to the town (why they were so hellbent on keeping her I have no idea... it seemed rather silly but it made them all seem the more crazy) and forced to wear a chain around her neck that was attached to a large metal wheel that she was forced to drag around. This was complete with a metal collar with a bell attached to it so that they all knew where she was. * When Vera forced Grace to watch her shatter the beautiful ceramic figures that she and Tom had been saving for months to buy when she found out that Grace had slept with her husband (though this was more of a rape as Grace tried to tell the upset Vera who would not listen). This made me sob, to put it mildly. * Tom's betrayal. It broke my heart that he should defend Grace this entire time only to realize that he had never really truly loved her and had only been afraid and had been using her. He then calls up the mafia to come and get Grace, hoping that it would be the end of it. Which brings us to the ending (MAJOR SPOILERS!!). I LOVED the ending more than words can say. I was hardly surprised when it turned out that the mafia man who had been hunting her had really been her father the entire time and that he really had no intent of killing her but instead to make her a partner (something she wanted nothing of). He also offers to take her away from the town, for somehow he knew all the cruelties she had been put through here, and that his men would kill them all if she so wished. She replies that she would rather live with them than with him and that none of them were cruel at heart. Her father then asks her to step outside and take a walk to think it over, which she gladly does. I love what happens next. She sits on a bench, looking down at the town, and thinks about how the townspeople were really just scared. She thinks about how she would have done the same if she were them and that she never really thought them wicked at all. And then, the light changes and in classic literary style she sees the townspeople's true natures in this new light. She then calmly gets back into her father's car, says that she wishes them dead, and tells him about a mother with children. When the killing is done and all of Dogvilleis dead, Grace sees Tom whom she asks the men not to shoot. She then takes a gun herself, listens to his pleas for forgiveness, and kills him herself. Like I said, I love this ending more than words can describe. At first I was really REALLY upset that she would just forgive them. I was outraged that she might let them live. Then I breathed a sigh of relief. It was truly a very moving, beautiful moment. One of the most moving that I've seen in a movie in a long time and in a way it was almost poetic. This movie could not have ended any other way. Bravo!\",\n",
       "  'I really did not like this movie. I have followed Lars von Triers career for a long time, and have seen all his movies, and the only one i really enjoyed was RIKET (The Kingdom) and Breaking the Waves. What annoyed me about Dogville was a lot of things: The main thing is that it never really gets to me, i don`t feel anything while I see it. And Von Trier himself once said: \"Film er følelser\" or \"Films are feelings.\" Dogville is surprisingly cold and it leaves a great distance between me and the characters. Another thing is the experiment in form. For those who havent seen it: It all takes place in the studio. The actors are in costume, but instead of streets, houses and trees and bushes there are markings on the floor that the actors were forced to relate to. The move through invisible doors, and you hear an invisible dog barking. Far away form his DOGME film THE IDIOT. It`s all very neat, but it all becomes very artificial. Which off course is why he did it. It all looks like a theatrical play that is being filmed, which is a thing i really hate. The story is ok, I was never really bored during this 3-hour movie, and the main reason for that is the wonderful actors. But if you come from Scandinavia you will find the story no more advanced than a Finnish tv-drama, filled with really evil people pretending to be nice, and the problems in small towns. Finnish tv-drama is an expression in these countries, and a genre Von Triers knows a lot about. But this kind of story demands an intimacy with the characters that you don`t get in Dogville. The theatrical appearance of the film creates a huge distance to the whole story, and the film falls between two chairs. It never moves or inspires. It just tells a long, long story, that frankly is not very believable, specially the ending, when we find out who Nicole Kidmans characters is, and she orders the whole village to be executed. A scene that never would have worked if Von Trier had uses film effects in stead of theatrical effects. It would have been to violent, and the N. Kidman character would have been even more difficult to swallow. The last thing that annoyed me during the entire film is John Hurts voice-over. He has a fantastic voice and presence in the film, but I hate it when a voice-over is telling me what I`m looking at. \"Now you`re seeing this, and now you`re seeing that!\" It is overstated the whole way through and it creates even more distance. All in all, a HUGE disappointment. Lars Von Triers experiment with the form of cinema fails big time. And I really feel a lot of people like this film just because it is weird and strange, and experimental. And I really feel sorry for the actors, see DOGVILLE CONFESSIONS and find out why. That doesn`t really matter, Hitchcock was terrible to his actors too. But go see it if you get the chance, find out what you think, I would love to discuss it, and as I said; the actors really save this movie from total failure.',\n",
       "  'I saw this film when in opened in Copenhagen last June.  After seeing it I was convinced that someone would have some sense and not release it in North America.  Nicole Kidman was riding high on her Oscar win for The Hours (another waste of two hours of my life) and I expected something interesting with Lars Von Trier directing.  What did I get for my $18 (Cdn)?  Answer: the most pretentious movie I have ever seen in my life.  I would expect something like this to come from a 1st year film student at a  small community college with all his/her friends \"acting\".  This film is not clever, the dialogue is downright boring and when it is not boring you to death it is downright laughable.  There is a scene with James Caan and Nicole Kidman where the conversation comes across as written by a high school student.  Avoid this movie at all costs.  1/10',\n",
       "  \"Yesterday I saw Dogville after almost one year of waiting its release in Mexico. I didn't know anything about the movie besides the basic plotline: a fugitive from justice seeks refugee in a small town that takes advantage of her. I knew that it was shot in a stage and that it was being criticized for being anti american. To my surprise and being a big admirer of both, Von Trier and Kidman, Dogville exceeded all my expectations. The movie is about major issues and throughout its exciting imagery, raw performances and sharp script, Dogville digs deeper than what its detractors are saying about it. It is not, in no way, an anti american film. ***WARNING. POSSIBLE SPOILERS AHEAD*** My interpretation is that it is metaphor on Jesus, as a female character, an arrogant rebel that denies her own father (because she doesn't understand his and thus, her power) and doesn't want to be her daughter.She's kind, noble, and teaches everyone how to be a better person and how to be useful, but in the end they turn against her, condemning her and -metaphorically speaking- crucifying her. Then, in a surprise ending that is literally taken from the Bible, she decides to do God's will in Dogville. It is a really brave decision from Nicole Kidman to do this character that may cause some heavy conflict in some viewers, and its is a triumph for Von Trier to choose such an exciting way to shoot the film, after all, if God is everywhere and see us from the top, he should see trough walls and ceilings. This is one of the greatest films I've ever seen.\",\n",
       "  \"First of all, I am surprised that 'Dogville' is not on IMDb'S top 250: it is one of my favorites and one of the most original movies I already have watched in my life.Many people doesn't like the lack of scenarios,special effects and soundtrack, but all of these things are secondary in Dogville: the high point to pay attention here, is the story and the message it is trying to show you: That power can corrupt and even people who seems to be nice, can exploit and use other people for their own selfish uses. Full of metaphors,I already heard some people saying that Dogville can be a metaphor of God/Christ and Human race, and many of the parallels can really fit in the story. (Look here: http://www.imdb.com/title/tt0276919/board/flat/23839682)Dogville looks a peaceful city with nice habitants, but in reality is like everywhere else and humans,sadly, are the same in everywhere.\",\n",
       "  \"This is a movie that takes place on a theater stage with almost no props. Painted outlines on the floor delineate the buildings and other props. To that weirdness, add the fact that it is a pretty scummy and unrealistic story. Finally, make it a loooong story. Artistic? Maybe. Cutting edge? Maybe. Bad? Well\\x85 Many have said Dogville has a subtle plot that takes a while to develop. I can't argue. Watching it does feel like a lot longer than 3 hours. With no visuals, it is really just a dialog movie. Basically, it's a book on tape. If you want to watch a book on tape (rather than listen to it) here is your chance. In the realm of books on tape, this one is a milestone. But I for one want to watch a movie to enjoy the power that a movie can bring to a story, i.e. recreating the images I picture in my mind when I read it. If that is not done for me, what is the point of sitting down to the movie? I give film-makers a little leeway to get creative, but that ultimate task is paramount to my enjoyment. This movie did not work for me.\",\n",
       "  \"Is this a tale about the loss of humanity as an individual suffers from the power of group behavior? Is it a about an idealist / philosopher unable to handle events and see the tragedy around him? Is this a scathing attack on the social conditions in the US? Or is it about the New World reversing power roles with the Old World? Is it a biblical allegory? Or an autobiographical description of Von Trier's life?Dogville, made as a staged play and inspired by the song Pirate Jenny by Bertolt Brecht, is all, making not the structure of the tale set in a Colorado mining town complex, but its interpretation. Like in Breaking the Waves, Von Trier uses the literature reference, dividing the movie in chapters to tell his tale of an individual becoming victim of group behavior, this time combined with the idealist / intellectual standing by and having no solutions on offer. It all watches like a Greek tragedy, the Greek names of the children of Vera and Chuck only confirming this.The biblical parts are thrown in with the dog Moses, as guardian of the Ten Commandments which are severely transgressed by the citizens of Dogville. The dog can only be seen at the end and is spared. We have the name of the main character Grace and her treatment comparable to that of Jesus; the blindness and the window; the seven figurines broken by Vera stand both for her seven children and the seven sins. Also the Old and New Testament (father and daughter in the car having different interpretations of morality) are touched upon, and Tom representing the betrayal of Judas.The concept of power plays an important part throughout the movie. The line of power starts with Tom, convincing the citizens of Dogville to give Grace a place to hide. As the philosopher, writer and spiritual leader of Dogville he is unable to cope with the basic problem of keeping mankind under control, he is shown as a theoretic, not someone who has practical solutions and fails as an authority (the practical engineer only adds to the misery here as he only makes instruments of oppression). Later the power is taken on by the group to commit the atrocities shown. Dogville is therefore also a warning about letting ignorant and simple minded people take on authority and decisions as there can be horrific consequences. At the end Grace's father comes in and Grace assumes the power from him. All misuse and are unable to handle the concept of power to proper use, the power of Grace and her father is mafia power after all (there is a hint the movie uses that the power of the US has grown out of criminal power, a common historical misunderstanding). The US State is unable to prevent anything of it happening here, it can only be heard in the distance or seen shortly when the police arrives (a prison and police force is the only thing the state offers in the movie). Dogville starts with a speech to be heard on the radio made by the President of the US; the radio is turned off before he starts talking. The end credits with the pictures give way to interpretations of the lack of a proper welfare state in the US, at least at the time of the Depression.Another moral issue arises in the most important dialog in the movie between Grace and her father. At first Grace is incapable to condemn the villagers. Her father calls that arrogance, because she should judge others by the same moral standards as she judges herself. She changes mind after thinking about this concept of morality, judgment and punishment. The whole view on mankind in Dogville is extremely dark: As you make yourself dependent of other people, they will always misuse that opportunity and take advantage of your weaknesses. Later Grace forgets all notions of forgiveness.Another interesting addition and layer comes when Tom suddenly takes on the role of Von Trier himself (the point where he talks about the trilogy). So in reality Von Trier sees himself in the role of Tom. And he makes a deliberate parody of himself, because the harsh and demanding way he treats actresses is in a way comparable to the treatment of Grace.Technically the movie is well shot with the camera-work of Anthony Dod Mantle. When Grace is raped for the first time, the camera retracts and it diminishes on purpose the impact of that scene. By showing inhuman acts without barriers like walls and doors they show how ignorant people usually are about them. But the best shot technically is from Grace under a blanket in the truck, it has surreal qualities.Two side notes: The beautiful music is by Vivaldi ('Cum dederit dilectus suis somnum' (IV) from 'Nisi dominus' RV 608). On the mine shaft we can read Dictum ad Factum, meaning Said and Done.\",\n",
       "  \"Excellent acting, excellent narration, unusual sets, etc. Might have worked if the story wasn't so weak and the characters so shallow. I suppose that such 'bold' film making might appeal to fringe art types who will no doubt gush about the various nuances that I am too unsophisticated to pick up. It is also possible that there are some aspects of the weak, manipulative characters in the film that might appeal to those who find their 'entertainment' in causing the needless suffer of others. It simply didn't work for me.I consider this a 3hr waste of time. Watched the whole thing to see if would ever redeem itself - and it didn't. Threw the DVD in the garbage.\",\n",
       "  'Seriously, I\\'m worried about that dude. Something must have happened to him. Maybe he burst a blood vessel in his brain. Maybe he has developed a hormonal imbalance. But after proving his abilities with the remarkable and heart-rending \"Dancer in the Dark\", it\\'s hard to take \"Dogville\" as anything less than a cry for help. This movie is flat out awful. The plot could kindly be called \"allegorical\" by people who don\\'t want to say \"implausible\" or, more honestly, \"shitty\". The characters might be called one-dimensional, if they even had reliable, static traits, which they don\\'t. The story is a sensationalistic, over-the-top account of rape, slavery and murder, and yet it manages to be crushingly, ploddingly, maddeningly SLOW (nearly 3 hours). The cameras were in focus, and Nicole Kidman was attractive, but other than that it is hard to think of a single thing that went right. Now, I understand that a lot of people love this movie because they think it exposes the seedy underbelly of human nature in general, and of the American national character in specific. (I certainly won\\'t question Von Trier\\'s credentials as a commentator on American culture, having lived all his life in Copenhagen, a city with several American fast food restaurants.) And I imagine you really could make a great movie about a woman who is initially welcomed and eventually enslaved and violated by a small American town. However, this ain\\'t that movie. In order to understand the depths of awfulness that this film achieves, maybe it would be helpful to enumerate some of the things that would be different in this highly theoretical \\'good\\' version of \\'Dogville\\' relative to the all-too-actual \\'Mongolian clusterfuck\\' version I review here.1) It would have very little voice-over. Voiceovers are to movies what bandages are to people: both indicate that that something has gone wrong. Voiceovers usually mean that a director made a major change to the movie after principle photography, generally because he (Von Trier being a he) has realized in editing that the movie he shot sucks dick. Our theoretical \\'good\\' Dogville would have no need of repeated voice-over, because the story would actually tell itself.2) Grace (Kidman) would be a rational human being. She would do things that would help her avoid suffering, like resisting at least one of her many rapists, or telling someone that Tom had stolen the $10, or pressuring Tom to get her out of town early on, or saving up her money for a damn bicycle instead of those cheap figurines, or trying to make friends with someone in the town in order to solidify her precarious position. Something like that. She definitely wouldn\\'t spend the first 2.5 hours suffering silently like some martyred saint, and then last 20 minutes burning the place down like Attila the Hun. 3) Tom would be a rational human being. He would be bookish, but not completely insane. He would fall in love with Grace, and then show some actual concern for her safety, instead of wandering around for two hours spouting nonsense. And most importantly, when he found out about the rape it would have some kind of emotional effect on him (any normal person would FLIP OUT). He certainly wouldn\\'t go to this woman that he apparently loves and gently bitch to her about how unfair it is that he is the only person who doesn\\'t get to rape her. And even if he DID do that, Grace would respond with something a little more salty than a lecture from a graduate level philosophy seminar on the nature of love in a slave society. 4) The other townspeople would be rational human beings. There would be less of them, say 9 instead of 15, which would allow each one to appear on screen more than once every 30 minutes. There would be a good reason why, say, the church organist who befriends Grace doesn\\'t protest when Grace is literally placed in shackles, a reason better than, \"Boy it would be inconvenient if I had to start sweeping the stairs again.\" Even if there was a reason, some of the townsfolk would at least be SOMEWHAT conflicted about the whole idea. Oh, and there would be a good reason why the first person to take a disliking to Grace wouldn\\'t immediately drop a dime in order to get the $5000 reward.5) The movie would be about 75 minutes shorter. The extra time would come from all the time the characters spend milling about, doing chores, talking about nothing. Grace would show up in the first five minutes, she would be raped within the first 60 minutes, and the town would be burning by the 100 minute mark. Tom wouldn\\'t get more than a minute to yammer on about moral rearmament, nor would anyone get to spend 10 minutes shouting the word \"arrogant\" repeatedly. These are just some of the things that would happen in a good version of \"Dogville\". Two thing you wouldn\\'t need to change is the excellent ensemble cast and a director who, when properly medicated, is quite talented. But then, as flawed as \"Dogville\" is, this amounts to no more than installing expensive toilets on the Titanic. IN CONCLUSION: Do not see Dogville. It isn\\'t worth your time, even in a so-bad-it\\'s-good sort of way. If you like America-bashing, rent a Michael Moore film. Moore is at least funny and concise. \"Dogville\" is a muddled, frustrating, ridiculous mess. None of the characters ring true, and as a result, the horror and shock that should accompany this story never materialize. If you just have to know what you are missing, go see \"Dancer in the Dark\" and try to imagine a horribly botched sequel. But again, do not see \"Dogville\" under any circumstances.'],\n",
       " 'text_sentiment': [{'neg': 0.059,\n",
       "   'neu': 0.751,\n",
       "   'pos': 0.19,\n",
       "   'compound': 0.9956},\n",
       "  {'neg': 0.088, 'neu': 0.727, 'pos': 0.185, 'compound': 0.9912},\n",
       "  {'neg': 0.116, 'neu': 0.698, 'pos': 0.186, 'compound': 0.9666},\n",
       "  {'neg': 0.11, 'neu': 0.701, 'pos': 0.189, 'compound': 0.9926},\n",
       "  {'neg': 0.133, 'neu': 0.708, 'pos': 0.159, 'compound': 0.9861},\n",
       "  {'neg': 0.028, 'neu': 0.797, 'pos': 0.176, 'compound': 0.9714},\n",
       "  {'neg': 0.125, 'neu': 0.71, 'pos': 0.164, 'compound': 0.9493},\n",
       "  {'neg': 0.08, 'neu': 0.797, 'pos': 0.123, 'compound': 0.9634},\n",
       "  {'neg': 0.081, 'neu': 0.741, 'pos': 0.178, 'compound': 0.9883},\n",
       "  {'neg': 0.065, 'neu': 0.807, 'pos': 0.128, 'compound': 0.9253},\n",
       "  {'neg': 0.196, 'neu': 0.691, 'pos': 0.113, 'compound': -0.9185},\n",
       "  {'neg': 0.102, 'neu': 0.756, 'pos': 0.142, 'compound': 0.9901},\n",
       "  {'neg': 0.071, 'neu': 0.736, 'pos': 0.193, 'compound': 0.9973},\n",
       "  {'neg': 0.111, 'neu': 0.772, 'pos': 0.116, 'compound': 0.8425},\n",
       "  {'neg': 0.028, 'neu': 0.81, 'pos': 0.162, 'compound': 0.9811},\n",
       "  {'neg': 0.096, 'neu': 0.824, 'pos': 0.08, 'compound': -0.773},\n",
       "  {'neg': 0.134, 'neu': 0.678, 'pos': 0.188, 'compound': 0.9966},\n",
       "  {'neg': 0.125, 'neu': 0.774, 'pos': 0.101, 'compound': -0.9633},\n",
       "  {'neg': 0.078, 'neu': 0.82, 'pos': 0.102, 'compound': 0.5076},\n",
       "  {'neg': 0.063, 'neu': 0.795, 'pos': 0.142, 'compound': 0.9774},\n",
       "  {'neg': 0.06, 'neu': 0.792, 'pos': 0.148, 'compound': 0.9439},\n",
       "  {'neg': 0.036, 'neu': 0.851, 'pos': 0.113, 'compound': 0.9518},\n",
       "  {'neg': 0.118, 'neu': 0.781, 'pos': 0.101, 'compound': -0.9753},\n",
       "  {'neg': 0.083, 'neu': 0.786, 'pos': 0.131, 'compound': 0.7607},\n",
       "  {'neg': 0.14, 'neu': 0.713, 'pos': 0.147, 'compound': 0.8734}]}"
      ]
     },
     "execution_count": 10,
     "metadata": {},
     "output_type": "execute_result"
    }
   ],
   "source": [
    "postRequest.json()"
   ]
  },
  {
   "cell_type": "code",
   "execution_count": 11,
   "metadata": {},
   "outputs": [
    {
     "data": {
      "text/plain": [
       "<Response [200]>"
      ]
     },
     "execution_count": 11,
     "metadata": {},
     "output_type": "execute_result"
    }
   ],
   "source": [
    "postRequest = requests.post('http://127.0.0.1:8000/smart/',data = {'link': \"https://www.amazon.com/RUNMUS-Surround-Canceling-Compatible-Controller/dp/B07GRM747Y/ref=cm_cr_arp_d_product_top?ie=UTF8\"})\n",
    "postRequest"
   ]
  },
  {
   "cell_type": "code",
   "execution_count": 12,
   "metadata": {},
   "outputs": [
    {
     "data": {
      "text/plain": [
       "{'Titles': ['The mic is perfect',\n",
       "  'Excellent headset, are made to last.',\n",
       "  \"It's a better product than you'd expect for the price\",\n",
       "  'Solid purchase for xbox one use,',\n",
       "  'Impressive Headset for Gaming',\n",
       "  \"It's great for a budget headset.\",\n",
       "  'Awesome for kids',\n",
       "  'Great price, high quality',\n",
       "  'Awesome Headset for the price',\n",
       "  'One of my best \"Cheaper\" purchases.'],\n",
       " 'Authors': ['Lady Lotus',\n",
       "  'Leonardo R.',\n",
       "  'Matthew Sawhill',\n",
       "  'VLT',\n",
       "  'Anthony S',\n",
       "  'Brandon L.',\n",
       "  'J. Hubbard',\n",
       "  'Chhun Hong',\n",
       "  'Josh K',\n",
       "  'David'],\n",
       " 'Date': ['Reviewed in the United States on October 5, 2019',\n",
       "  'Reviewed in the United States on October 1, 2019',\n",
       "  'Reviewed in the United States on July 25, 2019',\n",
       "  'Reviewed in the United States on October 1, 2019',\n",
       "  'Reviewed in the United States on October 2, 2019',\n",
       "  'Reviewed in the United States on October 24, 2019',\n",
       "  'Reviewed in the United States on July 25, 2019',\n",
       "  'Reviewed in the United States on July 28, 2019',\n",
       "  'Reviewed in the United States on July 21, 2019',\n",
       "  'Reviewed in the United States on July 12, 2019'],\n",
       " 'Helpfulness': ['721 people found this helpful',\n",
       "  '450 people found this helpful',\n",
       "  '434 people found this helpful',\n",
       "  '351 people found this helpful',\n",
       "  '345 people found this helpful',\n",
       "  '293 people found this helpful',\n",
       "  '306 people found this helpful',\n",
       "  '306 people found this helpful',\n",
       "  '266 people found this helpful',\n",
       "  '262 people found this helpful'],\n",
       " \"Reviews' Texts\": ['These are the single best pair of headphones I have ever used in my life. They are bulky, strong, soft on the ears, beautiful, top quality for the dollar.\\n\\nThe sound: It does not oversell the surround sound, you will hear everything from every direction as if you were in the battlefield of the badlands. The quality of sound is beautiful as well, not muffling or diluting despite size, crisp and fresh. Noise cancellation? You\\'ll be able to hear enough outside to make sure no one is going to play a game of SAW with you but give you peace of mind. Want more control of volume? No sweat, it comes with a small volume wheel.\\n\\nThe mic: Wonderful work of art. Ignores outside sounds (except mechanical keyboard clicks of a certain type, those are loud.) You will be heard clearly, you will be clearly understandable and able to communicate with the most effect compared to other headsets, and is good at making sure only you are heard. Need to insta-mute that mic? It comes with a button that turns it off before anyone can hear what\\'s going on.\\n\\nHow does it feel? It surrounds and cups the ear, instead of pressing tightly against the tips and giving those horrible headaches. It gives your ears breathing room and the protein foam for the top of your skull is so pleasant that you can easily forget it\\'s even there. The mic is comfortable to move around without getting in my way. Out of mind, the only thing you\\'ll focus on is the sound blessing your ears. Want to wear it for three days in a row in your chair without visiting the bathroom and having a system of snacks and drinks at your desk for that ultimate WoW session? Go right ahead, it won\\'t feel any different than when you put it on to begin with.\\n\\nWill they break easily? NO. These things are built like tanks for your skull, if you drop it, it will brush it off and laugh at the poor attempt to even crack it. This thing might even be a good tool for self defense with how strong it is, these aren\\'t poor quality materials.\\n\\nHow does it look? It looks like you\\'re about to perform an impossible feat on your new favorite game. It\\'s beautifully designed, has a red glare that will bring fear into your fellow gaming buddies when you hear their every breath in the game. They are equipped for any situation, they are scary to be against, and highly fashionable to show off and brag to your fellow gamers on Twitch and Steam. They are thick, but that makes this beast seem even bigger and more dominating than those sad little Skullcandy mobile headphones.\\n\\nWhat can I use it on? If it has either a USB port or can take those little round plugs, congratulations, this works on it. PC is what I use it on, but if I wanted to I could use it on any other single device a gamer could ever imagine using. Even old systems take this beast and let them in, it is perfect.\\n\\nPrice vs Quality: Anything that claims to be better will either be a liar or something extraordinarily developed and thus be very costly. This competes with other more costly \"top rated\" headphones. This packs the features, the looks, the comfort, and the durability all for a considerable price that anyone would be right to simply choose this on first sight. I almost was a foolish mortal and thought about others, but no, I made the right choice to take this set and buy it. If it ever breaks I will be surprised and heartbroken. It has improved everything in my games, I cannot possibly appreciate any headphones more than this.\\n\\nYou will regret not knowing what beauty is here before you by buying some lame headset for more of a price, because I feel very comfortable that this one will certainly out compete it without a SINGLE QUESTION. Buy it sooner than later, TREAT YOURSELF. I will be getting another for my brother without a doubt.',\n",
       "  'The product complies with everything the manufacturer promises and the following aspects can be highlighted:\\n\\n1. The headset is quite comfortable, the material of the pads is very soft, which allows them to be used for a long time while the game is going on.\\n\\n2. The headset aid is made of excellent materials, which makes it very robust.\\n\\n3. The cable is long enough, and the volume control gives the user a lot of freedom to raise or lower the volume quickly when needed, without having to pause the game or get too close to the console or PC.\\n\\n4. The maximum volume it provides seems appropriate for long gaming sessions, since the idea is to enjoy the game and not damage the ears.',\n",
       "  \"Throughout this review, keep in mind that I'm comparing this headset to my brother's $100+ headset. People usually start with the pros, so here are the cons first:\\nCONS:\\n1.) Your ears get warm playing for any length of time which I'm getting used to. In comparison to my bro's headset, the earcups around the ear don't even touch your ear, giving ventilation to the ear to keep it cool.\\n2.) It's wired, which isn't a bad thing necessarily, but the wire is just over 6 feet in length and can get caught on things when you're moving it. Maybe the long wire would be good for the XboxOne (IDK), but for the Playstation 4 all you need to do is plug it directly into the controller, and it automatically connects to the system, so you'd only maybe need half the length that they give you. My bro's headset is wireless.\\n\\nThat's it for the cons, as for the pros:\\nPROS:\\n1.) Comfortable. It's heavily padded around the ears and the top of the headset where it rests on your head. I've worn this for 5 or 6 hours straight, and it still felt extremely comfortable. My bro's headset is similarly comfortable, maybe slightly better, but not by much.\\n2.) The sound is great. My brother's headset claims 3D sound with amazing clarity, but in comparison, I've found that there isn't a great difference (if any!) with this headset and his own.\\n3.) The microphone works crisp, even though I only sometimes hear echos of myself through other people's TV's, I've told they're clear by other players.\\n4.) I've only owned this headset for two weeks, but feels well made, and you can definitely tell they built it smart, even though there's a lot of hard plastic covering the expensive materials, it's sturdy. However, if I were to compare it with my bro's headset, there would be a measurable difference between the two in weight and materials used (on the outside). Like I said, the inside seems like the best part (which is the part that matters, I believe).\\n\\nSo, if you're looking for a $28 dollar headset, then get this one. If you're wanting to spend $100+ dollars on a headset, you can find some marginally better in almost every way. Just depends if you want to spend another $80 dollars, or if you want to get a good quality product from a seemingly smart respectable company.\",\n",
       "  'to keep it short and simple, I play on the Xbox one, I have had zero issues with this headset, no issues or interference conveying my voice or hearing others in a chat, the 50MM magnets work well and I can turn the volume plenty high, and I trust this cable to last, this has been an outstanding value for the $25, I do not see a reason to choose a more expensive headset unless you are more concerned with picking out your style.',\n",
       "  \"Purchased these because my other headset wasn't working and after reading the reviews on these, I said what the heck. I received them Sunday night and so far they are excellent. The sound quality is really good and the noise cancellation is awesome. They are pretty comfortable as well although they do feel a tad bit heavy but I'm sure I will get used to them. I like the Red Lights on them but I won't be using that at all. Overall, I am very satisfied with my purchase. You can't go wrong with the price of these for playing video games.\",\n",
       "  'The sound is great, the microphone works, what more could you need from a headset? By default it has one 3.5mm headphone jack but comes with an adapter so you can plug individually into headphone and microphone ports on your PC. The headset also has a USB port that just lights up the device. I ran into some minor issues when using this and contacted their customer support. Their customer support got back to me very quickly and we were able to resolve the issue.',\n",
       "  \"I bought this for my 8 year old son to talk to his cousin while playing Fortnite. He's not allowed to talk to strangers online, so I love that you can mute the microphone right from the cord instead of having to go into the game settings to mute it. It's very flexible, which is a huge plus, since my son tends to drop and break everything. Both he and I have worn the headset to play Fortnite and the sound quality is fantastic for less than $30. Also, the headset is surprisingly comfortable. Even my 4 year old likes wearing it. The lights are cool, but I need to buy a USB extension to use them. It is a little awkward having a cord plugged into the controller and another cord plugged into the back of the tv (our nearest USB input), but my son doesn't seem to mind. Overall, we're very pleased with our purchase!\",\n",
       "  \"I bought this headset for my nephew, who enjoys gaming a lot. Here is his opinion on it.\\n\\nI have been using this product for several months now and it does not disappoint. The mic quality is crystal clear, and my gaming friends noticed its high quality immediately. The ear cuffs are somewhat large, however, they are by no means uncomfortable. The volume adjustments on the cable are very convenient and so is the ability to mute the microphone whenever, with a single flip of the switch. This headset requires a USB connection for the LED lights to appear, and they look flashy and cool. The sound quality is amazing and much better than my previous headset, which cost nearly $100. The headset's noise cancellation works well and my gaming friends are unable to hear annoying background noises when I am using it. Overall, great buy for its price and would definitely recommend.\",\n",
       "  \"This is a really nice headset for the price. The band across the top feels a little cheap (read: weak), but it has lasted for a couple of months of heavy usage. The bass response is great, and it has long term comfortability. The leds (if you're into that) work great, but if you don't want to use them, just don't plug in the USB cord, as the audio is via a 3.5mm jack, not USB.\",\n",
       "  'SO I used to use a simple single wire $20 gaming headset made by Hades. They were a cursed brand for me, I always broke the jack. I went through three, lol. I bought these due to the fact I was getting tied of just using skull candy earbuds for my Xbox. I found this nice headset that can be used for my PC and Xbox, at a lower cost too, so I figured, why not?\\n\\n- Sound Quality\\nThe quality I am very satisfied with, including its 7.1 surround sound capabilities. It helps me in FPS shooters like Siege trying to listen for enemies. The bass in it sounds pretty good, but when I \"Good\" its noticeable but I like me a hearty bass from deep within my heart... Otherwise the sounds are really nice and no complaints from there.\\n\\n- Comfort?\\nThe pads on the Ears and across the scalp are actually quite comfy. If you no life some games for like 8+ hours, its understandable when your ears are tired of being pushed back a little, so mine are small enough to tuck a bit into the speaker areal. That\\'s where as a personal request if there could be a foam padding between the speaker and the mesh that covers it, for those who have small ears. I don\\'t have much say, as the producer are the engineers...\\n\\n- Summary\\nGood for when you\\'re trying for a starter gaming headset... The sound does work without the USB plugged in, you just wont get ya fancy lights. This does work with just the jack in the Xbox One S, as it is a newer controller and not needing the adapter. (Your choice if you still wish to buy the adapter if it makes you more comfortable.)'],\n",
       " \"Reviews' Texts Sentiment\": [{'neg': 0.082,\n",
       "   'neu': 0.735,\n",
       "   'pos': 0.183,\n",
       "   'compound': 0.9979},\n",
       "  {'neg': 0.016, 'neu': 0.825, 'pos': 0.159, 'compound': 0.9657},\n",
       "  {'neg': 0.024, 'neu': 0.783, 'pos': 0.193, 'compound': 0.9976},\n",
       "  {'neg': 0.023, 'neu': 0.826, 'pos': 0.15, 'compound': 0.9001},\n",
       "  {'neg': 0.0, 'neu': 0.76, 'pos': 0.24, 'compound': 0.9768},\n",
       "  {'neg': 0.0, 'neu': 0.861, 'pos': 0.139, 'compound': 0.9194},\n",
       "  {'neg': 0.027, 'neu': 0.837, 'pos': 0.136, 'compound': 0.9399},\n",
       "  {'neg': 0.027, 'neu': 0.755, 'pos': 0.218, 'compound': 0.9856},\n",
       "  {'neg': 0.036, 'neu': 0.796, 'pos': 0.168, 'compound': 0.9273},\n",
       "  {'neg': 0.036, 'neu': 0.806, 'pos': 0.159, 'compound': 0.9911}],\n",
       " \"Reviews Titles' Sentiment\": [{'neg': 0.0,\n",
       "   'neu': 0.448,\n",
       "   'pos': 0.552,\n",
       "   'compound': 0.5719},\n",
       "  {'neg': 0.0, 'neu': 0.575, 'pos': 0.425, 'compound': 0.5719},\n",
       "  {'neg': 0.0, 'neu': 0.756, 'pos': 0.244, 'compound': 0.4404},\n",
       "  {'neg': 0.0, 'neu': 0.758, 'pos': 0.242, 'compound': 0.1531},\n",
       "  {'neg': 0.0, 'neu': 0.476, 'pos': 0.524, 'compound': 0.5106},\n",
       "  {'neg': 0.0, 'neu': 0.549, 'pos': 0.451, 'compound': 0.6249},\n",
       "  {'neg': 0.0, 'neu': 0.328, 'pos': 0.672, 'compound': 0.6249},\n",
       "  {'neg': 0.0, 'neu': 0.423, 'pos': 0.577, 'compound': 0.6249},\n",
       "  {'neg': 0.0, 'neu': 0.494, 'pos': 0.506, 'compound': 0.6249},\n",
       "  {'neg': 0.0, 'neu': 0.543, 'pos': 0.457, 'compound': 0.6369}]}"
      ]
     },
     "execution_count": 12,
     "metadata": {},
     "output_type": "execute_result"
    }
   ],
   "source": [
    "postRequest.json()"
   ]
  },
  {
   "cell_type": "code",
   "execution_count": 36,
   "metadata": {},
   "outputs": [
    {
     "data": {
      "text/plain": [
       "<Response [200]>"
      ]
     },
     "execution_count": 36,
     "metadata": {},
     "output_type": "execute_result"
    }
   ],
   "source": [
    "postRequest = requests.post('http://127.0.0.1:8000/smart/',data = {'link': 'https://www.youtube.com/watch?v=-dwMjQlkVT4'})\n",
    "postRequest"
   ]
  },
  {
   "cell_type": "code",
   "execution_count": 37,
   "metadata": {
    "scrolled": true
   },
   "outputs": [
    {
     "data": {
      "text/plain": [
       "{'Author': ['Abdullah Balobaid',\n",
       "  'Nawaf A',\n",
       "  'hamed lotfi',\n",
       "  'Fhd H',\n",
       "  'Ali Anjomshoae',\n",
       "  'M M',\n",
       "  'Maysam Rasheidi',\n",
       "  'Tempur TV',\n",
       "  'Abdulaziz Alzahrani',\n",
       "  'SomeoneNotSpeciaL',\n",
       "  'SHAHNAZ',\n",
       "  'Lia22',\n",
       "  'Freez 2004',\n",
       "  'Bayu Aji',\n",
       "  'Katherine XD',\n",
       "  'Saeed Alblooshi',\n",
       "  'Soso Bakrkr',\n",
       "  'Khayyam Nieshaburi',\n",
       "  'Hamed Alabbasi',\n",
       "  'dhiraj7m'],\n",
       " 'Date of Submission': ['3 weeks ago',\n",
       "  '3 weeks ago',\n",
       "  '3 weeks ago',\n",
       "  '2 weeks ago',\n",
       "  '2 weeks ago',\n",
       "  '3 weeks ago',\n",
       "  '1 week ago',\n",
       "  '2 weeks ago',\n",
       "  '2 weeks ago',\n",
       "  '2 weeks ago',\n",
       "  '2 weeks ago',\n",
       "  '3 weeks ago',\n",
       "  '1 week ago',\n",
       "  '2 weeks ago',\n",
       "  '1 week ago',\n",
       "  '1 week ago (edited)',\n",
       "  '2 weeks ago',\n",
       "  '3 weeks ago',\n",
       "  '2 weeks ago',\n",
       "  '3 weeks ago'],\n",
       " 'Comment': ['Great video. As a Saudi, I’m really interested in Iran and it’s culture and hopefully I could go there in the future. \\nHuge love to all Iranian brothers❤️',\n",
       "  'As a Saudi, I really hope for peace in the region so us & our Persian brothers & sisters can visit each other! As much as we look divided politically, we’re one.',\n",
       "  'I am an iranian and I hope one day I can travel to Saudi Arabia and visit there',\n",
       "  'As a Saudi I absolutely believe Iranian people are genuine and nice people and all the conflicts between the two countries are for political reasons at the first place. These conflicts don’t benefit both people. They were created by the politicians. \\nGreetings people of Iran from Saudi 🇮🇷 🇸🇦',\n",
       "  \"I'm from Iran, and I would love to visit Saudi Arabia one day. We as neighbor share a lot of culture and we have deep respect for each other.\",\n",
       "  'I pray for peace in Middle East 🇸🇦❤️🇮🇷',\n",
       "  'as an Iranian, I got lots of good feelings and sensations from the comments section. thank you people from Saudi :)',\n",
       "  'Only Arabs and Persians who would fight at the restaurant to pay your bill 😂',\n",
       "  'Saudi people have nothing but respect to the Iranian people and Iranian civilization',\n",
       "  'New Generation love each other ❤️ i mean Saudi and Iran people, Elders will keep hating till the end but we don’t care, i would love to visit Iran 🇸🇦 🇮🇷',\n",
       "  'Big Love to Saudies From Iran',\n",
       "  \"Can't wait for the day when I'll visit Iran!\",\n",
       "  'God bless iran 🇮🇷 and saudi arabia 🇸🇦 \\n(Suni ❤️shiaa )',\n",
       "  'Love to Iran from Indonesia 🇮🇷❤️🇮🇩',\n",
       "  'I really wish to visit Iran one day love from Saudi Arabia 🇸🇦',\n",
       "  'We need more videos like this \\nPeace and respect 🇮🇷❤🇸🇦',\n",
       "  'i met many iranian people through social media and games and they were some of the kindest people I’ve seen ever ! I really hope to visit their beautiful country one day ❤️ love from Egypt 😘',\n",
       "  '1:05 \\nThis is 600 Years Old Iranian Church In City Of Isfahan, Vanak Church \\nThis is not mosque',\n",
       "  'Let’s not forget that any problem that happened between us is our leaders fault not ours 🇸🇦🇮🇷❤️❤️ love and respect ❤️❤️',\n",
       "  'I will definitely visit Iran one day, ❤ India.'],\n",
       " 'Sentiment': [{'neg': 0.0, 'neu': 0.605, 'pos': 0.395, 'compound': 0.9459},\n",
       "  {'neg': 0.0, 'neu': 0.805, 'pos': 0.195, 'compound': 0.8047},\n",
       "  {'neg': 0.0, 'neu': 0.854, 'pos': 0.146, 'compound': 0.4404},\n",
       "  {'neg': 0.088, 'neu': 0.731, 'pos': 0.18, 'compound': 0.6597},\n",
       "  {'neg': 0.0, 'neu': 0.732, 'pos': 0.268, 'compound': 0.8591},\n",
       "  {'neg': 0.0, 'neu': 0.58, 'pos': 0.42, 'compound': 0.7003},\n",
       "  {'neg': 0.0, 'neu': 0.682, 'pos': 0.318, 'compound': 0.8126},\n",
       "  {'neg': 0.239, 'neu': 0.607, 'pos': 0.154, 'compound': -0.0258},\n",
       "  {'neg': 0.217, 'neu': 0.783, 'pos': 0.0, 'compound': -0.5157},\n",
       "  {'neg': 0.05, 'neu': 0.653, 'pos': 0.296, 'compound': 0.9109},\n",
       "  {'neg': 0.0, 'neu': 0.543, 'pos': 0.457, 'compound': 0.6369},\n",
       "  {'neg': 0.0, 'neu': 1.0, 'pos': 0.0, 'compound': 0.0},\n",
       "  {'neg': 0.0, 'neu': 0.671, 'pos': 0.329, 'compound': 0.5994},\n",
       "  {'neg': 0.0, 'neu': 0.625, 'pos': 0.375, 'compound': 0.6369},\n",
       "  {'neg': 0.0, 'neu': 0.605, 'pos': 0.395, 'compound': 0.8016},\n",
       "  {'neg': 0.0, 'neu': 0.474, 'pos': 0.526, 'compound': 0.8751},\n",
       "  {'neg': 0.0, 'neu': 0.72, 'pos': 0.28, 'compound': 0.937},\n",
       "  {'neg': 0.0, 'neu': 1.0, 'pos': 0.0, 'compound': 0.0},\n",
       "  {'neg': 0.145, 'neu': 0.616, 'pos': 0.24, 'compound': 0.5523},\n",
       "  {'neg': 0.0, 'neu': 0.537, 'pos': 0.463, 'compound': 0.7845}],\n",
       " 'Likes': ['965',\n",
       "  '529',\n",
       "  '411',\n",
       "  '292',\n",
       "  '193',\n",
       "  '579',\n",
       "  '25',\n",
       "  '122',\n",
       "  '57',\n",
       "  '80',\n",
       "  '69',\n",
       "  '150',\n",
       "  '70',\n",
       "  '24',\n",
       "  '29',\n",
       "  '79',\n",
       "  '70',\n",
       "  '217',\n",
       "  '89',\n",
       "  '159']}"
      ]
     },
     "execution_count": 37,
     "metadata": {},
     "output_type": "execute_result"
    }
   ],
   "source": [
    "postRequest.json()"
   ]
  },
  {
   "cell_type": "code",
   "execution_count": null,
   "metadata": {},
   "outputs": [],
   "source": []
  }
 ],
 "metadata": {
  "kernelspec": {
   "display_name": "Python 3",
   "language": "python",
   "name": "python3"
  },
  "language_info": {
   "codemirror_mode": {
    "name": "ipython",
    "version": 3
   },
   "file_extension": ".py",
   "mimetype": "text/x-python",
   "name": "python",
   "nbconvert_exporter": "python",
   "pygments_lexer": "ipython3",
   "version": "3.6.9"
  }
 },
 "nbformat": 4,
 "nbformat_minor": 4
}
