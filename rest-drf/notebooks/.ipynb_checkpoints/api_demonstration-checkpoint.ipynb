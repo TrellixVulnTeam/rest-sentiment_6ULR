{
 "cells": [
  {
   "cell_type": "code",
   "execution_count": 2,
   "metadata": {},
   "outputs": [],
   "source": [
    "import requests"
   ]
  },
  {
   "cell_type": "markdown",
   "metadata": {},
   "source": [
    "## rest_sentiment API Request"
   ]
  },
  {
   "cell_type": "markdown",
   "metadata": {},
   "source": [
    "To call this API, we would post a dictionary object with the following formation, conveying the text we want to apply a Sentiment Analysis on and we would recieve a dictionary with four float numbers identical to values corresponding to the following sentiment types:\n",
    "\n",
    "'neg' for Negative\n",
    "'neu' for Neutral\n",
    "'pos' for Positive\n",
    "'compound' for Compund (Special scoring attribute, developed by the Vader library)"
   ]
  },
  {
   "cell_type": "code",
   "execution_count": null,
   "metadata": {},
   "outputs": [],
   "source": [
    "postRequest = requests.post('http://127.0.0.1:8000/sentiment/',data = {'sen': \"VADER is smart, handsome, and funny.\"})\n",
    "postRequest"
   ]
  },
  {
   "cell_type": "code",
   "execution_count": null,
   "metadata": {},
   "outputs": [],
   "source": [
    "postRequest.json()"
   ]
  },
  {
   "cell_type": "markdown",
   "metadata": {},
   "source": [
    "## amazon_sentiment API Request"
   ]
  },
  {
   "cell_type": "code",
   "execution_count": 4,
   "metadata": {},
   "outputs": [
    {
     "data": {
      "text/plain": [
       "<Response [200]>"
      ]
     },
     "execution_count": 4,
     "metadata": {},
     "output_type": "execute_result"
    }
   ],
   "source": [
    "postRequest = requests.post('http://127.0.0.1:8000/amazon/',data = {'link': \"https://www.amazon.com/RUNMUS-Surround-Canceling-Compatible-Controller/dp/B07GRM747Y/ref=cm_cr_arp_d_product_top?ie=UTF8\"})\n",
    "postRequest"
   ]
  },
  {
   "cell_type": "code",
   "execution_count": 5,
   "metadata": {},
   "outputs": [
    {
     "data": {
      "text/plain": [
       "{'Titles': ['The mic is perfect',\n",
       "  'Excellent headset, are made to last.',\n",
       "  \"It's a better product than you'd expect for the price\",\n",
       "  'Solid purchase for xbox one use,',\n",
       "  'Impressive Headset for Gaming',\n",
       "  \"It's great for a budget headset.\",\n",
       "  'Awesome for kids',\n",
       "  'Great price, high quality',\n",
       "  \"I love the speaker size , I'm happy with my purchase.\",\n",
       "  'Comfortable and Great sound!'],\n",
       " 'Authors': ['Lady Lotus',\n",
       "  'Leonardo R.',\n",
       "  'Matthew Sawhill',\n",
       "  'VLT',\n",
       "  'Anthony S',\n",
       "  'Brandon L.',\n",
       "  'J. Hubbard',\n",
       "  'Chhun Hong',\n",
       "  'Marie Daphney Jones',\n",
       "  'Joshua'],\n",
       " 'Date': ['Reviewed in the United States on October 5, 2019',\n",
       "  'Reviewed in the United States on October 1, 2019',\n",
       "  'Reviewed in the United States on July 25, 2019',\n",
       "  'Reviewed in the United States on October 1, 2019',\n",
       "  'Reviewed in the United States on October 2, 2019',\n",
       "  'Reviewed in the United States on October 24, 2019',\n",
       "  'Reviewed in the United States on July 25, 2019',\n",
       "  'Reviewed in the United States on July 28, 2019',\n",
       "  'Reviewed in the United States on July 28, 2019',\n",
       "  'Reviewed in the United States on July 11, 2019'],\n",
       " 'Helpfulness': ['663 people found this helpful',\n",
       "  '449 people found this helpful',\n",
       "  '424 people found this helpful',\n",
       "  '353 people found this helpful',\n",
       "  '352 people found this helpful',\n",
       "  '296 people found this helpful',\n",
       "  '304 people found this helpful',\n",
       "  '304 people found this helpful',\n",
       "  '290 people found this helpful',\n",
       "  '283 people found this helpful'],\n",
       " \"Reviews' Texts\": ['These are the single best pair of headphones I have ever used in my life. They are bulky, strong, soft on the ears, beautiful, top quality for the dollar.\\n\\nThe sound: It does not oversell the surround sound, you will hear everything from every direction as if you were in the battlefield of the badlands. The quality of sound is beautiful as well, not muffling or diluting despite size, crisp and fresh. Noise cancellation? You\\'ll be able to hear enough outside to make sure no one is going to play a game of SAW with you but give you peace of mind. Want more control of volume? No sweat, it comes with a small volume wheel.\\n\\nThe mic: Wonderful work of art. Ignores outside sounds (except mechanical keyboard clicks of a certain type, those are loud.) You will be heard clearly, you will be clearly understandable and able to communicate with the most effect compared to other headsets, and is good at making sure only you are heard. Need to insta-mute that mic? It comes with a button that turns it off before anyone can hear what\\'s going on.\\n\\nHow does it feel? It surrounds and cups the ear, instead of pressing tightly against the tips and giving those horrible headaches. It gives your ears breathing room and the protein foam for the top of your skull is so pleasant that you can easily forget it\\'s even there. The mic is comfortable to move around without getting in my way. Out of mind, the only thing you\\'ll focus on is the sound blessing your ears. Want to wear it for three days in a row in your chair without visiting the bathroom and having a system of snacks and drinks at your desk for that ultimate WoW session? Go right ahead, it won\\'t feel any different than when you put it on to begin with.\\n\\nWill they break easily? NO. These things are built like tanks for your skull, if you drop it, it will brush it off and laugh at the poor attempt to even crack it. This thing might even be a good tool for self defense with how strong it is, these aren\\'t poor quality materials.\\n\\nHow does it look? It looks like you\\'re about to perform an impossible feat on your new favorite game. It\\'s beautifully designed, has a red glare that will bring fear into your fellow gaming buddies when you hear their every breath in the game. They are equipped for any situation, they are scary to be against, and highly fashionable to show off and brag to your fellow gamers on Twitch and Steam. They are thick, but that makes this beast seem even bigger and more dominating than those sad little Skullcandy mobile headphones.\\n\\nWhat can I use it on? If it has either a USB port or can take those little round plugs, congratulations, this works on it. PC is what I use it on, but if I wanted to I could use it on any other single device a gamer could ever imagine using. Even old systems take this beast and let them in, it is perfect.\\n\\nPrice vs Quality: Anything that claims to be better will either be a liar or something extraordinarily developed and thus be very costly. This competes with other more costly \"top rated\" headphones. This packs the features, the looks, the comfort, and the durability all for a considerable price that anyone would be right to simply choose this on first sight. I almost was a foolish mortal and thought about others, but no, I made the right choice to take this set and buy it. If it ever breaks I will be surprised and heartbroken. It has improved everything in my games, I cannot possibly appreciate any headphones more than this.\\n\\nYou will regret not knowing what beauty is here before you by buying some lame headset for more of a price, because I feel very comfortable that this one will certainly out compete it without a SINGLE QUESTION. Buy it sooner than later, TREAT YOURSELF. I will be getting another for my brother without a doubt.',\n",
       "  'The product complies with everything the manufacturer promises and the following aspects can be highlighted:\\n\\n1. The headset is quite comfortable, the material of the pads is very soft, which allows them to be used for a long time while the game is going on.\\n\\n2. The headset aid is made of excellent materials, which makes it very robust.\\n\\n3. The cable is long enough, and the volume control gives the user a lot of freedom to raise or lower the volume quickly when needed, without having to pause the game or get too close to the console or PC.\\n\\n4. The maximum volume it provides seems appropriate for long gaming sessions, since the idea is to enjoy the game and not damage the ears.',\n",
       "  \"Throughout this review, keep in mind that I'm comparing this headset to my brother's $100+ headset. People usually start with the pros, so here are the cons first:\\nCONS:\\n1.) Your ears get warm playing for any length of time which I'm getting used to. In comparison to my bro's headset, the earcups around the ear don't even touch your ear, giving ventilation to the ear to keep it cool.\\n2.) It's wired, which isn't a bad thing necessarily, but the wire is just over 6 feet in length and can get caught on things when you're moving it. Maybe the long wire would be good for the XboxOne (IDK), but for the Playstation 4 all you need to do is plug it directly into the controller, and it automatically connects to the system, so you'd only maybe need half the length that they give you. My bro's headset is wireless.\\n\\nThat's it for the cons, as for the pros:\\nPROS:\\n1.) Comfortable. It's heavily padded around the ears and the top of the headset where it rests on your head. I've worn this for 5 or 6 hours straight, and it still felt extremely comfortable. My bro's headset is similarly comfortable, maybe slightly better, but not by much.\\n2.) The sound is great. My brother's headset claims 3D sound with amazing clarity, but in comparison, I've found that there isn't a great difference (if any!) with this headset and his own.\\n3.) The microphone works crisp, even though I only sometimes hear echos of myself through other people's TV's, I've told they're clear by other players.\\n4.) I've only owned this headset for two weeks, but feels well made, and you can definitely tell they built it smart, even though there's a lot of hard plastic covering the expensive materials, it's sturdy. However, if I were to compare it with my bro's headset, there would be a measurable difference between the two in weight and materials used (on the outside). Like I said, the inside seems like the best part (which is the part that matters, I believe).\\n\\nSo, if you're looking for a $28 dollar headset, then get this one. If you're wanting to spend $100+ dollars on a headset, you can find some marginally better in almost every way. Just depends if you want to spend another $80 dollars, or if you want to get a good quality product from a seemingly smart respectable company.\",\n",
       "  'to keep it short and simple, I play on the Xbox one, I have had zero issues with this headset, no issues or interference conveying my voice or hearing others in a chat, the 50MM magnets work well and I can turn the volume plenty high, and I trust this cable to last, this has been an outstanding value for the $25, I do not see a reason to choose a more expensive headset unless you are more concerned with picking out your style.',\n",
       "  \"Purchased these because my other headset wasn't working and after reading the reviews on these, I said what the heck. I received them Sunday night and so far they are excellent. The sound quality is really good and the noise cancellation is awesome. They are pretty comfortable as well although they do feel a tad bit heavy but I'm sure I will get used to them. I like the Red Lights on them but I won't be using that at all. Overall, I am very satisfied with my purchase. You can't go wrong with the price of these for playing video games.\",\n",
       "  'The sound is great, the microphone works, what more could you need from a headset? By default it has one 3.5mm headphone jack but comes with an adapter so you can plug individually into headphone and microphone ports on your PC. The headset also has a USB port that just lights up the device. I ran into some minor issues when using this and contacted their customer support. Their customer support got back to me very quickly and we were able to resolve the issue.',\n",
       "  \"I bought this for my 8 year old son to talk to his cousin while playing Fortnite. He's not allowed to talk to strangers online, so I love that you can mute the microphone right from the cord instead of having to go into the game settings to mute it. It's very flexible, which is a huge plus, since my son tends to drop and break everything. Both he and I have worn the headset to play Fortnite and the sound quality is fantastic for less than $30. Also, the headset is surprisingly comfortable. Even my 4 year old likes wearing it. The lights are cool, but I need to buy a USB extension to use them. It is a little awkward having a cord plugged into the controller and another cord plugged into the back of the tv (our nearest USB input), but my son doesn't seem to mind. Overall, we're very pleased with our purchase!\",\n",
       "  \"I bought this headset for my nephew, who enjoys gaming a lot. Here is his opinion on it.\\n\\nI have been using this product for several months now and it does not disappoint. The mic quality is crystal clear, and my gaming friends noticed its high quality immediately. The ear cuffs are somewhat large, however, they are by no means uncomfortable. The volume adjustments on the cable are very convenient and so is the ability to mute the microphone whenever, with a single flip of the switch. This headset requires a USB connection for the LED lights to appear, and they look flashy and cool. The sound quality is amazing and much better than my previous headset, which cost nearly $100. The headset's noise cancellation works well and my gaming friends are unable to hear annoying background noises when I am using it. Overall, great buy for its price and would definitely recommend.\",\n",
       "  \"Adobe Flash Player is required to watch this video.\\nInstall Flash Player\\n Thank you so much, I love everything about my professional gaming headset, happy happy,I'm ready to make noise playing 2k19\",\n",
       "  'Out of the box it\\'s simple to set up, just plug in and your\\'e ready to go. If using the usb the lights on the headset light up and look great! The first thing I noticed was the size and comfort. They are thick and made well and the ear pads are very soft and don\\'t feel like they are pressing hard either.\\nI was using them on the PS4 and only needed to plug in the 3mm cable into the controller for full audio and microphone for voice chat. When I used the USB in the system the set lit up and the audio was perfect, however the microphone didn\\'t work.\\nI highly recommend these. The comfort and sound are far past the price point. These are more comfortable than the \"Playstation Gold Headset\" they replaced that were also over 3x\\'s the cost.'],\n",
       " \"Reviews' Texts Sentiment\": [{'neg': 0.082,\n",
       "   'neu': 0.735,\n",
       "   'pos': 0.183,\n",
       "   'compound': 0.9979},\n",
       "  {'neg': 0.016, 'neu': 0.825, 'pos': 0.159, 'compound': 0.9657},\n",
       "  {'neg': 0.024, 'neu': 0.783, 'pos': 0.193, 'compound': 0.9976},\n",
       "  {'neg': 0.023, 'neu': 0.826, 'pos': 0.15, 'compound': 0.9001},\n",
       "  {'neg': 0.0, 'neu': 0.76, 'pos': 0.24, 'compound': 0.9768},\n",
       "  {'neg': 0.0, 'neu': 0.861, 'pos': 0.139, 'compound': 0.9194},\n",
       "  {'neg': 0.027, 'neu': 0.837, 'pos': 0.136, 'compound': 0.9399},\n",
       "  {'neg': 0.027, 'neu': 0.755, 'pos': 0.218, 'compound': 0.9856},\n",
       "  {'neg': 0.0, 'neu': 0.643, 'pos': 0.357, 'compound': 0.9321},\n",
       "  {'neg': 0.022, 'neu': 0.829, 'pos': 0.149, 'compound': 0.9664}],\n",
       " \"Reviews Titles' Sentiment\": [{'neg': 0.0,\n",
       "   'neu': 0.448,\n",
       "   'pos': 0.552,\n",
       "   'compound': 0.5719},\n",
       "  {'neg': 0.0, 'neu': 0.575, 'pos': 0.425, 'compound': 0.5719},\n",
       "  {'neg': 0.0, 'neu': 0.756, 'pos': 0.244, 'compound': 0.4404},\n",
       "  {'neg': 0.0, 'neu': 0.758, 'pos': 0.242, 'compound': 0.1531},\n",
       "  {'neg': 0.0, 'neu': 0.476, 'pos': 0.524, 'compound': 0.5106},\n",
       "  {'neg': 0.0, 'neu': 0.549, 'pos': 0.451, 'compound': 0.6249},\n",
       "  {'neg': 0.0, 'neu': 0.328, 'pos': 0.672, 'compound': 0.6249},\n",
       "  {'neg': 0.0, 'neu': 0.423, 'pos': 0.577, 'compound': 0.6249},\n",
       "  {'neg': 0.0, 'neu': 0.533, 'pos': 0.467, 'compound': 0.836},\n",
       "  {'neg': 0.0, 'neu': 0.206, 'pos': 0.794, 'compound': 0.8268}]}"
      ]
     },
     "execution_count": 5,
     "metadata": {},
     "output_type": "execute_result"
    }
   ],
   "source": [
    "postRequest.json()"
   ]
  },
  {
   "cell_type": "markdown",
   "metadata": {},
   "source": [
    "# instagram_sentiment API Request"
   ]
  },
  {
   "cell_type": "code",
   "execution_count": 5,
   "metadata": {},
   "outputs": [
    {
     "data": {
      "text/plain": [
       "<Response [200]>"
      ]
     },
     "execution_count": 5,
     "metadata": {},
     "output_type": "execute_result"
    }
   ],
   "source": [
    "postRequest = requests.post('http://127.0.0.1:8000/instagram/',data = {'link': \"https://www.instagram.com/p/BvNyVKtlfwN/\"})\n",
    "postRequest"
   ]
  },
  {
   "cell_type": "code",
   "execution_count": 6,
   "metadata": {
    "scrolled": true
   },
   "outputs": [
    {
     "data": {
      "text/plain": [
       "{'link': 'https://www.instagram.com/p/BvNyVKtlfwN/',\n",
       " 'user': 'themelissarauch',\n",
       " 'verification': 'Verified',\n",
       " 'desc': 'Mirror, Mirror on the @bigbangtheory_cbs makeup room wall, who is shamelessly taking selfies in you during tape night?',\n",
       " 'score': {'neg': 0.124, 'neu': 0.876, 'pos': 0.0, 'compound': -0.34},\n",
       " 'comments': [{'user': 'sanz_dl',\n",
       "   'text': '😍😍❤️❤️',\n",
       "   'stats': '62wReply',\n",
       "   'scores': {'neg': 0.0, 'neu': 0.625, 'pos': 0.375, 'compound': 0.7184}},\n",
       "  {'user': 'forgereaper',\n",
       "   'text': 'Perfection🙌',\n",
       "   'stats': '62wReply',\n",
       "   'scores': {'neg': 0.0, 'neu': 0.351, 'pos': 0.649, 'compound': 0.5719}},\n",
       "  {'user': 'francisco_marin_1979',\n",
       "   'text': 'TE AMO ❤️❤️❤️❤️❤️',\n",
       "   'stats': '62wReply',\n",
       "   'scores': {'neg': 0.0, 'neu': 1.0, 'pos': 0.0, 'compound': 0.0}},\n",
       "  {'user': 'raul_sg90',\n",
       "   'text': '❤️❤️❤️❤️❤️',\n",
       "   'stats': '62wReply',\n",
       "   'scores': {'neg': 0.0, 'neu': 1.0, 'pos': 0.0, 'compound': 0.0}},\n",
       "  {'user': 'starfucker57',\n",
       "   'text': 'You are so beautiful !',\n",
       "   'stats': '62wReply',\n",
       "   'scores': {'neg': 0.0, 'neu': 0.431, 'pos': 0.569, 'compound': 0.7417}},\n",
       "  {'user': 'thebobbrooks',\n",
       "   'text': 'Very cute photo Melissa. I enjoyed visiting with you after the taping a few weeks ago. Best wishes as you are completing the final few tapings. Hang in there. Bob.',\n",
       "   'stats': '62w1 likeReply',\n",
       "   'scores': {'neg': 0.0, 'neu': 0.677, 'pos': 0.323, 'compound': 0.908}},\n",
       "  {'user': 'huibei1',\n",
       "   'text': 'beautiful',\n",
       "   'stats': '62wReply',\n",
       "   'scores': {'neg': 0.0, 'neu': 0.0, 'pos': 1.0, 'compound': 0.5994}},\n",
       "  {'user': 'richardwilhelmhohenzollern',\n",
       "   'text': 'Awesome Mrs. Rauch',\n",
       "   'stats': '62wReply',\n",
       "   'scores': {'neg': 0.0, 'neu': 0.328, 'pos': 0.672, 'compound': 0.6249}},\n",
       "  {'user': 'shivanshprakashpal97',\n",
       "   'text': 'Some 1 is beautiful so 😗😗',\n",
       "   'stats': '62wReply',\n",
       "   'scores': {'neg': 0.0, 'neu': 0.322, 'pos': 0.678, 'compound': 0.9274}},\n",
       "  {'user': 'ibbilidstone',\n",
       "   'text': 'Beautiful girl 🌹💜',\n",
       "   'stats': '61wReply',\n",
       "   'scores': {'neg': 0.0, 'neu': 0.27, 'pos': 0.73, 'compound': 0.8442}},\n",
       "  {'user': 'walden1968',\n",
       "   'text': 'You are so beautiful🔥🔥',\n",
       "   'stats': '61wReply',\n",
       "   'scores': {'neg': 0.401, 'neu': 0.225, 'pos': 0.374, 'compound': 0.1653}},\n",
       "  {'user': 'kirstis_not_so_secret_diary',\n",
       "   'text': 'The cutie that I’m looking at❤️',\n",
       "   'stats': '10wReply',\n",
       "   'scores': {'neg': 0.0, 'neu': 0.737, 'pos': 0.263, 'compound': 0.3612}}]}"
      ]
     },
     "execution_count": 6,
     "metadata": {},
     "output_type": "execute_result"
    }
   ],
   "source": [
    "postRequest.json()"
   ]
  },
  {
   "cell_type": "markdown",
   "metadata": {},
   "source": [
    "# imdb_sentiment API Request"
   ]
  },
  {
   "cell_type": "code",
   "execution_count": null,
   "metadata": {},
   "outputs": [],
   "source": [
    "postRequest = requests.post('http://127.0.0.1:8000/imdb/',data = {'link': \"https://www.imdb.com/title/tt0276919/?ref_=nv_sr_srsg_0\"})\n",
    "postRequest"
   ]
  }
 ],
 "metadata": {
  "kernelspec": {
   "display_name": "Python 3",
   "language": "python",
   "name": "python3"
  },
  "language_info": {
   "codemirror_mode": {
    "name": "ipython",
    "version": 3
   },
   "file_extension": ".py",
   "mimetype": "text/x-python",
   "name": "python",
   "nbconvert_exporter": "python",
   "pygments_lexer": "ipython3",
   "version": "3.6.9"
  }
 },
 "nbformat": 4,
 "nbformat_minor": 4
}
