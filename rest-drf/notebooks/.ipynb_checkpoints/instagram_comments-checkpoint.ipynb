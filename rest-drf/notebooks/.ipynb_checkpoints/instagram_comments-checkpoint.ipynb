{
 "cells": [
  {
   "cell_type": "code",
   "execution_count": 1,
   "metadata": {},
   "outputs": [],
   "source": [
    "from selenium import webdriver\n",
    "from selenium.webdriver.firefox.firefox_profile import FirefoxProfile\n",
    "import time\n",
    "from vaderSentiment.vaderSentiment import SentimentIntensityAnalyzer"
   ]
  },
  {
   "cell_type": "code",
   "execution_count": 17,
   "metadata": {},
   "outputs": [],
   "source": [
    "def post_comments_scraper(link):\n",
    "    analyzer = SentimentIntensityAnalyzer()\n",
    "    driver = webdriver.Firefox()\n",
    "    driver.get(link)\n",
    "    time.sleep(1.5)\n",
    "    post_desc = driver.find_element_by_xpath('/html/body/div[1]/section/main/div/div/article/div[3]/div[1]/ul/div/li/div/div/div[2]')\n",
    "    comments = driver.find_element_by_xpath('/html/body/div[1]/section/main/div/div/article/div[3]/div[1]/ul').find_elements_by_tag_name('ul')\n",
    "    comments_list = []\n",
    "    for comment in comments:\n",
    "        if len(comment.text.split(\"\\n\")) == 3:\n",
    "            comment = comment.text.split(\"\\n\")\n",
    "            comments_list.append({'user': comment[0],\n",
    "                                  'text': comment[1],\n",
    "                                  'stats': comment[2],\n",
    "                                  'scores': analyzer.polarity_scores(comment[1])})\n",
    "    result = {'link': link,\n",
    "              'user': post_desc.text.split(\"\\n\")[0],\n",
    "              'verification': post_desc.text.split(\"\\n\")[1],\n",
    "              'desc': post_desc.text.split(\"\\n\")[2],\n",
    "              'score': analyzer.polarity_scores(post_desc.text.split(\"\\n\")[2]),\n",
    "              'comments': comments_list}\n",
    "    driver.close()\n",
    "    return(result)    "
   ]
  },
  {
   "cell_type": "code",
   "execution_count": 11,
   "metadata": {},
   "outputs": [],
   "source": [
    "driver = webdriver.Firefox()\n",
    "driver.get('https://www.instagram.com/p/BvNyVKtlfwN/')\n",
    "time.sleep(1.5)"
   ]
  },
  {
   "cell_type": "code",
   "execution_count": 8,
   "metadata": {},
   "outputs": [
    {
     "name": "stdout",
     "output_type": "stream",
     "text": [
      "themelissarauch\n",
      "\n",
      "\n",
      "\n",
      "Verified\n",
      "\n",
      "\n",
      "\n",
      "Mirror, Mirror on the @bigbangtheory_cbs makeup room wall, who is shamelessly taking selfies in you during tape night?\n",
      "\n",
      "\n",
      "\n",
      "68w\n",
      "\n",
      "\n",
      "\n"
     ]
    }
   ],
   "source": [
    "post_desc = driver.find_element_by_xpath('/html/body/div[1]/section/main/div/div/article/div[3]/div[1]/ul/div/li/div/div/div[2]')\n",
    "for item in post_desc.text.split(\"\\n\"):\n",
    "    print(item)\n",
    "    print('\\n\\n')"
   ]
  },
  {
   "cell_type": "code",
   "execution_count": 12,
   "metadata": {},
   "outputs": [
    {
     "name": "stdout",
     "output_type": "stream",
     "text": [
      "sanz_dl\n",
      "😍😍❤️❤️\n",
      "68wReply\n",
      "\n",
      "\n",
      "\n",
      "forgereaper\n",
      "Perfection🙌\n",
      "68wReply\n",
      "\n",
      "\n",
      "\n",
      "francisco_marin_1979\n",
      "TE AMO ❤️❤️❤️❤️❤️\n",
      "68wReply\n",
      "\n",
      "\n",
      "\n",
      "raul_sg90\n",
      "❤️❤️❤️❤️❤️\n",
      "68wReply\n",
      "\n",
      "\n",
      "\n",
      "starfucker57\n",
      "You are so beautiful !\n",
      "68wReply\n",
      "\n",
      "\n",
      "\n",
      "thebobbrooks\n",
      "Very cute photo Melissa. I enjoyed visiting with you after the taping a few weeks ago. Best wishes as you are completing the final few tapings. Hang in there. Bob.\n",
      "68w1 likeReply\n",
      "\n",
      "\n",
      "\n",
      "huibei1\n",
      "beautiful\n",
      "68wReply\n",
      "\n",
      "\n",
      "\n",
      "richardwilhelmhohenzollern\n",
      "Awesome Mrs. Rauch\n",
      "68wReply\n",
      "\n",
      "\n",
      "\n",
      "shivanshprakashpal97\n",
      "Some 1 is beautiful so 😗😗\n",
      "68wReply\n",
      "\n",
      "\n",
      "\n",
      "ibbilidstone\n",
      "Beautiful girl 🌹💜\n",
      "67wReply\n",
      "\n",
      "\n",
      "\n",
      "walden1968\n",
      "You are so beautiful🔥🔥\n",
      "66wReply\n",
      "\n",
      "\n",
      "\n",
      "kirstis_not_so_secret_diary\n",
      "The cutie that I’m looking at❤️\n",
      "15wReply\n",
      "\n",
      "\n",
      "\n"
     ]
    }
   ],
   "source": [
    "comments = driver.find_element_by_xpath('/html/body/div[1]/section/main/div/div/article/div[3]/div[1]/ul').find_elements_by_tag_name('ul')\n",
    "for item in comments:\n",
    "    print(item.text)\n",
    "    print('\\n\\n')"
   ]
  },
  {
   "cell_type": "code",
   "execution_count": null,
   "metadata": {},
   "outputs": [],
   "source": []
  },
  {
   "cell_type": "code",
   "execution_count": null,
   "metadata": {},
   "outputs": [],
   "source": []
  },
  {
   "cell_type": "code",
   "execution_count": null,
   "metadata": {},
   "outputs": [],
   "source": []
  },
  {
   "cell_type": "code",
   "execution_count": 14,
   "metadata": {
    "scrolled": true
   },
   "outputs": [
    {
     "data": {
      "text/plain": [
       "{'link': 'https://www.instagram.com/p/BvNyVKtlfwN/',\n",
       " 'user': 'themelissarauch',\n",
       " 'verification': 'Verified',\n",
       " 'desc': 'Mirror, Mirror on the @bigbangtheory_cbs makeup room wall, who is shamelessly taking selfies in you during tape night?',\n",
       " 'score': {'neg': 0.124, 'neu': 0.876, 'pos': 0.0, 'compound': -0.34},\n",
       " 'comments': [{'user': 'sanz_dl',\n",
       "   'text': '😍😍❤️❤️',\n",
       "   'stats': '68wReply',\n",
       "   'scores': {'neg': 0.0, 'neu': 0.625, 'pos': 0.375, 'compound': 0.7184}},\n",
       "  {'user': 'forgereaper',\n",
       "   'text': 'Perfection🙌',\n",
       "   'stats': '68wReply',\n",
       "   'scores': {'neg': 0.0, 'neu': 0.351, 'pos': 0.649, 'compound': 0.5719}},\n",
       "  {'user': 'francisco_marin_1979',\n",
       "   'text': 'TE AMO ❤️❤️❤️❤️❤️',\n",
       "   'stats': '68wReply',\n",
       "   'scores': {'neg': 0.0, 'neu': 1.0, 'pos': 0.0, 'compound': 0.0}},\n",
       "  {'user': 'raul_sg90',\n",
       "   'text': '❤️❤️❤️❤️❤️',\n",
       "   'stats': '68wReply',\n",
       "   'scores': {'neg': 0.0, 'neu': 1.0, 'pos': 0.0, 'compound': 0.0}},\n",
       "  {'user': 'starfucker57',\n",
       "   'text': 'You are so beautiful !',\n",
       "   'stats': '68wReply',\n",
       "   'scores': {'neg': 0.0, 'neu': 0.431, 'pos': 0.569, 'compound': 0.7417}},\n",
       "  {'user': 'thebobbrooks',\n",
       "   'text': 'Very cute photo Melissa. I enjoyed visiting with you after the taping a few weeks ago. Best wishes as you are completing the final few tapings. Hang in there. Bob.',\n",
       "   'stats': '68w1 likeReply',\n",
       "   'scores': {'neg': 0.0, 'neu': 0.677, 'pos': 0.323, 'compound': 0.908}},\n",
       "  {'user': 'huibei1',\n",
       "   'text': 'beautiful',\n",
       "   'stats': '68wReply',\n",
       "   'scores': {'neg': 0.0, 'neu': 0.0, 'pos': 1.0, 'compound': 0.5994}},\n",
       "  {'user': 'richardwilhelmhohenzollern',\n",
       "   'text': 'Awesome Mrs. Rauch',\n",
       "   'stats': '68wReply',\n",
       "   'scores': {'neg': 0.0, 'neu': 0.328, 'pos': 0.672, 'compound': 0.6249}},\n",
       "  {'user': 'shivanshprakashpal97',\n",
       "   'text': 'Some 1 is beautiful so 😗😗',\n",
       "   'stats': '68wReply',\n",
       "   'scores': {'neg': 0.0, 'neu': 0.322, 'pos': 0.678, 'compound': 0.9274}},\n",
       "  {'user': 'ibbilidstone',\n",
       "   'text': 'Beautiful girl 🌹💜',\n",
       "   'stats': '67wReply',\n",
       "   'scores': {'neg': 0.0, 'neu': 0.27, 'pos': 0.73, 'compound': 0.8442}},\n",
       "  {'user': 'walden1968',\n",
       "   'text': 'You are so beautiful🔥🔥',\n",
       "   'stats': '66wReply',\n",
       "   'scores': {'neg': 0.401, 'neu': 0.225, 'pos': 0.374, 'compound': 0.1653}},\n",
       "  {'user': 'kirstis_not_so_secret_diary',\n",
       "   'text': 'The cutie that I’m looking at❤️',\n",
       "   'stats': '15wReply',\n",
       "   'scores': {'neg': 0.0, 'neu': 0.737, 'pos': 0.263, 'compound': 0.3612}}]}"
      ]
     },
     "execution_count": 14,
     "metadata": {},
     "output_type": "execute_result"
    }
   ],
   "source": [
    "post_comments_scraper('https://www.instagram.com/p/BvNyVKtlfwN/')"
   ]
  },
  {
   "cell_type": "code",
   "execution_count": 15,
   "metadata": {
    "scrolled": true
   },
   "outputs": [
    {
     "data": {
      "text/plain": [
       "{'link': 'https://www.instagram.com/p/BvS-d17lSAI/',\n",
       " 'user': 'themelissarauch',\n",
       " 'verification': 'Verified',\n",
       " 'desc': 'Saw these double rainbows on the first day of spring yesterday, but was too busy trying to climb over them to post. 🌈🌈',\n",
       " 'score': {'neg': 0.0, 'neu': 1.0, 'pos': 0.0, 'compound': 0.0},\n",
       " 'comments': [{'user': 'shamyshipper',\n",
       "   'text': 'this is so pretty!',\n",
       "   'stats': '68wReply',\n",
       "   'scores': {'neg': 0.0, 'neu': 0.405, 'pos': 0.595, 'compound': 0.6606}},\n",
       "  {'user': 'calvteh',\n",
       "   'text': 'You shoulda posted a youtube video of a double rainbow and cry behind the camera like that over sensitive guy hehe',\n",
       "   'stats': '68wReply',\n",
       "   'scores': {'neg': 0.126, 'neu': 0.772, 'pos': 0.102, 'compound': -0.1531}},\n",
       "  {'user': 'huibei1',\n",
       "   'text': 'good',\n",
       "   'stats': '68wReply',\n",
       "   'scores': {'neg': 0.0, 'neu': 0.0, 'pos': 1.0, 'compound': 0.4404}},\n",
       "  {'user': 'strawberryxaesthetic',\n",
       "   'text': 'Can someone tell me how it is the first day of spring for you guys in the US, in the middle of March? In Australia, the seasons change on the first \"officially\" for us??',\n",
       "   'stats': '68wReply',\n",
       "   'scores': {'neg': 0.0, 'neu': 1.0, 'pos': 0.0, 'compound': 0.0}},\n",
       "  {'user': 'katrinalynn84',\n",
       "   'text': '😍',\n",
       "   'stats': '68wReply',\n",
       "   'scores': {'neg': 0.0, 'neu': 0.5, 'pos': 0.5, 'compound': 0.4588}},\n",
       "  {'user': 'neeneetofamily',\n",
       "   'text': 'Beautiful',\n",
       "   'stats': '68wReply',\n",
       "   'scores': {'neg': 0.0, 'neu': 0.0, 'pos': 1.0, 'compound': 0.5994}},\n",
       "  {'user': 'drlnrichard',\n",
       "   'text': 'His promise to us never to flood us again....giving us Gentiles a chance.....',\n",
       "   'stats': '68wReply',\n",
       "   'scores': {'neg': 0.0, 'neu': 0.719, 'pos': 0.281, 'compound': 0.5106}},\n",
       "  {'user': 'alec_britt',\n",
       "   'text': 'Awesome double rainbow',\n",
       "   'stats': '66wReply',\n",
       "   'scores': {'neg': 0.0, 'neu': 0.328, 'pos': 0.672, 'compound': 0.6249}},\n",
       "  {'user': 'mark.meader',\n",
       "   'text': 'A promise from God that he will never again destroy the earth!',\n",
       "   'stats': '64wReply',\n",
       "   'scores': {'neg': 0.0, 'neu': 0.544, 'pos': 0.456, 'compound': 0.7609}},\n",
       "  {'user': 'sylvianedelvalle',\n",
       "   'text': '💖💛💜💚💖💛💚💜❤💚💜❤❤❤❤❤❤❤❤❤❤❤❤❤❤❤❤🙏🙏🙏❤❤❤🙏🙏🙏',\n",
       "   'stats': '61wReply',\n",
       "   'scores': {'neg': 0.0, 'neu': 0.235, 'pos': 0.765, 'compound': 0.9992}},\n",
       "  {'user': 'macbainava',\n",
       "   'text': 'So pritty',\n",
       "   'stats': '59wReply',\n",
       "   'scores': {'neg': 0.0, 'neu': 1.0, 'pos': 0.0, 'compound': 0.0}},\n",
       "  {'user': 'emilyeades7',\n",
       "   'text': \"This is Beautiful 😍 I haven't seen a double rainbow before 😊 Everything rainbow makes me think of The Rainbow Baby I'm hoping to have one day 🌈👼\",\n",
       "   'stats': '25wReply',\n",
       "   'scores': {'neg': 0.0, 'neu': 0.671, 'pos': 0.329, 'compound': 0.9403}}]}"
      ]
     },
     "execution_count": 15,
     "metadata": {},
     "output_type": "execute_result"
    }
   ],
   "source": [
    "post_comments_scraper('https://www.instagram.com/p/BvS-d17lSAI/')"
   ]
  },
  {
   "cell_type": "code",
   "execution_count": 18,
   "metadata": {},
   "outputs": [
    {
     "data": {
      "text/plain": [
       "{'link': 'https://www.instagram.com/p/Bv2FK3QHolv/',\n",
       " 'user': 'themelissarauch',\n",
       " 'verification': 'Verified',\n",
       " 'desc': 'Throwing it back to this pic I just came across from Bernadette’s wedding which feels like it was yesterday and simultaneously a whole bunch of yesterdays ago. 💗Also, just a reminder that there’s a new @bigbangtheory_cbs tonight!!!!',\n",
       " 'score': {'neg': 0.0, 'neu': 0.87, 'pos': 0.13, 'compound': 0.6562},\n",
       " 'comments': [{'user': 'geraldshoemaker',\n",
       "   'text': 'You made a beautiful bride💋💋💋💋🌹🌹🌹🌹🌹🌹😍😘😘',\n",
       "   'stats': '60w2 likesReply',\n",
       "   'scores': {'neg': 0.0, 'neu': 0.493, 'pos': 0.507, 'compound': 0.9709}},\n",
       "  {'user': 'iamtrollin',\n",
       "   'text': '\"GORG-EOUS\" 👏',\n",
       "   'stats': '50w1 likeReply',\n",
       "   'scores': {'neg': 0.0, 'neu': 1.0, 'pos': 0.0, 'compound': 0.0}},\n",
       "  {'user': 'joeyla3963',\n",
       "   'text': 'That was a beautiful dress 💕😀',\n",
       "   'stats': '44w2 likesReply',\n",
       "   'scores': {'neg': 0.0, 'neu': 0.359, 'pos': 0.641, 'compound': 0.8934}},\n",
       "  {'user': 'loveforjim',\n",
       "   'text': 'Jim in the background',\n",
       "   'stats': '44w1 likeReply',\n",
       "   'scores': {'neg': 0.0, 'neu': 1.0, 'pos': 0.0, 'compound': 0.0}},\n",
       "  {'user': 'olaaxd_7',\n",
       "   'text': 'Bernieeee!!!!',\n",
       "   'stats': '25w1 likeReply',\n",
       "   'scores': {'neg': 0.0, 'neu': 1.0, 'pos': 0.0, 'compound': 0.0}},\n",
       "  {'user': 'oscarcanorios',\n",
       "   'text': 'Ilove',\n",
       "   'stats': '20w1 likeReply',\n",
       "   'scores': {'neg': 0.0, 'neu': 1.0, 'pos': 0.0, 'compound': 0.0}},\n",
       "  {'user': 'kushbhomawat',\n",
       "   'text': '@themelissarauch Howard s lucky mann!😋',\n",
       "   'stats': '19w1 likeReply',\n",
       "   'scores': {'neg': 0.0, 'neu': 0.694, 'pos': 0.306, 'compound': 0.4753}},\n",
       "  {'user': 'kirstis_not_so_secret_diary',\n",
       "   'text': 'You’re sooooooo cute!!! Ily!!!❤️❤️❤️',\n",
       "   'stats': '15w1 likeReply',\n",
       "   'scores': {'neg': 0.0, 'neu': 0.483, 'pos': 0.517, 'compound': 0.8614}},\n",
       "  {'user': 'kjell0427',\n",
       "   'text': 'I wish it was me...😍',\n",
       "   'stats': '10w1 likeReply',\n",
       "   'scores': {'neg': 0.0, 'neu': 0.551, 'pos': 0.449, 'compound': 0.6908}},\n",
       "  {'user': 'azoguruk',\n",
       "   'text': 'Jim looks funny back there 😂😂',\n",
       "   'stats': '9w1 likeReply',\n",
       "   'scores': {'neg': 0.156, 'neu': 0.412, 'pos': 0.432, 'compound': 0.8271}},\n",
       "  {'user': 'fede.8825',\n",
       "   'text': \"rosangelesamatista19 hai qualche rotella che non funziona nel tuo cervellino, so benissimo che l l'attrice è americana e allora?non è un tuo problema\",\n",
       "   'stats': '8w1 likeReply',\n",
       "   'scores': {'neg': 0.0, 'neu': 0.871, 'pos': 0.129, 'compound': 0.5046}}]}"
      ]
     },
     "execution_count": 18,
     "metadata": {},
     "output_type": "execute_result"
    }
   ],
   "source": [
    "post_comments_scraper('https://www.instagram.com/p/Bv2FK3QHolv/')"
   ]
  },
  {
   "cell_type": "code",
   "execution_count": null,
   "metadata": {},
   "outputs": [],
   "source": []
  }
 ],
 "metadata": {
  "kernelspec": {
   "display_name": "Python 3",
   "language": "python",
   "name": "python3"
  },
  "language_info": {
   "codemirror_mode": {
    "name": "ipython",
    "version": 3
   },
   "file_extension": ".py",
   "mimetype": "text/x-python",
   "name": "python",
   "nbconvert_exporter": "python",
   "pygments_lexer": "ipython3",
   "version": "3.6.9"
  }
 },
 "nbformat": 4,
 "nbformat_minor": 4
}
