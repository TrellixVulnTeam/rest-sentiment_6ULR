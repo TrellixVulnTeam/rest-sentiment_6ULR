{
 "cells": [
  {
   "cell_type": "code",
   "execution_count": 1,
   "metadata": {},
   "outputs": [],
   "source": [
    "from selenium import webdriver\n",
    "from selenium.webdriver.firefox.firefox_profile import FirefoxProfile\n",
    "import time\n",
    "from vaderSentiment.vaderSentiment import SentimentIntensityAnalyzer"
   ]
  },
  {
   "cell_type": "code",
   "execution_count": 5,
   "metadata": {},
   "outputs": [],
   "source": [
    "def post_comments_scraper(link):\n",
    "    analyzer = SentimentIntensityAnalyzer()\n",
    "    driver = webdriver.Firefox()\n",
    "    driver.get(link)\n",
    "    time.sleep(1.5)\n",
    "    post_desc = driver.find_element_by_xpath('/html/body/div[1]/section/main/div/div/article/div[2]/div[1]').find_element_by_tag_name('ul').find_element_by_tag_name('div')\n",
    "    comments = driver.find_element_by_xpath('/html/body/div[1]/section/main/div/div/article/div[2]/div[1]').find_element_by_tag_name('ul').find_elements_by_tag_name('ul')\n",
    "    comments_list = []\n",
    "    for comment in comments:\n",
    "        comment = comment.text.split(\"\\n\")\n",
    "        comments_list.append({'user': comment[0],\n",
    "                              'text': comment[1],\n",
    "                              'stats': comment[2],\n",
    "                              'scores': analyzer.polarity_scores(comment[1])})\n",
    "    result = {'link': link,\n",
    "              'user': post_desc.text.split(\"\\n\")[0],\n",
    "              'verification': post_desc.text.split(\"\\n\")[1],\n",
    "              'desc': post_desc.text.split(\"\\n\")[2],\n",
    "              'score': analyzer.polarity_scores(post_desc.text.split(\"\\n\")[2]),\n",
    "              'comments': comments_list}\n",
    "    driver.close()\n",
    "    return(result)    "
   ]
  },
  {
   "cell_type": "code",
   "execution_count": 6,
   "metadata": {},
   "outputs": [
    {
     "data": {
      "text/plain": [
       "{'link': 'https://www.instagram.com/p/BvNyVKtlfwN/',\n",
       " 'user': 'themelissarauch',\n",
       " 'desc': 'Verified',\n",
       " 'score': {'neg': 0.0, 'neu': 1.0, 'pos': 0.0, 'compound': 0.0},\n",
       " 'comments': [{'user': 'sanz_dl',\n",
       "   'text': '😍😍❤️❤️',\n",
       "   'stats': '62wReply',\n",
       "   'scores': {'neg': 0.0, 'neu': 0.625, 'pos': 0.375, 'compound': 0.7184}},\n",
       "  {'user': 'forgereaper',\n",
       "   'text': 'Perfection🙌',\n",
       "   'stats': '62wReply',\n",
       "   'scores': {'neg': 0.0, 'neu': 0.351, 'pos': 0.649, 'compound': 0.5719}},\n",
       "  {'user': 'francisco_marin_1979',\n",
       "   'text': 'TE AMO ❤️❤️❤️❤️❤️',\n",
       "   'stats': '62wReply',\n",
       "   'scores': {'neg': 0.0, 'neu': 1.0, 'pos': 0.0, 'compound': 0.0}},\n",
       "  {'user': 'raul_sg90',\n",
       "   'text': '❤️❤️❤️❤️❤️',\n",
       "   'stats': '62wReply',\n",
       "   'scores': {'neg': 0.0, 'neu': 1.0, 'pos': 0.0, 'compound': 0.0}},\n",
       "  {'user': 'starfucker57',\n",
       "   'text': 'You are so beautiful !',\n",
       "   'stats': '62wReply',\n",
       "   'scores': {'neg': 0.0, 'neu': 0.431, 'pos': 0.569, 'compound': 0.7417}},\n",
       "  {'user': 'thebobbrooks',\n",
       "   'text': 'Very cute photo Melissa. I enjoyed visiting with you after the taping a few weeks ago. Best wishes as you are completing the final few tapings. Hang in there. Bob.',\n",
       "   'stats': '62w1 likeReply',\n",
       "   'scores': {'neg': 0.0, 'neu': 0.677, 'pos': 0.323, 'compound': 0.908}},\n",
       "  {'user': 'huibei1',\n",
       "   'text': 'beautiful',\n",
       "   'stats': '62wReply',\n",
       "   'scores': {'neg': 0.0, 'neu': 0.0, 'pos': 1.0, 'compound': 0.5994}},\n",
       "  {'user': 'richardwilhelmhohenzollern',\n",
       "   'text': 'Awesome Mrs. Rauch',\n",
       "   'stats': '62wReply',\n",
       "   'scores': {'neg': 0.0, 'neu': 0.328, 'pos': 0.672, 'compound': 0.6249}},\n",
       "  {'user': 'shivanshprakashpal97',\n",
       "   'text': 'Some 1 is beautiful so 😗😗',\n",
       "   'stats': '62wReply',\n",
       "   'scores': {'neg': 0.0, 'neu': 0.322, 'pos': 0.678, 'compound': 0.9274}},\n",
       "  {'user': 'ibbilidstone',\n",
       "   'text': 'Beautiful girl 🌹💜',\n",
       "   'stats': '61wReply',\n",
       "   'scores': {'neg': 0.0, 'neu': 0.27, 'pos': 0.73, 'compound': 0.8442}},\n",
       "  {'user': 'walden1968',\n",
       "   'text': 'You are so beautiful🔥🔥',\n",
       "   'stats': '61wReply',\n",
       "   'scores': {'neg': 0.401, 'neu': 0.225, 'pos': 0.374, 'compound': 0.1653}},\n",
       "  {'user': 'kirstis_not_so_secret_diary',\n",
       "   'text': 'The cutie that I’m looking at❤️',\n",
       "   'stats': '10wReply',\n",
       "   'scores': {'neg': 0.0, 'neu': 0.737, 'pos': 0.263, 'compound': 0.3612}}]}"
      ]
     },
     "execution_count": 6,
     "metadata": {},
     "output_type": "execute_result"
    }
   ],
   "source": [
    "post_comments_scraper('https://www.instagram.com/p/BvNyVKtlfwN/')"
   ]
  }
 ],
 "metadata": {
  "kernelspec": {
   "display_name": "Python 3",
   "language": "python",
   "name": "python3"
  },
  "language_info": {
   "codemirror_mode": {
    "name": "ipython",
    "version": 3
   },
   "file_extension": ".py",
   "mimetype": "text/x-python",
   "name": "python",
   "nbconvert_exporter": "python",
   "pygments_lexer": "ipython3",
   "version": "3.6.9"
  }
 },
 "nbformat": 4,
 "nbformat_minor": 4
}
