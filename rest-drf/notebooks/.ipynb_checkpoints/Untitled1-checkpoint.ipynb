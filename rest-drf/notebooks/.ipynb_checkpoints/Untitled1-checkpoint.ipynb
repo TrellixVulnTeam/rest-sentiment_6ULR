{
 "cells": [
  {
   "cell_type": "code",
   "execution_count": 1,
   "metadata": {},
   "outputs": [],
   "source": [
    "from selenium import webdriver\n",
    "import time"
   ]
  },
  {
   "cell_type": "code",
   "execution_count": null,
   "metadata": {},
   "outputs": [],
   "source": [
    "link = 'https://www.amazon.com/RUNMUS-Surround-Canceling-Compatible-Controller/dp/B07GRM747Y/ref=cm_cr_arp_d_product_top?ie=UTF8'\n",
    "driver = webdriver.Firefox()\n",
    "driver.get(link)"
   ]
  },
  {
   "cell_type": "code",
   "execution_count": null,
   "metadata": {},
   "outputs": [],
   "source": []
  },
  {
   "cell_type": "code",
   "execution_count": null,
   "metadata": {},
   "outputs": [],
   "source": []
  },
  {
   "cell_type": "code",
   "execution_count": null,
   "metadata": {},
   "outputs": [],
   "source": []
  },
  {
   "cell_type": "code",
   "execution_count": 10,
   "metadata": {},
   "outputs": [],
   "source": [
    "def amzon_comment_extracion(link):\n",
    "    \n",
    "    reviews_texts = []\n",
    "    reveiws_date = []\n",
    "    likes = []\n",
    "    author = []\n",
    "    titles = []\n",
    "    \n",
    "    driver = webdriver.Firefox()\n",
    "    driver.get(link)\n",
    "    time.sleep(1.5)\n",
    "    reviews_btn = driver.find_element_by_xpath('//*[@id=\"reviews-medley-footer\"]/div[2]/a')\n",
    "    reviews_btn.click()\n",
    "    time.sleep(1.5)\n",
    "    comments = driver.find_element_by_xpath('//*[@id=\"cm_cr-review_list\"]').find_elements_by_class_name('review')\n",
    "    for comment in comments:\n",
    "        titles.append(comment.find_element_by_class_name('review-title').text)\n",
    "        author.append(comment.find_element_by_class_name(\"a-profile-name\").text)\n",
    "        reviews_texts.append(comment.find_element_by_class_name(\"review-text-content\").text)\n",
    "        reveiws_date.append(comment.find_element_by_class_name(\"review-date\").text)\n",
    "        likes.append(comment.find_element_by_class_name(\"cr-vote-text\").text)\n",
    "        \n",
    "    result = {'Titles':titles,\n",
    "              \"Authors\":author,\n",
    "              'Date':reveiws_date,\n",
    "              'Helpfulness':likes,\n",
    "              \"Reviews' Texts\": reviews_texts}\n",
    "    driver.close()\n",
    "    return result\n",
    "        "
   ]
  },
  {
   "cell_type": "code",
   "execution_count": 11,
   "metadata": {},
   "outputs": [
    {
     "data": {
      "text/plain": [
       "10"
      ]
     },
     "execution_count": 11,
     "metadata": {},
     "output_type": "execute_result"
    }
   ],
   "source": [
    "link = 'https://www.amazon.com/RUNMUS-Surround-Canceling-Compatible-Controller/dp/B07GRM747Y/ref=cm_cr_arp_d_product_top?ie=UTF8'\n",
    "result = amzon_comment_extracion(link)\n",
    "result"
   ]
  },
  {
   "cell_type": "code",
   "execution_count": null,
   "metadata": {},
   "outputs": [],
   "source": []
  },
  {
   "cell_type": "code",
   "execution_count": null,
   "metadata": {},
   "outputs": [],
   "source": []
  }
 ],
 "metadata": {
  "kernelspec": {
   "display_name": "Python 3",
   "language": "python",
   "name": "python3"
  },
  "language_info": {
   "codemirror_mode": {
    "name": "ipython",
    "version": 3
   },
   "file_extension": ".py",
   "mimetype": "text/x-python",
   "name": "python",
   "nbconvert_exporter": "python",
   "pygments_lexer": "ipython3",
   "version": "3.6.9"
  }
 },
 "nbformat": 4,
 "nbformat_minor": 4
}
