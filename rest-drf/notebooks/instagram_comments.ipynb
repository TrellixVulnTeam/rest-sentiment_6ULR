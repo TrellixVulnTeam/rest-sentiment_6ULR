{
 "cells": [
  {
   "cell_type": "code",
   "execution_count": 1,
   "metadata": {},
   "outputs": [],
   "source": [
    "from selenium import webdriver\n",
    "from selenium.webdriver.firefox.firefox_profile import FirefoxProfile\n",
    "import time\n",
    "from vaderSentiment.vaderSentiment import SentimentIntensityAnalyzer"
   ]
  },
  {
   "cell_type": "code",
   "execution_count": 7,
   "metadata": {},
   "outputs": [],
   "source": [
    "def post_comments_scraper(link):\n",
    "    analyzer = SentimentIntensityAnalyzer()\n",
    "    driver = webdriver.Firefox()\n",
    "    driver.get(link)\n",
    "    time.sleep(1.5)\n",
    "    post_desc = driver.find_element_by_xpath('/html/body/div[1]/section/main/div/div/article/div[2]/div[1]').find_element_by_tag_name('ul').find_element_by_tag_name('div')\n",
    "    comments = driver.find_element_by_xpath('/html/body/div[1]/section/main/div/div/article/div[2]/div[1]').find_element_by_tag_name('ul').find_elements_by_tag_name('ul')\n",
    "    comments_list = []\n",
    "    for comment in comments:\n",
    "        comment = comment.text.split(\"\\n\")\n",
    "        comments_list.append({'user': comment[0],\n",
    "                              'text': comment[1],\n",
    "                              'stats': comment[2],\n",
    "                              'scores': analyzer.polarity_scores(comment[1])})\n",
    "    result = {'link': link,\n",
    "              'user': post_desc.text.split(\"\\n\")[0],\n",
    "              'verification': post_desc.text.split(\"\\n\")[1],\n",
    "              'desc': post_desc.text.split(\"\\n\")[2],\n",
    "              'score': analyzer.polarity_scores(post_desc.text.split(\"\\n\")[2]),\n",
    "              'comments': comments_list}\n",
    "    driver.close()\n",
    "    return(result)    "
   ]
  },
  {
   "cell_type": "code",
   "execution_count": 8,
   "metadata": {},
   "outputs": [
    {
     "data": {
      "text/plain": [
       "{'link': 'https://www.instagram.com/p/BvNyVKtlfwN/',\n",
       " 'user': 'themelissarauch',\n",
       " 'verification': 'Verified',\n",
       " 'desc': 'Mirror, Mirror on the @bigbangtheory_cbs makeup room wall, who is shamelessly taking selfies in you during tape night?',\n",
       " 'score': {'neg': 0.124, 'neu': 0.876, 'pos': 0.0, 'compound': -0.34},\n",
       " 'comments': [{'user': 'sanz_dl',\n",
       "   'text': '😍😍❤️❤️',\n",
       "   'stats': '62wReply',\n",
       "   'scores': {'neg': 0.0, 'neu': 0.625, 'pos': 0.375, 'compound': 0.7184}},\n",
       "  {'user': 'forgereaper',\n",
       "   'text': 'Perfection🙌',\n",
       "   'stats': '62wReply',\n",
       "   'scores': {'neg': 0.0, 'neu': 0.351, 'pos': 0.649, 'compound': 0.5719}},\n",
       "  {'user': 'francisco_marin_1979',\n",
       "   'text': 'TE AMO ❤️❤️❤️❤️❤️',\n",
       "   'stats': '62wReply',\n",
       "   'scores': {'neg': 0.0, 'neu': 1.0, 'pos': 0.0, 'compound': 0.0}},\n",
       "  {'user': 'raul_sg90',\n",
       "   'text': '❤️❤️❤️❤️❤️',\n",
       "   'stats': '62wReply',\n",
       "   'scores': {'neg': 0.0, 'neu': 1.0, 'pos': 0.0, 'compound': 0.0}},\n",
       "  {'user': 'starfucker57',\n",
       "   'text': 'You are so beautiful !',\n",
       "   'stats': '62wReply',\n",
       "   'scores': {'neg': 0.0, 'neu': 0.431, 'pos': 0.569, 'compound': 0.7417}},\n",
       "  {'user': 'thebobbrooks',\n",
       "   'text': 'Very cute photo Melissa. I enjoyed visiting with you after the taping a few weeks ago. Best wishes as you are completing the final few tapings. Hang in there. Bob.',\n",
       "   'stats': '62w1 likeReply',\n",
       "   'scores': {'neg': 0.0, 'neu': 0.677, 'pos': 0.323, 'compound': 0.908}},\n",
       "  {'user': 'huibei1',\n",
       "   'text': 'beautiful',\n",
       "   'stats': '62wReply',\n",
       "   'scores': {'neg': 0.0, 'neu': 0.0, 'pos': 1.0, 'compound': 0.5994}},\n",
       "  {'user': 'richardwilhelmhohenzollern',\n",
       "   'text': 'Awesome Mrs. Rauch',\n",
       "   'stats': '62wReply',\n",
       "   'scores': {'neg': 0.0, 'neu': 0.328, 'pos': 0.672, 'compound': 0.6249}},\n",
       "  {'user': 'shivanshprakashpal97',\n",
       "   'text': 'Some 1 is beautiful so 😗😗',\n",
       "   'stats': '62wReply',\n",
       "   'scores': {'neg': 0.0, 'neu': 0.322, 'pos': 0.678, 'compound': 0.9274}},\n",
       "  {'user': 'ibbilidstone',\n",
       "   'text': 'Beautiful girl 🌹💜',\n",
       "   'stats': '61wReply',\n",
       "   'scores': {'neg': 0.0, 'neu': 0.27, 'pos': 0.73, 'compound': 0.8442}},\n",
       "  {'user': 'walden1968',\n",
       "   'text': 'You are so beautiful🔥🔥',\n",
       "   'stats': '61wReply',\n",
       "   'scores': {'neg': 0.401, 'neu': 0.225, 'pos': 0.374, 'compound': 0.1653}},\n",
       "  {'user': 'kirstis_not_so_secret_diary',\n",
       "   'text': 'The cutie that I’m looking at❤️',\n",
       "   'stats': '10wReply',\n",
       "   'scores': {'neg': 0.0, 'neu': 0.737, 'pos': 0.263, 'compound': 0.3612}}]}"
      ]
     },
     "execution_count": 8,
     "metadata": {},
     "output_type": "execute_result"
    }
   ],
   "source": [
    "post_comments_scraper('https://www.instagram.com/p/BvNyVKtlfwN/')"
   ]
  },
  {
   "cell_type": "code",
   "execution_count": 11,
   "metadata": {},
   "outputs": [
    {
     "data": {
      "text/plain": [
       "{'link': 'https://www.instagram.com/p/BvS-d17lSAI/',\n",
       " 'user': 'themelissarauch',\n",
       " 'verification': 'Verified',\n",
       " 'desc': 'Saw these double rainbows on the first day of spring yesterday, but was too busy trying to climb over them to post. 🌈🌈',\n",
       " 'score': {'neg': 0.0, 'neu': 1.0, 'pos': 0.0, 'compound': 0.0},\n",
       " 'comments': [{'user': 'calvteh',\n",
       "   'text': 'You shoulda posted a youtube video of a double rainbow and cry behind the camera like that over sensitive guy hehe',\n",
       "   'stats': '62wReply',\n",
       "   'scores': {'neg': 0.126, 'neu': 0.772, 'pos': 0.102, 'compound': -0.1531}},\n",
       "  {'user': 'huibei1',\n",
       "   'text': 'good',\n",
       "   'stats': '62wReply',\n",
       "   'scores': {'neg': 0.0, 'neu': 0.0, 'pos': 1.0, 'compound': 0.4404}},\n",
       "  {'user': 'strawberryxaesthetic',\n",
       "   'text': 'Can someone tell me how it is the first day of spring for you guys in the US, in the middle of March? In Australia, the seasons change on the first \"officially\" for us??',\n",
       "   'stats': '62wReply',\n",
       "   'scores': {'neg': 0.0, 'neu': 1.0, 'pos': 0.0, 'compound': 0.0}},\n",
       "  {'user': 'katrinalynn84',\n",
       "   'text': '😍',\n",
       "   'stats': '62wReply',\n",
       "   'scores': {'neg': 0.0, 'neu': 0.5, 'pos': 0.5, 'compound': 0.4588}},\n",
       "  {'user': 'neeneetofamily',\n",
       "   'text': 'Beautiful',\n",
       "   'stats': '62wReply',\n",
       "   'scores': {'neg': 0.0, 'neu': 0.0, 'pos': 1.0, 'compound': 0.5994}},\n",
       "  {'user': 'drlnrichard',\n",
       "   'text': 'His promise to us never to flood us again....giving us Gentiles a chance.....',\n",
       "   'stats': '62wReply',\n",
       "   'scores': {'neg': 0.0, 'neu': 0.719, 'pos': 0.281, 'compound': 0.5106}},\n",
       "  {'user': 'cmnstudios',\n",
       "   'text': 'Very beautiful!',\n",
       "   'stats': '62wReply',\n",
       "   'scores': {'neg': 0.0, 'neu': 0.182, 'pos': 0.818, 'compound': 0.6689}},\n",
       "  {'user': 'alec_britt',\n",
       "   'text': 'Awesome double rainbow',\n",
       "   'stats': '61wReply',\n",
       "   'scores': {'neg': 0.0, 'neu': 0.328, 'pos': 0.672, 'compound': 0.6249}},\n",
       "  {'user': 'mark.meader',\n",
       "   'text': 'A promise from God that he will never again destroy the earth!',\n",
       "   'stats': '58wReply',\n",
       "   'scores': {'neg': 0.0, 'neu': 0.544, 'pos': 0.456, 'compound': 0.7609}},\n",
       "  {'user': 'sylvianedelvalle',\n",
       "   'text': '💖💛💜💚💖💛💚💜❤💚💜❤❤❤❤❤❤❤❤❤❤❤❤❤❤❤❤🙏🙏🙏❤❤❤🙏🙏🙏',\n",
       "   'stats': '55wReply',\n",
       "   'scores': {'neg': 0.0, 'neu': 0.235, 'pos': 0.765, 'compound': 0.9992}},\n",
       "  {'user': 'macbainava',\n",
       "   'text': 'So pritty',\n",
       "   'stats': '53wReply',\n",
       "   'scores': {'neg': 0.0, 'neu': 1.0, 'pos': 0.0, 'compound': 0.0}},\n",
       "  {'user': 'emilyeades927',\n",
       "   'text': \"This is Beautiful 😍 I haven't seen a double rainbow before 😊 Everything rainbow makes me think of The Rainbow Baby I'm hoping to have one day 🌈👼\",\n",
       "   'stats': '19wReply',\n",
       "   'scores': {'neg': 0.0, 'neu': 0.671, 'pos': 0.329, 'compound': 0.9403}}]}"
      ]
     },
     "execution_count": 11,
     "metadata": {},
     "output_type": "execute_result"
    }
   ],
   "source": [
    "post_comments_scraper('https://www.instagram.com/p/BvS-d17lSAI/')"
   ]
  },
  {
   "cell_type": "code",
   "execution_count": 13,
   "metadata": {},
   "outputs": [
    {
     "ename": "IndexError",
     "evalue": "list index out of range",
     "output_type": "error",
     "traceback": [
      "\u001b[0;31m---------------------------------------------------------------------------\u001b[0m",
      "\u001b[0;31mIndexError\u001b[0m                                Traceback (most recent call last)",
      "\u001b[0;32m<ipython-input-13-98636670161b>\u001b[0m in \u001b[0;36m<module>\u001b[0;34m\u001b[0m\n\u001b[0;32m----> 1\u001b[0;31m \u001b[0mpost_comments_scraper\u001b[0m\u001b[0;34m(\u001b[0m\u001b[0;34m'https://www.instagram.com/p/Bv2FK3QHolv/'\u001b[0m\u001b[0;34m)\u001b[0m\u001b[0;34m\u001b[0m\u001b[0;34m\u001b[0m\u001b[0m\n\u001b[0m",
      "\u001b[0;32m<ipython-input-7-ef65e2e534d5>\u001b[0m in \u001b[0;36mpost_comments_scraper\u001b[0;34m(link)\u001b[0m\n\u001b[1;32m     10\u001b[0m         \u001b[0mcomment\u001b[0m \u001b[0;34m=\u001b[0m \u001b[0mcomment\u001b[0m\u001b[0;34m.\u001b[0m\u001b[0mtext\u001b[0m\u001b[0;34m.\u001b[0m\u001b[0msplit\u001b[0m\u001b[0;34m(\u001b[0m\u001b[0;34m\"\\n\"\u001b[0m\u001b[0;34m)\u001b[0m\u001b[0;34m\u001b[0m\u001b[0;34m\u001b[0m\u001b[0m\n\u001b[1;32m     11\u001b[0m         comments_list.append({'user': comment[0],\n\u001b[0;32m---> 12\u001b[0;31m                               \u001b[0;34m'text'\u001b[0m\u001b[0;34m:\u001b[0m \u001b[0mcomment\u001b[0m\u001b[0;34m[\u001b[0m\u001b[0;36m1\u001b[0m\u001b[0;34m]\u001b[0m\u001b[0;34m,\u001b[0m\u001b[0;34m\u001b[0m\u001b[0;34m\u001b[0m\u001b[0m\n\u001b[0m\u001b[1;32m     13\u001b[0m                               \u001b[0;34m'stats'\u001b[0m\u001b[0;34m:\u001b[0m \u001b[0mcomment\u001b[0m\u001b[0;34m[\u001b[0m\u001b[0;36m2\u001b[0m\u001b[0;34m]\u001b[0m\u001b[0;34m,\u001b[0m\u001b[0;34m\u001b[0m\u001b[0;34m\u001b[0m\u001b[0m\n\u001b[1;32m     14\u001b[0m                               'scores': analyzer.polarity_scores(comment[1])})\n",
      "\u001b[0;31mIndexError\u001b[0m: list index out of range"
     ]
    }
   ],
   "source": [
    "post_comments_scraper('https://www.instagram.com/p/Bv2FK3QHolv/')"
   ]
  },
  {
   "cell_type": "code",
   "execution_count": null,
   "metadata": {},
   "outputs": [],
   "source": []
  }
 ],
 "metadata": {
  "kernelspec": {
   "display_name": "Python 3",
   "language": "python",
   "name": "python3"
  },
  "language_info": {
   "codemirror_mode": {
    "name": "ipython",
    "version": 3
   },
   "file_extension": ".py",
   "mimetype": "text/x-python",
   "name": "python",
   "nbconvert_exporter": "python",
   "pygments_lexer": "ipython3",
   "version": "3.6.9"
  }
 },
 "nbformat": 4,
 "nbformat_minor": 4
}
